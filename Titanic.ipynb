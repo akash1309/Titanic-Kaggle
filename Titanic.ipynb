{
  "nbformat": 4,
  "nbformat_minor": 0,
  "metadata": {
    "colab": {
      "name": "Titanic.ipynb",
      "provenance": [],
      "toc_visible": true,
      "mount_file_id": "1x22gNO1ZtozKdPK5Mn1gvEQNW9-nUQCt",
      "authorship_tag": "ABX9TyM18Lib6a6+pIDWPE7FrfY9"
    },
    "kernelspec": {
      "name": "python3",
      "display_name": "Python 3"
    }
  },
  "cells": [
    {
      "cell_type": "markdown",
      "metadata": {
        "id": "l6U_onxMzNG-",
        "colab_type": "text"
      },
      "source": [
        "# Titanic - Machine Learning from Disaster\n",
        "\n",
        "The competition is simple: use machine learning to create a model that predicts which passengers survived the Titanic shipwreck.\n",
        "\n",
        "Link to contest : https://www.kaggle.com/c/titanic/overview/description"
      ]
    },
    {
      "cell_type": "markdown",
      "metadata": {
        "id": "sVaWwMxpzsT6",
        "colab_type": "text"
      },
      "source": [
        "## 1) Importing the libraries"
      ]
    },
    {
      "cell_type": "code",
      "metadata": {
        "id": "807yuBAtzKt-",
        "colab_type": "code",
        "outputId": "2febd304-4168-4c12-c955-c82fd3a45948",
        "colab": {
          "base_uri": "https://localhost:8080/",
          "height": 71
        }
      },
      "source": [
        "import numpy as np\n",
        "import pandas as pd\n",
        "import matplotlib.pyplot as plt\n",
        "import torch\n",
        "import torch.nn as nn\n",
        "import xgboost as xgb\n",
        "import seaborn as sns\n",
        "sns.set(style=\"darkgrid\")\n",
        "\n",
        "import warnings\n",
        "warnings.filterwarnings('ignore')"
      ],
      "execution_count": 1,
      "outputs": [
        {
          "output_type": "stream",
          "text": [
            "/usr/local/lib/python3.6/dist-packages/statsmodels/tools/_testing.py:19: FutureWarning: pandas.util.testing is deprecated. Use the functions in the public API at pandas.testing instead.\n",
            "  import pandas.util.testing as tm\n"
          ],
          "name": "stderr"
        }
      ]
    },
    {
      "cell_type": "markdown",
      "metadata": {
        "id": "4D-UEPjn0Ahw",
        "colab_type": "text"
      },
      "source": [
        "## 2) Data Preprocessing"
      ]
    },
    {
      "cell_type": "markdown",
      "metadata": {
        "id": "xLhVb2JH1W3C",
        "colab_type": "text"
      },
      "source": [
        "* **Data Dictionary**\n",
        "\n",
        "- survival ---\tSurvival\t0 = No, 1 = Yes\n",
        "- pclass\t ---   Ticket class\t1 = 1st, 2 = 2nd, 3 = 3rd\n",
        "- sex\t     ---   Sex\t\n",
        "- Age\t     ---   Age in years\t\n",
        "- sibsp    ---  \t# of siblings / spouses aboard the Titanic\t\n",
        "- parch    --- \t# of parents / children aboard the Titanic\t\n",
        "- ticket\t ---   Ticket number\t\n",
        "- fare\t   ---   Passenger fare\t\n",
        "- cabin    --- \tCabin number\t\n",
        "- embarked --- \tPort of Embarkation\tC = Cherbourg, Q =  Queenstown, S = Southampton"
      ]
    },
    {
      "cell_type": "markdown",
      "metadata": {
        "id": "H_-kfjfc0kuw",
        "colab_type": "text"
      },
      "source": [
        "- Variable Notes\n",
        "* pclass: A proxy for socio-economic status (SES)<br>\n",
        "1st = Upper<br>\n",
        "2nd = Middle<br>\n",
        "3rd = Lower<br>\n",
        "\n",
        "* age: Age is fractional if less than 1. If the age is estimated, is it in the form of xx.5\n",
        "\n",
        "* sibsp: The dataset defines family relations in this way...<br>\n",
        "Sibling = brother, sister, stepbrother, stepsister<br>\n",
        "Spouse = husband, wife (mistresses and fiancés were ignored)\n",
        "\n",
        "* parch: The dataset defines family relations in this way...<br>\n",
        "Parent = mother, father<br>\n",
        "Child = daughter, son, stepdaughter, stepson<br>\n",
        "Some children travelled only with a nanny, therefore parch=0 for them."
      ]
    },
    {
      "cell_type": "code",
      "metadata": {
        "id": "nvbmZUJnz_To",
        "colab_type": "code",
        "outputId": "81d9ccb3-fdf6-429a-ff45-ea0f5d6da9f2",
        "colab": {
          "base_uri": "https://localhost:8080/",
          "height": 255
        }
      },
      "source": [
        "# For train\n",
        "\n",
        "df_train = pd.read_csv('drive/My Drive/Pytorch_DataSet/Titanic Data/train.csv')\n",
        "df_train.head()"
      ],
      "execution_count": 2,
      "outputs": [
        {
          "output_type": "execute_result",
          "data": {
            "text/html": [
              "<div>\n",
              "<style scoped>\n",
              "    .dataframe tbody tr th:only-of-type {\n",
              "        vertical-align: middle;\n",
              "    }\n",
              "\n",
              "    .dataframe tbody tr th {\n",
              "        vertical-align: top;\n",
              "    }\n",
              "\n",
              "    .dataframe thead th {\n",
              "        text-align: right;\n",
              "    }\n",
              "</style>\n",
              "<table border=\"1\" class=\"dataframe\">\n",
              "  <thead>\n",
              "    <tr style=\"text-align: right;\">\n",
              "      <th></th>\n",
              "      <th>PassengerId</th>\n",
              "      <th>Survived</th>\n",
              "      <th>Pclass</th>\n",
              "      <th>Name</th>\n",
              "      <th>Sex</th>\n",
              "      <th>Age</th>\n",
              "      <th>SibSp</th>\n",
              "      <th>Parch</th>\n",
              "      <th>Ticket</th>\n",
              "      <th>Fare</th>\n",
              "      <th>Cabin</th>\n",
              "      <th>Embarked</th>\n",
              "    </tr>\n",
              "  </thead>\n",
              "  <tbody>\n",
              "    <tr>\n",
              "      <th>0</th>\n",
              "      <td>1</td>\n",
              "      <td>0</td>\n",
              "      <td>3</td>\n",
              "      <td>Braund, Mr. Owen Harris</td>\n",
              "      <td>male</td>\n",
              "      <td>22.0</td>\n",
              "      <td>1</td>\n",
              "      <td>0</td>\n",
              "      <td>A/5 21171</td>\n",
              "      <td>7.2500</td>\n",
              "      <td>NaN</td>\n",
              "      <td>S</td>\n",
              "    </tr>\n",
              "    <tr>\n",
              "      <th>1</th>\n",
              "      <td>2</td>\n",
              "      <td>1</td>\n",
              "      <td>1</td>\n",
              "      <td>Cumings, Mrs. John Bradley (Florence Briggs Th...</td>\n",
              "      <td>female</td>\n",
              "      <td>38.0</td>\n",
              "      <td>1</td>\n",
              "      <td>0</td>\n",
              "      <td>PC 17599</td>\n",
              "      <td>71.2833</td>\n",
              "      <td>C85</td>\n",
              "      <td>C</td>\n",
              "    </tr>\n",
              "    <tr>\n",
              "      <th>2</th>\n",
              "      <td>3</td>\n",
              "      <td>1</td>\n",
              "      <td>3</td>\n",
              "      <td>Heikkinen, Miss. Laina</td>\n",
              "      <td>female</td>\n",
              "      <td>26.0</td>\n",
              "      <td>0</td>\n",
              "      <td>0</td>\n",
              "      <td>STON/O2. 3101282</td>\n",
              "      <td>7.9250</td>\n",
              "      <td>NaN</td>\n",
              "      <td>S</td>\n",
              "    </tr>\n",
              "    <tr>\n",
              "      <th>3</th>\n",
              "      <td>4</td>\n",
              "      <td>1</td>\n",
              "      <td>1</td>\n",
              "      <td>Futrelle, Mrs. Jacques Heath (Lily May Peel)</td>\n",
              "      <td>female</td>\n",
              "      <td>35.0</td>\n",
              "      <td>1</td>\n",
              "      <td>0</td>\n",
              "      <td>113803</td>\n",
              "      <td>53.1000</td>\n",
              "      <td>C123</td>\n",
              "      <td>S</td>\n",
              "    </tr>\n",
              "    <tr>\n",
              "      <th>4</th>\n",
              "      <td>5</td>\n",
              "      <td>0</td>\n",
              "      <td>3</td>\n",
              "      <td>Allen, Mr. William Henry</td>\n",
              "      <td>male</td>\n",
              "      <td>35.0</td>\n",
              "      <td>0</td>\n",
              "      <td>0</td>\n",
              "      <td>373450</td>\n",
              "      <td>8.0500</td>\n",
              "      <td>NaN</td>\n",
              "      <td>S</td>\n",
              "    </tr>\n",
              "  </tbody>\n",
              "</table>\n",
              "</div>"
            ],
            "text/plain": [
              "   PassengerId  Survived  Pclass  ...     Fare Cabin  Embarked\n",
              "0            1         0       3  ...   7.2500   NaN         S\n",
              "1            2         1       1  ...  71.2833   C85         C\n",
              "2            3         1       3  ...   7.9250   NaN         S\n",
              "3            4         1       1  ...  53.1000  C123         S\n",
              "4            5         0       3  ...   8.0500   NaN         S\n",
              "\n",
              "[5 rows x 12 columns]"
            ]
          },
          "metadata": {
            "tags": []
          },
          "execution_count": 2
        }
      ]
    },
    {
      "cell_type": "code",
      "metadata": {
        "id": "fbSxYTmKhb48",
        "colab_type": "code",
        "outputId": "232742cf-1713-4283-a056-7d00b00c1357",
        "colab": {
          "base_uri": "https://localhost:8080/",
          "height": 204
        }
      },
      "source": [
        "# For test \n",
        "\n",
        "df_test = pd.read_csv('drive/My Drive/Pytorch_DataSet/Titanic Data/test.csv')\n",
        "df_test.head()"
      ],
      "execution_count": 3,
      "outputs": [
        {
          "output_type": "execute_result",
          "data": {
            "text/html": [
              "<div>\n",
              "<style scoped>\n",
              "    .dataframe tbody tr th:only-of-type {\n",
              "        vertical-align: middle;\n",
              "    }\n",
              "\n",
              "    .dataframe tbody tr th {\n",
              "        vertical-align: top;\n",
              "    }\n",
              "\n",
              "    .dataframe thead th {\n",
              "        text-align: right;\n",
              "    }\n",
              "</style>\n",
              "<table border=\"1\" class=\"dataframe\">\n",
              "  <thead>\n",
              "    <tr style=\"text-align: right;\">\n",
              "      <th></th>\n",
              "      <th>PassengerId</th>\n",
              "      <th>Pclass</th>\n",
              "      <th>Name</th>\n",
              "      <th>Sex</th>\n",
              "      <th>Age</th>\n",
              "      <th>SibSp</th>\n",
              "      <th>Parch</th>\n",
              "      <th>Ticket</th>\n",
              "      <th>Fare</th>\n",
              "      <th>Cabin</th>\n",
              "      <th>Embarked</th>\n",
              "    </tr>\n",
              "  </thead>\n",
              "  <tbody>\n",
              "    <tr>\n",
              "      <th>0</th>\n",
              "      <td>892</td>\n",
              "      <td>3</td>\n",
              "      <td>Kelly, Mr. James</td>\n",
              "      <td>male</td>\n",
              "      <td>34.5</td>\n",
              "      <td>0</td>\n",
              "      <td>0</td>\n",
              "      <td>330911</td>\n",
              "      <td>7.8292</td>\n",
              "      <td>NaN</td>\n",
              "      <td>Q</td>\n",
              "    </tr>\n",
              "    <tr>\n",
              "      <th>1</th>\n",
              "      <td>893</td>\n",
              "      <td>3</td>\n",
              "      <td>Wilkes, Mrs. James (Ellen Needs)</td>\n",
              "      <td>female</td>\n",
              "      <td>47.0</td>\n",
              "      <td>1</td>\n",
              "      <td>0</td>\n",
              "      <td>363272</td>\n",
              "      <td>7.0000</td>\n",
              "      <td>NaN</td>\n",
              "      <td>S</td>\n",
              "    </tr>\n",
              "    <tr>\n",
              "      <th>2</th>\n",
              "      <td>894</td>\n",
              "      <td>2</td>\n",
              "      <td>Myles, Mr. Thomas Francis</td>\n",
              "      <td>male</td>\n",
              "      <td>62.0</td>\n",
              "      <td>0</td>\n",
              "      <td>0</td>\n",
              "      <td>240276</td>\n",
              "      <td>9.6875</td>\n",
              "      <td>NaN</td>\n",
              "      <td>Q</td>\n",
              "    </tr>\n",
              "    <tr>\n",
              "      <th>3</th>\n",
              "      <td>895</td>\n",
              "      <td>3</td>\n",
              "      <td>Wirz, Mr. Albert</td>\n",
              "      <td>male</td>\n",
              "      <td>27.0</td>\n",
              "      <td>0</td>\n",
              "      <td>0</td>\n",
              "      <td>315154</td>\n",
              "      <td>8.6625</td>\n",
              "      <td>NaN</td>\n",
              "      <td>S</td>\n",
              "    </tr>\n",
              "    <tr>\n",
              "      <th>4</th>\n",
              "      <td>896</td>\n",
              "      <td>3</td>\n",
              "      <td>Hirvonen, Mrs. Alexander (Helga E Lindqvist)</td>\n",
              "      <td>female</td>\n",
              "      <td>22.0</td>\n",
              "      <td>1</td>\n",
              "      <td>1</td>\n",
              "      <td>3101298</td>\n",
              "      <td>12.2875</td>\n",
              "      <td>NaN</td>\n",
              "      <td>S</td>\n",
              "    </tr>\n",
              "  </tbody>\n",
              "</table>\n",
              "</div>"
            ],
            "text/plain": [
              "   PassengerId  Pclass  ... Cabin Embarked\n",
              "0          892       3  ...   NaN        Q\n",
              "1          893       3  ...   NaN        S\n",
              "2          894       2  ...   NaN        Q\n",
              "3          895       3  ...   NaN        S\n",
              "4          896       3  ...   NaN        S\n",
              "\n",
              "[5 rows x 11 columns]"
            ]
          },
          "metadata": {
            "tags": []
          },
          "execution_count": 3
        }
      ]
    },
    {
      "cell_type": "code",
      "metadata": {
        "id": "jC4NBrOoao7Y",
        "colab_type": "code",
        "colab": {}
      },
      "source": [
        ""
      ],
      "execution_count": 0,
      "outputs": []
    },
    {
      "cell_type": "code",
      "metadata": {
        "id": "RocR2G24K3Rw",
        "colab_type": "code",
        "colab": {}
      },
      "source": [
        "def title_corr(t):\n",
        "    newt = t\n",
        "    if t == 'Mrs' or t == 'Mr' or t == 'Miss':\n",
        "        return newt\n",
        "    elif t == 'Capt' or t == 'Col' or t == 'Major' or t == 'Dr' or t == 'Rev':\n",
        "        newt = 'Crew'\n",
        "    elif t == 'Jonkheer' or t == 'Sir' or t == 'the Countess' or t == 'Lady' or t == 'Master':\n",
        "        newt = 'Noble'\n",
        "    elif t == 'Don':\n",
        "        newt = 'Mr'\n",
        "    elif t == 'Dona' or t == 'Ms' or t == 'Mme':\n",
        "        newt = 'Mrs'\n",
        "    elif t == 'Mlle':\n",
        "        newt = 'Miss'\n",
        "    else: print(\"Title not included:\", t)\n",
        "    return newt\n",
        "\n",
        "# Extract the titles from the name and put them in a list, then correct them\n",
        "\n",
        "# Train data\n",
        "\n",
        "train_titles = list()\n",
        "for name in df_train[\"Name\"]:\n",
        "    train_titles.append(name.split(',')[1].split('.')[0].strip())\n",
        "for i in range(len(train_titles)):\n",
        "    train_titles[i] = title_corr(train_titles[i])\n",
        "df_train[\"Titles\"] = train_titles\n",
        "\n",
        "# Test set \n",
        "\n",
        "test_titles = list()\n",
        "for name in df_test[\"Name\"]:\n",
        "    test_titles.append(name.split(',')[1].split('.')[0].strip())\n",
        "for i in range(len(test_titles)):\n",
        "    test_titles[i] = title_corr(test_titles[i])\n",
        "df_test[\"Titles\"] = test_titles"
      ],
      "execution_count": 0,
      "outputs": []
    },
    {
      "cell_type": "code",
      "metadata": {
        "id": "iTf7utqCMXMK",
        "colab_type": "code",
        "colab": {}
      },
      "source": [
        "# Train Data\n",
        "\n",
        "df_train['Total Family'] = df_train['SibSp'] + df_train['Parch']\n",
        "\n",
        "# Test Data\n",
        "\n",
        "df_test['Total Family'] = df_test['SibSp'] + df_test['Parch']\n"
      ],
      "execution_count": 0,
      "outputs": []
    },
    {
      "cell_type": "code",
      "metadata": {
        "id": "UUHDQxtoNt8m",
        "colab_type": "code",
        "outputId": "4ef34e9c-1859-42f5-f662-c367dd103d3b",
        "colab": {
          "base_uri": "https://localhost:8080/",
          "height": 297
        }
      },
      "source": [
        "# For train \n",
        "df_train.describe()"
      ],
      "execution_count": 6,
      "outputs": [
        {
          "output_type": "execute_result",
          "data": {
            "text/html": [
              "<div>\n",
              "<style scoped>\n",
              "    .dataframe tbody tr th:only-of-type {\n",
              "        vertical-align: middle;\n",
              "    }\n",
              "\n",
              "    .dataframe tbody tr th {\n",
              "        vertical-align: top;\n",
              "    }\n",
              "\n",
              "    .dataframe thead th {\n",
              "        text-align: right;\n",
              "    }\n",
              "</style>\n",
              "<table border=\"1\" class=\"dataframe\">\n",
              "  <thead>\n",
              "    <tr style=\"text-align: right;\">\n",
              "      <th></th>\n",
              "      <th>PassengerId</th>\n",
              "      <th>Survived</th>\n",
              "      <th>Pclass</th>\n",
              "      <th>Age</th>\n",
              "      <th>SibSp</th>\n",
              "      <th>Parch</th>\n",
              "      <th>Fare</th>\n",
              "      <th>Total Family</th>\n",
              "    </tr>\n",
              "  </thead>\n",
              "  <tbody>\n",
              "    <tr>\n",
              "      <th>count</th>\n",
              "      <td>891.000000</td>\n",
              "      <td>891.000000</td>\n",
              "      <td>891.000000</td>\n",
              "      <td>714.000000</td>\n",
              "      <td>891.000000</td>\n",
              "      <td>891.000000</td>\n",
              "      <td>891.000000</td>\n",
              "      <td>891.000000</td>\n",
              "    </tr>\n",
              "    <tr>\n",
              "      <th>mean</th>\n",
              "      <td>446.000000</td>\n",
              "      <td>0.383838</td>\n",
              "      <td>2.308642</td>\n",
              "      <td>29.699118</td>\n",
              "      <td>0.523008</td>\n",
              "      <td>0.381594</td>\n",
              "      <td>32.204208</td>\n",
              "      <td>0.904602</td>\n",
              "    </tr>\n",
              "    <tr>\n",
              "      <th>std</th>\n",
              "      <td>257.353842</td>\n",
              "      <td>0.486592</td>\n",
              "      <td>0.836071</td>\n",
              "      <td>14.526497</td>\n",
              "      <td>1.102743</td>\n",
              "      <td>0.806057</td>\n",
              "      <td>49.693429</td>\n",
              "      <td>1.613459</td>\n",
              "    </tr>\n",
              "    <tr>\n",
              "      <th>min</th>\n",
              "      <td>1.000000</td>\n",
              "      <td>0.000000</td>\n",
              "      <td>1.000000</td>\n",
              "      <td>0.420000</td>\n",
              "      <td>0.000000</td>\n",
              "      <td>0.000000</td>\n",
              "      <td>0.000000</td>\n",
              "      <td>0.000000</td>\n",
              "    </tr>\n",
              "    <tr>\n",
              "      <th>25%</th>\n",
              "      <td>223.500000</td>\n",
              "      <td>0.000000</td>\n",
              "      <td>2.000000</td>\n",
              "      <td>20.125000</td>\n",
              "      <td>0.000000</td>\n",
              "      <td>0.000000</td>\n",
              "      <td>7.910400</td>\n",
              "      <td>0.000000</td>\n",
              "    </tr>\n",
              "    <tr>\n",
              "      <th>50%</th>\n",
              "      <td>446.000000</td>\n",
              "      <td>0.000000</td>\n",
              "      <td>3.000000</td>\n",
              "      <td>28.000000</td>\n",
              "      <td>0.000000</td>\n",
              "      <td>0.000000</td>\n",
              "      <td>14.454200</td>\n",
              "      <td>0.000000</td>\n",
              "    </tr>\n",
              "    <tr>\n",
              "      <th>75%</th>\n",
              "      <td>668.500000</td>\n",
              "      <td>1.000000</td>\n",
              "      <td>3.000000</td>\n",
              "      <td>38.000000</td>\n",
              "      <td>1.000000</td>\n",
              "      <td>0.000000</td>\n",
              "      <td>31.000000</td>\n",
              "      <td>1.000000</td>\n",
              "    </tr>\n",
              "    <tr>\n",
              "      <th>max</th>\n",
              "      <td>891.000000</td>\n",
              "      <td>1.000000</td>\n",
              "      <td>3.000000</td>\n",
              "      <td>80.000000</td>\n",
              "      <td>8.000000</td>\n",
              "      <td>6.000000</td>\n",
              "      <td>512.329200</td>\n",
              "      <td>10.000000</td>\n",
              "    </tr>\n",
              "  </tbody>\n",
              "</table>\n",
              "</div>"
            ],
            "text/plain": [
              "       PassengerId    Survived  ...        Fare  Total Family\n",
              "count   891.000000  891.000000  ...  891.000000    891.000000\n",
              "mean    446.000000    0.383838  ...   32.204208      0.904602\n",
              "std     257.353842    0.486592  ...   49.693429      1.613459\n",
              "min       1.000000    0.000000  ...    0.000000      0.000000\n",
              "25%     223.500000    0.000000  ...    7.910400      0.000000\n",
              "50%     446.000000    0.000000  ...   14.454200      0.000000\n",
              "75%     668.500000    1.000000  ...   31.000000      1.000000\n",
              "max     891.000000    1.000000  ...  512.329200     10.000000\n",
              "\n",
              "[8 rows x 8 columns]"
            ]
          },
          "metadata": {
            "tags": []
          },
          "execution_count": 6
        }
      ]
    },
    {
      "cell_type": "code",
      "metadata": {
        "id": "11aDvULxZW5Y",
        "colab_type": "code",
        "outputId": "d7e610cc-a942-4e87-bf82-f822f1c837dc",
        "colab": {
          "base_uri": "https://localhost:8080/",
          "height": 297
        }
      },
      "source": [
        "# For test \n",
        "df_test.describe()"
      ],
      "execution_count": 7,
      "outputs": [
        {
          "output_type": "execute_result",
          "data": {
            "text/html": [
              "<div>\n",
              "<style scoped>\n",
              "    .dataframe tbody tr th:only-of-type {\n",
              "        vertical-align: middle;\n",
              "    }\n",
              "\n",
              "    .dataframe tbody tr th {\n",
              "        vertical-align: top;\n",
              "    }\n",
              "\n",
              "    .dataframe thead th {\n",
              "        text-align: right;\n",
              "    }\n",
              "</style>\n",
              "<table border=\"1\" class=\"dataframe\">\n",
              "  <thead>\n",
              "    <tr style=\"text-align: right;\">\n",
              "      <th></th>\n",
              "      <th>PassengerId</th>\n",
              "      <th>Pclass</th>\n",
              "      <th>Age</th>\n",
              "      <th>SibSp</th>\n",
              "      <th>Parch</th>\n",
              "      <th>Fare</th>\n",
              "      <th>Total Family</th>\n",
              "    </tr>\n",
              "  </thead>\n",
              "  <tbody>\n",
              "    <tr>\n",
              "      <th>count</th>\n",
              "      <td>418.000000</td>\n",
              "      <td>418.000000</td>\n",
              "      <td>332.000000</td>\n",
              "      <td>418.000000</td>\n",
              "      <td>418.000000</td>\n",
              "      <td>417.000000</td>\n",
              "      <td>418.000000</td>\n",
              "    </tr>\n",
              "    <tr>\n",
              "      <th>mean</th>\n",
              "      <td>1100.500000</td>\n",
              "      <td>2.265550</td>\n",
              "      <td>30.272590</td>\n",
              "      <td>0.447368</td>\n",
              "      <td>0.392344</td>\n",
              "      <td>35.627188</td>\n",
              "      <td>0.839713</td>\n",
              "    </tr>\n",
              "    <tr>\n",
              "      <th>std</th>\n",
              "      <td>120.810458</td>\n",
              "      <td>0.841838</td>\n",
              "      <td>14.181209</td>\n",
              "      <td>0.896760</td>\n",
              "      <td>0.981429</td>\n",
              "      <td>55.907576</td>\n",
              "      <td>1.519072</td>\n",
              "    </tr>\n",
              "    <tr>\n",
              "      <th>min</th>\n",
              "      <td>892.000000</td>\n",
              "      <td>1.000000</td>\n",
              "      <td>0.170000</td>\n",
              "      <td>0.000000</td>\n",
              "      <td>0.000000</td>\n",
              "      <td>0.000000</td>\n",
              "      <td>0.000000</td>\n",
              "    </tr>\n",
              "    <tr>\n",
              "      <th>25%</th>\n",
              "      <td>996.250000</td>\n",
              "      <td>1.000000</td>\n",
              "      <td>21.000000</td>\n",
              "      <td>0.000000</td>\n",
              "      <td>0.000000</td>\n",
              "      <td>7.895800</td>\n",
              "      <td>0.000000</td>\n",
              "    </tr>\n",
              "    <tr>\n",
              "      <th>50%</th>\n",
              "      <td>1100.500000</td>\n",
              "      <td>3.000000</td>\n",
              "      <td>27.000000</td>\n",
              "      <td>0.000000</td>\n",
              "      <td>0.000000</td>\n",
              "      <td>14.454200</td>\n",
              "      <td>0.000000</td>\n",
              "    </tr>\n",
              "    <tr>\n",
              "      <th>75%</th>\n",
              "      <td>1204.750000</td>\n",
              "      <td>3.000000</td>\n",
              "      <td>39.000000</td>\n",
              "      <td>1.000000</td>\n",
              "      <td>0.000000</td>\n",
              "      <td>31.500000</td>\n",
              "      <td>1.000000</td>\n",
              "    </tr>\n",
              "    <tr>\n",
              "      <th>max</th>\n",
              "      <td>1309.000000</td>\n",
              "      <td>3.000000</td>\n",
              "      <td>76.000000</td>\n",
              "      <td>8.000000</td>\n",
              "      <td>9.000000</td>\n",
              "      <td>512.329200</td>\n",
              "      <td>10.000000</td>\n",
              "    </tr>\n",
              "  </tbody>\n",
              "</table>\n",
              "</div>"
            ],
            "text/plain": [
              "       PassengerId      Pclass  ...        Fare  Total Family\n",
              "count   418.000000  418.000000  ...  417.000000    418.000000\n",
              "mean   1100.500000    2.265550  ...   35.627188      0.839713\n",
              "std     120.810458    0.841838  ...   55.907576      1.519072\n",
              "min     892.000000    1.000000  ...    0.000000      0.000000\n",
              "25%     996.250000    1.000000  ...    7.895800      0.000000\n",
              "50%    1100.500000    3.000000  ...   14.454200      0.000000\n",
              "75%    1204.750000    3.000000  ...   31.500000      1.000000\n",
              "max    1309.000000    3.000000  ...  512.329200     10.000000\n",
              "\n",
              "[8 rows x 7 columns]"
            ]
          },
          "metadata": {
            "tags": []
          },
          "execution_count": 7
        }
      ]
    },
    {
      "cell_type": "code",
      "metadata": {
        "id": "0DdEPEew0Iei",
        "colab_type": "code",
        "outputId": "24ffeb8c-6976-4003-ea2c-42186bdd1203",
        "colab": {
          "base_uri": "https://localhost:8080/",
          "height": 34
        }
      },
      "source": [
        "len(df_train) , len(df_test)"
      ],
      "execution_count": 8,
      "outputs": [
        {
          "output_type": "execute_result",
          "data": {
            "text/plain": [
              "(891, 418)"
            ]
          },
          "metadata": {
            "tags": []
          },
          "execution_count": 8
        }
      ]
    },
    {
      "cell_type": "code",
      "metadata": {
        "id": "vaTGVYSM2Nb6",
        "colab_type": "code",
        "outputId": "41ea1a44-0190-4673-853d-39728782502d",
        "colab": {
          "base_uri": "https://localhost:8080/",
          "height": 272
        }
      },
      "source": [
        "# For train\n",
        "\n",
        "df_train.isnull().sum()"
      ],
      "execution_count": 9,
      "outputs": [
        {
          "output_type": "execute_result",
          "data": {
            "text/plain": [
              "PassengerId       0\n",
              "Survived          0\n",
              "Pclass            0\n",
              "Name              0\n",
              "Sex               0\n",
              "Age             177\n",
              "SibSp             0\n",
              "Parch             0\n",
              "Ticket            0\n",
              "Fare              0\n",
              "Cabin           687\n",
              "Embarked          2\n",
              "Titles            0\n",
              "Total Family      0\n",
              "dtype: int64"
            ]
          },
          "metadata": {
            "tags": []
          },
          "execution_count": 9
        }
      ]
    },
    {
      "cell_type": "code",
      "metadata": {
        "id": "LB6pnuFGiWyg",
        "colab_type": "code",
        "outputId": "c3ae2007-9521-4bd2-b4f7-a4f51a2b6896",
        "colab": {
          "base_uri": "https://localhost:8080/",
          "height": 255
        }
      },
      "source": [
        "# For test\n",
        "\n",
        "df_test.isnull().sum()"
      ],
      "execution_count": 10,
      "outputs": [
        {
          "output_type": "execute_result",
          "data": {
            "text/plain": [
              "PassengerId       0\n",
              "Pclass            0\n",
              "Name              0\n",
              "Sex               0\n",
              "Age              86\n",
              "SibSp             0\n",
              "Parch             0\n",
              "Ticket            0\n",
              "Fare              1\n",
              "Cabin           327\n",
              "Embarked          0\n",
              "Titles            0\n",
              "Total Family      0\n",
              "dtype: int64"
            ]
          },
          "metadata": {
            "tags": []
          },
          "execution_count": 10
        }
      ]
    },
    {
      "cell_type": "code",
      "metadata": {
        "id": "RCiaV7y4LRbV",
        "colab_type": "code",
        "outputId": "edb047b7-b81a-41cb-c892-770b39f30a99",
        "colab": {
          "base_uri": "https://localhost:8080/",
          "height": 336
        }
      },
      "source": [
        "plt.hist(df_train['Age'])"
      ],
      "execution_count": 11,
      "outputs": [
        {
          "output_type": "execute_result",
          "data": {
            "text/plain": [
              "(array([ 54.,  46., 177., 169., 118.,  70.,  45.,  24.,   9.,   2.]),\n",
              " array([ 0.42 ,  8.378, 16.336, 24.294, 32.252, 40.21 , 48.168, 56.126,\n",
              "        64.084, 72.042, 80.   ]),\n",
              " <a list of 10 Patch objects>)"
            ]
          },
          "metadata": {
            "tags": []
          },
          "execution_count": 11
        },
        {
          "output_type": "display_data",
          "data": {
            "image/png": "[encoded data removed]",
            "text/plain": [
              "<Figure size 432x288 with 1 Axes>"
            ]
          },
          "metadata": {
            "tags": [],
            "needs_background": "light"
          }
        }
      ]
    },
    {
      "cell_type": "code",
      "metadata": {
        "id": "9qDvi_ZRLuk3",
        "colab_type": "code",
        "outputId": "41f48e86-e752-4bb8-f4dc-837a57edca2a",
        "colab": {
          "base_uri": "https://localhost:8080/",
          "height": 319
        }
      },
      "source": [
        "plt.hist(df_train['SibSp'])"
      ],
      "execution_count": 12,
      "outputs": [
        {
          "output_type": "execute_result",
          "data": {
            "text/plain": [
              "(array([608., 209.,  28.,  16.,   0.,  18.,   5.,   0.,   0.,   7.]),\n",
              " array([0. , 0.8, 1.6, 2.4, 3.2, 4. , 4.8, 5.6, 6.4, 7.2, 8. ]),\n",
              " <a list of 10 Patch objects>)"
            ]
          },
          "metadata": {
            "tags": []
          },
          "execution_count": 12
        },
        {
          "output_type": "display_data",
          "data": {
            "image/png": "[encoded data removed]",
            "text/plain": [
              "<Figure size 432x288 with 1 Axes>"
            ]
          },
          "metadata": {
            "tags": [],
            "needs_background": "light"
          }
        }
      ]
    },
    {
      "cell_type": "code",
      "metadata": {
        "id": "_b2JdBYvMASy",
        "colab_type": "code",
        "outputId": "a9a08eae-f023-49ec-ab38-8caa76c539f6",
        "colab": {
          "base_uri": "https://localhost:8080/",
          "height": 319
        }
      },
      "source": [
        "plt.hist(df_train['Parch'])"
      ],
      "execution_count": 13,
      "outputs": [
        {
          "output_type": "execute_result",
          "data": {
            "text/plain": [
              "(array([678., 118.,   0.,  80.,   0.,   5.,   4.,   0.,   5.,   1.]),\n",
              " array([0. , 0.6, 1.2, 1.8, 2.4, 3. , 3.6, 4.2, 4.8, 5.4, 6. ]),\n",
              " <a list of 10 Patch objects>)"
            ]
          },
          "metadata": {
            "tags": []
          },
          "execution_count": 13
        },
        {
          "output_type": "display_data",
          "data": {
            "image/png": "[encoded data removed]",
            "text/plain": [
              "<Figure size 432x288 with 1 Axes>"
            ]
          },
          "metadata": {
            "tags": [],
            "needs_background": "light"
          }
        }
      ]
    },
    {
      "cell_type": "code",
      "metadata": {
        "id": "uft0Y9GJ2PwG",
        "colab_type": "code",
        "outputId": "d2588169-f8cb-4058-b337-08d9da6f191e",
        "colab": {
          "base_uri": "https://localhost:8080/",
          "height": 374
        }
      },
      "source": [
        "df_train.info()"
      ],
      "execution_count": 14,
      "outputs": [
        {
          "output_type": "stream",
          "text": [
            "<class 'pandas.core.frame.DataFrame'>\n",
            "RangeIndex: 891 entries, 0 to 890\n",
            "Data columns (total 14 columns):\n",
            " #   Column        Non-Null Count  Dtype  \n",
            "---  ------        --------------  -----  \n",
            " 0   PassengerId   891 non-null    int64  \n",
            " 1   Survived      891 non-null    int64  \n",
            " 2   Pclass        891 non-null    int64  \n",
            " 3   Name          891 non-null    object \n",
            " 4   Sex           891 non-null    object \n",
            " 5   Age           714 non-null    float64\n",
            " 6   SibSp         891 non-null    int64  \n",
            " 7   Parch         891 non-null    int64  \n",
            " 8   Ticket        891 non-null    object \n",
            " 9   Fare          891 non-null    float64\n",
            " 10  Cabin         204 non-null    object \n",
            " 11  Embarked      889 non-null    object \n",
            " 12  Titles        891 non-null    object \n",
            " 13  Total Family  891 non-null    int64  \n",
            "dtypes: float64(2), int64(6), object(6)\n",
            "memory usage: 97.6+ KB\n"
          ],
          "name": "stdout"
        }
      ]
    },
    {
      "cell_type": "markdown",
      "metadata": {
        "id": "dJFqmPWi4z_C",
        "colab_type": "text"
      },
      "source": [
        "- Here, we can see that Cabin has got about 80-85% null values.So, it can be removed.\n",
        "- Moreover, Name and Ticket are not good parameters for training.\n",
        "- Therefore, these columns can be removed."
      ]
    },
    {
      "cell_type": "code",
      "metadata": {
        "id": "1OCGurv4Y2sf",
        "colab_type": "code",
        "outputId": "c4ba6cc6-bc05-4e73-e26f-bac1d452be8e",
        "colab": {
          "base_uri": "https://localhost:8080/",
          "height": 54
        }
      },
      "source": [
        "\"\"\"\n",
        "# For train\n",
        "\n",
        "df_train['Cabin'] = df_train['Cabin'].fillna('Unknow')\n",
        "df_train['Cabin2'] = df_train['Cabin'].apply(lambda x : len(x))\n",
        "\n",
        "# For test\n",
        "\n",
        "df_test['Cabin'] = df_test['Cabin'].fillna('Unknow')\n",
        "df_test['Cabin2'] = df_test['Cabin'].apply(lambda x : len(x))\n",
        "\"\"\""
      ],
      "execution_count": 15,
      "outputs": [
        {
          "output_type": "execute_result",
          "data": {
            "text/plain": [
              "\"\\n# For train\\n\\ndf_train['Cabin'] = df_train['Cabin'].fillna('Unknow')\\ndf_train['Cabin2'] = df_train['Cabin'].apply(lambda x : len(x))\\n\\n# For test\\n\\ndf_test['Cabin'] = df_test['Cabin'].fillna('Unknow')\\ndf_test['Cabin2'] = df_test['Cabin'].apply(lambda x : len(x))\\n\""
            ]
          },
          "metadata": {
            "tags": []
          },
          "execution_count": 15
        }
      ]
    },
    {
      "cell_type": "code",
      "metadata": {
        "id": "tQsPfRiSb1Hc",
        "colab_type": "code",
        "colab": {}
      },
      "source": [
        "#sns.barplot('Cabin2','Survived',data=df_train)"
      ],
      "execution_count": 0,
      "outputs": []
    },
    {
      "cell_type": "code",
      "metadata": {
        "id": "6lMFBIan5hL-",
        "colab_type": "code",
        "outputId": "bd4e2abe-30f2-4b68-a2a5-2e9db873b192",
        "colab": {
          "base_uri": "https://localhost:8080/",
          "height": 374
        }
      },
      "source": [
        "df_train.info()"
      ],
      "execution_count": 17,
      "outputs": [
        {
          "output_type": "stream",
          "text": [
            "<class 'pandas.core.frame.DataFrame'>\n",
            "RangeIndex: 891 entries, 0 to 890\n",
            "Data columns (total 14 columns):\n",
            " #   Column        Non-Null Count  Dtype  \n",
            "---  ------        --------------  -----  \n",
            " 0   PassengerId   891 non-null    int64  \n",
            " 1   Survived      891 non-null    int64  \n",
            " 2   Pclass        891 non-null    int64  \n",
            " 3   Name          891 non-null    object \n",
            " 4   Sex           891 non-null    object \n",
            " 5   Age           714 non-null    float64\n",
            " 6   SibSp         891 non-null    int64  \n",
            " 7   Parch         891 non-null    int64  \n",
            " 8   Ticket        891 non-null    object \n",
            " 9   Fare          891 non-null    float64\n",
            " 10  Cabin         204 non-null    object \n",
            " 11  Embarked      889 non-null    object \n",
            " 12  Titles        891 non-null    object \n",
            " 13  Total Family  891 non-null    int64  \n",
            "dtypes: float64(2), int64(6), object(6)\n",
            "memory usage: 97.6+ KB\n"
          ],
          "name": "stdout"
        }
      ]
    },
    {
      "cell_type": "code",
      "metadata": {
        "id": "3XesBCtT5ifB",
        "colab_type": "code",
        "outputId": "7e2ceaa3-0adc-4188-a9d8-e5e3875ad7cd",
        "colab": {
          "base_uri": "https://localhost:8080/",
          "height": 272
        }
      },
      "source": [
        "df_train.isnull().sum()"
      ],
      "execution_count": 18,
      "outputs": [
        {
          "output_type": "execute_result",
          "data": {
            "text/plain": [
              "PassengerId       0\n",
              "Survived          0\n",
              "Pclass            0\n",
              "Name              0\n",
              "Sex               0\n",
              "Age             177\n",
              "SibSp             0\n",
              "Parch             0\n",
              "Ticket            0\n",
              "Fare              0\n",
              "Cabin           687\n",
              "Embarked          2\n",
              "Titles            0\n",
              "Total Family      0\n",
              "dtype: int64"
            ]
          },
          "metadata": {
            "tags": []
          },
          "execution_count": 18
        }
      ]
    },
    {
      "cell_type": "code",
      "metadata": {
        "id": "pT1KmHJMj4wg",
        "colab_type": "code",
        "outputId": "89c526cd-7f26-444d-bc5a-b51b178af474",
        "colab": {
          "base_uri": "https://localhost:8080/",
          "height": 255
        }
      },
      "source": [
        "df_test.isnull().sum()"
      ],
      "execution_count": 19,
      "outputs": [
        {
          "output_type": "execute_result",
          "data": {
            "text/plain": [
              "PassengerId       0\n",
              "Pclass            0\n",
              "Name              0\n",
              "Sex               0\n",
              "Age              86\n",
              "SibSp             0\n",
              "Parch             0\n",
              "Ticket            0\n",
              "Fare              1\n",
              "Cabin           327\n",
              "Embarked          0\n",
              "Titles            0\n",
              "Total Family      0\n",
              "dtype: int64"
            ]
          },
          "metadata": {
            "tags": []
          },
          "execution_count": 19
        }
      ]
    },
    {
      "cell_type": "code",
      "metadata": {
        "id": "y6rQVM8EjgLs",
        "colab_type": "code",
        "colab": {}
      },
      "source": [
        "# For train \n",
        "\n",
        "df_train = df_train.drop('Name',axis=1)\n",
        "df_train = df_train.drop('Ticket',axis=1)\n",
        "df_train = df_train.drop('Cabin',axis=1)\n",
        "df_train['Age'].fillna(df_train['Age'].median(),inplace=True)\n",
        "df_train['Embarked'].fillna('S',inplace=True)\n",
        "\n",
        "# For test\n",
        "\n",
        "df_test['Fare'].fillna(df_test['Fare'].median(),inplace=True)\n",
        "df_test = df_test.drop('Name',axis=1)\n",
        "df_test = df_test.drop('Ticket',axis=1)\n",
        "df_test = df_test.drop('Cabin',axis=1)\n",
        "df_test['Age'].fillna(df_test['Age'].median(),inplace=True)"
      ],
      "execution_count": 0,
      "outputs": []
    },
    {
      "cell_type": "code",
      "metadata": {
        "id": "wjlrOscN5knd",
        "colab_type": "code",
        "outputId": "f32a6f0b-9491-40d0-ce7f-7ba0680a0993",
        "colab": {
          "base_uri": "https://localhost:8080/",
          "height": 34
        }
      },
      "source": [
        "# Converting the Object datatype into Category type\n",
        "\n",
        "cat_cols = []\n",
        "for col in df_train.columns:\n",
        "  if df_train[col].dtype == 'O':\n",
        "    cat_cols.append(col)\n",
        "\n",
        "print(cat_cols)    "
      ],
      "execution_count": 21,
      "outputs": [
        {
          "output_type": "stream",
          "text": [
            "['Sex', 'Embarked', 'Titles']\n"
          ],
          "name": "stdout"
        }
      ]
    },
    {
      "cell_type": "code",
      "metadata": {
        "id": "V9xZ7jdD58xI",
        "colab_type": "code",
        "outputId": "58fc7538-4c94-4796-fa57-0e5ffb6b5476",
        "colab": {
          "base_uri": "https://localhost:8080/",
          "height": 34
        }
      },
      "source": [
        "# For Train\n",
        "# Cat cols gives different values for categorical data. lIKE it will give 0 to \"akash\" in train set but can give 1 to \"akash\" in test set\n",
        "\n",
        "\"\"\"\n",
        "for col in cat_cols:\n",
        "  df_train[col] = df_train[col].astype('category')\n",
        "\n",
        "# For Test\n",
        "\n",
        "for col in cat_cols:\n",
        "  df_test[col] = df_test[col].astype('category')\n",
        "\"\"\"\n",
        "print(cat_cols)\n",
        "\n",
        "from sklearn.preprocessing import LabelEncoder\n",
        "\n",
        "for col in cat_cols:\n",
        "  lb = LabelEncoder()\n",
        "  df_train[col] = lb.fit_transform(df_train[col])\n",
        "  df_test[col] =  lb.transform(df_test[col])\n",
        "\n"
      ],
      "execution_count": 22,
      "outputs": [
        {
          "output_type": "stream",
          "text": [
            "['Sex', 'Embarked', 'Titles']\n"
          ],
          "name": "stdout"
        }
      ]
    },
    {
      "cell_type": "code",
      "metadata": {
        "id": "tk6-XStk6Q1s",
        "colab_type": "code",
        "outputId": "9a4afbf7-c0da-408b-dbe7-6b6a64342bd7",
        "colab": {
          "base_uri": "https://localhost:8080/",
          "height": 54
        }
      },
      "source": [
        "# Converting the category cols to integers\n",
        "\n",
        "# For Train\n",
        "\"\"\"\n",
        "for col in cat_cols:\n",
        "  df_train[col] = df_train[col].cat.codes.values\n",
        "\n",
        "# For Test\n",
        "\n",
        "for col in cat_cols:\n",
        "  df_test[col] = df_test[col].cat.codes.values  \n",
        "\"\"\""
      ],
      "execution_count": 23,
      "outputs": [
        {
          "output_type": "execute_result",
          "data": {
            "text/plain": [
              "'\\nfor col in cat_cols:\\n  df_train[col] = df_train[col].cat.codes.values\\n\\n# For Test\\n\\nfor col in cat_cols:\\n  df_test[col] = df_test[col].cat.codes.values  \\n'"
            ]
          },
          "metadata": {
            "tags": []
          },
          "execution_count": 23
        }
      ]
    },
    {
      "cell_type": "code",
      "metadata": {
        "id": "60SVtsf5ha3s",
        "colab_type": "code",
        "outputId": "000237ff-7e56-48ed-a00f-3010aa8b1df8",
        "colab": {
          "base_uri": "https://localhost:8080/",
          "height": 255
        }
      },
      "source": [
        "# For train\n",
        "\n",
        "train_cat_data = df_train[['Pclass','Sex','Embarked','Titles']].values\n",
        "print(train_cat_data)\n",
        "\n",
        "# For test\n",
        "test_cat_data = df_test[['Pclass','Sex','Embarked','Titles']].values\n",
        "print(test_cat_data)"
      ],
      "execution_count": 24,
      "outputs": [
        {
          "output_type": "stream",
          "text": [
            "[[3 1 2 2]\n",
            " [1 0 0 3]\n",
            " [3 0 2 1]\n",
            " ...\n",
            " [3 0 2 1]\n",
            " [1 1 0 2]\n",
            " [3 1 1 2]]\n",
            "[[3 1 1 2]\n",
            " [3 0 2 3]\n",
            " [2 1 1 2]\n",
            " ...\n",
            " [3 1 2 2]\n",
            " [3 1 2 2]\n",
            " [3 1 0 4]]\n"
          ],
          "name": "stdout"
        }
      ]
    },
    {
      "cell_type": "code",
      "metadata": {
        "id": "N6ZMgGMp_ZSj",
        "colab_type": "code",
        "outputId": "022254c1-97f4-4956-8f74-596187ba3ca2",
        "colab": {
          "base_uri": "https://localhost:8080/",
          "height": 51
        }
      },
      "source": [
        "# For train\n",
        "\n",
        "print(max(df_train['Pclass']), max(df_train['Sex']), max(df_train['Embarked']),max(df_train['Titles']))\n",
        "print(min(df_train['Pclass']), min(df_train['Sex']), min(df_train['Embarked']),min(df_train['Titles']))"
      ],
      "execution_count": 25,
      "outputs": [
        {
          "output_type": "stream",
          "text": [
            "3 1 2 4\n",
            "1 0 0 0\n"
          ],
          "name": "stdout"
        }
      ]
    },
    {
      "cell_type": "code",
      "metadata": {
        "id": "ENwJPpkzlqc3",
        "colab_type": "code",
        "outputId": "a7f559a0-e814-45b7-d7aa-9bd7242a415e",
        "colab": {
          "base_uri": "https://localhost:8080/",
          "height": 51
        }
      },
      "source": [
        "# For test\n",
        "\n",
        "print(max(df_test['Pclass']), max(df_test['Sex']), max(df_test['Embarked']),max(df_test['Titles']))\n",
        "print(min(df_test['Pclass']), min(df_test['Sex']), min(df_test['Embarked']),min(df_test['Titles']))"
      ],
      "execution_count": 26,
      "outputs": [
        {
          "output_type": "stream",
          "text": [
            "3 1 2 4\n",
            "1 0 0 0\n"
          ],
          "name": "stdout"
        }
      ]
    },
    {
      "cell_type": "code",
      "metadata": {
        "id": "04wqCWZzfgda",
        "colab_type": "code",
        "outputId": "607a6417-bd98-4569-b5f5-f1a86cd1df07",
        "colab": {
          "base_uri": "https://localhost:8080/",
          "height": 289
        }
      },
      "source": [
        "from sklearn.preprocessing import OneHotEncoder \n",
        "  \n",
        "onehotencoder = OneHotEncoder() \n",
        "\n",
        "# For train\n",
        "\n",
        "train_cat_data = onehotencoder.fit_transform(train_cat_data).toarray()\n",
        "print(train_cat_data.shape, type(train_cat_data))\n",
        "print(train_cat_data)\n",
        "\n",
        "# For test\n",
        "\n",
        "test_cat_data = onehotencoder.transform(test_cat_data).toarray()\n",
        "print(test_cat_data.shape, type(test_cat_data))\n",
        "print(test_cat_data)\n"
      ],
      "execution_count": 27,
      "outputs": [
        {
          "output_type": "stream",
          "text": [
            "(891, 13) <class 'numpy.ndarray'>\n",
            "[[0. 0. 1. ... 1. 0. 0.]\n",
            " [1. 0. 0. ... 0. 1. 0.]\n",
            " [0. 0. 1. ... 0. 0. 0.]\n",
            " ...\n",
            " [0. 0. 1. ... 0. 0. 0.]\n",
            " [1. 0. 0. ... 1. 0. 0.]\n",
            " [0. 0. 1. ... 1. 0. 0.]]\n",
            "(418, 13) <class 'numpy.ndarray'>\n",
            "[[0. 0. 1. ... 1. 0. 0.]\n",
            " [0. 0. 1. ... 0. 1. 0.]\n",
            " [0. 1. 0. ... 1. 0. 0.]\n",
            " ...\n",
            " [0. 0. 1. ... 1. 0. 0.]\n",
            " [0. 0. 1. ... 1. 0. 0.]\n",
            " [0. 0. 1. ... 0. 0. 1.]]\n"
          ],
          "name": "stdout"
        }
      ]
    },
    {
      "cell_type": "code",
      "metadata": {
        "id": "1StPlYEsP81x",
        "colab_type": "code",
        "outputId": "384e2974-aef2-4634-eca7-fb02f2bd51bc",
        "colab": {
          "base_uri": "https://localhost:8080/",
          "height": 221
        }
      },
      "source": [
        "df_train.isnull().sum()"
      ],
      "execution_count": 28,
      "outputs": [
        {
          "output_type": "execute_result",
          "data": {
            "text/plain": [
              "PassengerId     0\n",
              "Survived        0\n",
              "Pclass          0\n",
              "Sex             0\n",
              "Age             0\n",
              "SibSp           0\n",
              "Parch           0\n",
              "Fare            0\n",
              "Embarked        0\n",
              "Titles          0\n",
              "Total Family    0\n",
              "dtype: int64"
            ]
          },
          "metadata": {
            "tags": []
          },
          "execution_count": 28
        }
      ]
    },
    {
      "cell_type": "code",
      "metadata": {
        "id": "bhDbK5lZl6Pz",
        "colab_type": "code",
        "outputId": "ed385139-2d52-4980-8223-149e9dd4a0dc",
        "colab": {
          "base_uri": "https://localhost:8080/",
          "height": 204
        }
      },
      "source": [
        "df_test.isnull().sum()"
      ],
      "execution_count": 29,
      "outputs": [
        {
          "output_type": "execute_result",
          "data": {
            "text/plain": [
              "PassengerId     0\n",
              "Pclass          0\n",
              "Sex             0\n",
              "Age             0\n",
              "SibSp           0\n",
              "Parch           0\n",
              "Fare            0\n",
              "Embarked        0\n",
              "Titles          0\n",
              "Total Family    0\n",
              "dtype: int64"
            ]
          },
          "metadata": {
            "tags": []
          },
          "execution_count": 29
        }
      ]
    },
    {
      "cell_type": "code",
      "metadata": {
        "id": "8J9nnskOXGyE",
        "colab_type": "code",
        "outputId": "915bbc40-5798-47f9-fbca-3654197f9427",
        "colab": {
          "base_uri": "https://localhost:8080/",
          "height": 68
        }
      },
      "source": [
        "df_train.columns"
      ],
      "execution_count": 30,
      "outputs": [
        {
          "output_type": "execute_result",
          "data": {
            "text/plain": [
              "Index(['PassengerId', 'Survived', 'Pclass', 'Sex', 'Age', 'SibSp', 'Parch',\n",
              "       'Fare', 'Embarked', 'Titles', 'Total Family'],\n",
              "      dtype='object')"
            ]
          },
          "metadata": {
            "tags": []
          },
          "execution_count": 30
        }
      ]
    },
    {
      "cell_type": "code",
      "metadata": {
        "id": "C91ne-Fu6lI8",
        "colab_type": "code",
        "colab": {}
      },
      "source": [
        "# Splitting the data into features and labels\n",
        "\n",
        "# For train\n",
        "\n",
        "X = df_train[['Pclass', 'Sex', 'Age', 'SibSp', 'Parch','Fare', 'Embarked', 'Titles', 'Total Family']].values\n",
        "y = df_train['Survived'].values\n",
        "\n",
        "# For test\n",
        "\n",
        "X_test = df_test[['Pclass', 'Sex', 'Age', 'SibSp', 'Parch','Fare', 'Embarked', 'Titles', 'Total Family']].values"
      ],
      "execution_count": 0,
      "outputs": []
    },
    {
      "cell_type": "code",
      "metadata": {
        "id": "YHXSJzTi6_CS",
        "colab_type": "code",
        "outputId": "57eb9e69-52fe-4a2f-b2e7-c2e117cf1e77",
        "colab": {
          "base_uri": "https://localhost:8080/",
          "height": 391
        }
      },
      "source": [
        "X.shape, X[:10], type(X)"
      ],
      "execution_count": 32,
      "outputs": [
        {
          "output_type": "execute_result",
          "data": {
            "text/plain": [
              "((891, 9),\n",
              " array([[ 3.    ,  1.    , 22.    ,  1.    ,  0.    ,  7.25  ,  2.    ,\n",
              "          2.    ,  1.    ],\n",
              "        [ 1.    ,  0.    , 38.    ,  1.    ,  0.    , 71.2833,  0.    ,\n",
              "          3.    ,  1.    ],\n",
              "        [ 3.    ,  0.    , 26.    ,  0.    ,  0.    ,  7.925 ,  2.    ,\n",
              "          1.    ,  0.    ],\n",
              "        [ 1.    ,  0.    , 35.    ,  1.    ,  0.    , 53.1   ,  2.    ,\n",
              "          3.    ,  1.    ],\n",
              "        [ 3.    ,  1.    , 35.    ,  0.    ,  0.    ,  8.05  ,  2.    ,\n",
              "          2.    ,  0.    ],\n",
              "        [ 3.    ,  1.    , 28.    ,  0.    ,  0.    ,  8.4583,  1.    ,\n",
              "          2.    ,  0.    ],\n",
              "        [ 1.    ,  1.    , 54.    ,  0.    ,  0.    , 51.8625,  2.    ,\n",
              "          2.    ,  0.    ],\n",
              "        [ 3.    ,  1.    ,  2.    ,  3.    ,  1.    , 21.075 ,  2.    ,\n",
              "          4.    ,  4.    ],\n",
              "        [ 3.    ,  0.    , 27.    ,  0.    ,  2.    , 11.1333,  2.    ,\n",
              "          3.    ,  2.    ],\n",
              "        [ 2.    ,  0.    , 14.    ,  1.    ,  0.    , 30.0708,  0.    ,\n",
              "          3.    ,  1.    ]]),\n",
              " numpy.ndarray)"
            ]
          },
          "metadata": {
            "tags": []
          },
          "execution_count": 32
        }
      ]
    },
    {
      "cell_type": "code",
      "metadata": {
        "id": "ybzBm-ru-C2-",
        "colab_type": "code",
        "outputId": "f8e2fbec-a461-4e15-b0e0-5db9f767c3fb",
        "colab": {
          "base_uri": "https://localhost:8080/",
          "height": 54
        }
      },
      "source": [
        "\"\"\"\n",
        "# For train\n",
        "\n",
        "X = np.concatenate((X,train_cat_data),axis=1)\n",
        "print(X)\n",
        "\n",
        "# For test \n",
        "\n",
        "X_test = np.concatenate((X_test,test_cat_data),axis=1)\n",
        "print(X_test)\n",
        "\"\"\""
      ],
      "execution_count": 33,
      "outputs": [
        {
          "output_type": "execute_result",
          "data": {
            "text/plain": [
              "'\\n# For train\\n\\nX = np.concatenate((X,train_cat_data),axis=1)\\nprint(X)\\n\\n# For test \\n\\nX_test = np.concatenate((X_test,test_cat_data),axis=1)\\nprint(X_test)\\n'"
            ]
          },
          "metadata": {
            "tags": []
          },
          "execution_count": 33
        }
      ]
    },
    {
      "cell_type": "code",
      "metadata": {
        "id": "hDZaB5Vc-Lnf",
        "colab_type": "code",
        "outputId": "8ff119d8-daf4-4a93-ad17-7ee0c380c764",
        "colab": {
          "base_uri": "https://localhost:8080/",
          "height": 34
        }
      },
      "source": [
        "X.shape, type(X)"
      ],
      "execution_count": 34,
      "outputs": [
        {
          "output_type": "execute_result",
          "data": {
            "text/plain": [
              "((891, 9), numpy.ndarray)"
            ]
          },
          "metadata": {
            "tags": []
          },
          "execution_count": 34
        }
      ]
    },
    {
      "cell_type": "code",
      "metadata": {
        "id": "x8179lDa7Cqc",
        "colab_type": "code",
        "outputId": "2a177fd4-162d-401e-fa5a-ebb3f39dd30d",
        "colab": {
          "base_uri": "https://localhost:8080/",
          "height": 34
        }
      },
      "source": [
        "y.shape , y[:10]"
      ],
      "execution_count": 35,
      "outputs": [
        {
          "output_type": "execute_result",
          "data": {
            "text/plain": [
              "((891,), array([0, 1, 1, 1, 0, 0, 0, 0, 1, 1]))"
            ]
          },
          "metadata": {
            "tags": []
          },
          "execution_count": 35
        }
      ]
    },
    {
      "cell_type": "code",
      "metadata": {
        "id": "U8INXolcmwvf",
        "colab_type": "code",
        "outputId": "0e76ceb2-2c88-4b0d-a2a4-7436af146b49",
        "colab": {
          "base_uri": "https://localhost:8080/",
          "height": 34
        }
      },
      "source": [
        "X_test.shape, type(X_test)"
      ],
      "execution_count": 36,
      "outputs": [
        {
          "output_type": "execute_result",
          "data": {
            "text/plain": [
              "((418, 9), numpy.ndarray)"
            ]
          },
          "metadata": {
            "tags": []
          },
          "execution_count": 36
        }
      ]
    },
    {
      "cell_type": "code",
      "metadata": {
        "id": "NUymKEcx7IoQ",
        "colab_type": "code",
        "outputId": "66fb413e-16d8-4094-c594-9ecbf05c84be",
        "colab": {
          "base_uri": "https://localhost:8080/",
          "height": 34
        }
      },
      "source": [
        "input_data = xgb.DMatrix(data=X,label=y)\n",
        "input_data"
      ],
      "execution_count": 37,
      "outputs": [
        {
          "output_type": "execute_result",
          "data": {
            "text/plain": [
              "<xgboost.core.DMatrix at 0x7f49946355c0>"
            ]
          },
          "metadata": {
            "tags": []
          },
          "execution_count": 37
        }
      ]
    },
    {
      "cell_type": "markdown",
      "metadata": {
        "id": "YJs571MF7pVt",
        "colab_type": "text"
      },
      "source": [
        "## 3) Splitting the data into train and test set"
      ]
    },
    {
      "cell_type": "code",
      "metadata": {
        "id": "xGbV35ad7l89",
        "colab_type": "code",
        "colab": {}
      },
      "source": [
        "from sklearn.model_selection import train_test_split\n",
        "\n",
        "X_train, X_val, y_train, y_val = train_test_split(X,y,test_size=0.1,random_state=0)"
      ],
      "execution_count": 0,
      "outputs": []
    },
    {
      "cell_type": "code",
      "metadata": {
        "id": "guJ6qOQeeT0e",
        "colab_type": "code",
        "colab": {}
      },
      "source": [
        "from sklearn.preprocessing import StandardScaler\n",
        "sc = StandardScaler()\n",
        "X_train = sc.fit_transform(X_train)\n",
        "X_val = sc.transform(X_val)\n",
        "X_test = sc.transform(X_test)"
      ],
      "execution_count": 0,
      "outputs": []
    },
    {
      "cell_type": "code",
      "metadata": {
        "id": "S2Y6ZVeB3TP7",
        "colab_type": "code",
        "colab": {}
      },
      "source": [
        "train_data = xgb.DMatrix(data=X_train,label=y_train)\n",
        "test_data = xgb.DMatrix(data=X_val,label=y_val)"
      ],
      "execution_count": 0,
      "outputs": []
    },
    {
      "cell_type": "code",
      "metadata": {
        "id": "tnUjrwhPPE14",
        "colab_type": "code",
        "colab": {}
      },
      "source": [
        "actual_testing_data = xgb.DMatrix(data=X_test)"
      ],
      "execution_count": 0,
      "outputs": []
    },
    {
      "cell_type": "markdown",
      "metadata": {
        "id": "01rG6lCe8CzJ",
        "colab_type": "text"
      },
      "source": [
        "## 4) Building the XGBoost Model"
      ]
    },
    {
      "cell_type": "code",
      "metadata": {
        "id": "auqpuOsT7_80",
        "colab_type": "code",
        "colab": {}
      },
      "source": [
        "xg_clf = xgb.XGBClassifier(objective ='binary:logistic', \n",
        "                           colsample_bytree=0.4,\n",
        "                           learning_rate = 0.1,\n",
        "                          max_depth = 6,  \n",
        "                          n_estimators = 26\n",
        "                          )"
      ],
      "execution_count": 0,
      "outputs": []
    },
    {
      "cell_type": "code",
      "metadata": {
        "id": "VpK3B3dw9Blp",
        "colab_type": "code",
        "outputId": "58a9d627-9139-45df-e85e-853816fdff49",
        "colab": {
          "base_uri": "https://localhost:8080/",
          "height": 136
        }
      },
      "source": [
        "xg_clf.fit(X_train,y_train)"
      ],
      "execution_count": 43,
      "outputs": [
        {
          "output_type": "execute_result",
          "data": {
            "text/plain": [
              "XGBClassifier(base_score=0.5, booster='gbtree', colsample_bylevel=1,\n",
              "              colsample_bynode=1, colsample_bytree=0.4, gamma=0,\n",
              "              learning_rate=0.1, max_delta_step=0, max_depth=6,\n",
              "              min_child_weight=1, missing=None, n_estimators=26, n_jobs=1,\n",
              "              nthread=None, objective='binary:logistic', random_state=0,\n",
              "              reg_alpha=0, reg_lambda=1, scale_pos_weight=1, seed=None,\n",
              "              silent=None, subsample=1, verbosity=1)"
            ]
          },
          "metadata": {
            "tags": []
          },
          "execution_count": 43
        }
      ]
    },
    {
      "cell_type": "markdown",
      "metadata": {
        "id": "KCwQWsj09d1n",
        "colab_type": "text"
      },
      "source": [
        "## 6) Predicting the validation set results"
      ]
    },
    {
      "cell_type": "code",
      "metadata": {
        "id": "aKReE_RtFgUL",
        "colab_type": "code",
        "colab": {}
      },
      "source": [
        "y_preds = xg_clf.predict(X_val)"
      ],
      "execution_count": 0,
      "outputs": []
    },
    {
      "cell_type": "code",
      "metadata": {
        "id": "Driq7hRd9pAP",
        "colab_type": "code",
        "outputId": "92acce95-0490-4ae4-c935-0740ddba4976",
        "colab": {
          "base_uri": "https://localhost:8080/",
          "height": 0
        }
      },
      "source": [
        "from sklearn.metrics import confusion_matrix\n",
        "cm = confusion_matrix(y_preds,y_val)\n",
        "print(cm)"
      ],
      "execution_count": 45,
      "outputs": [
        {
          "output_type": "stream",
          "text": [
            "[[49 12]\n",
            " [ 2 27]]\n"
          ],
          "name": "stdout"
        }
      ]
    },
    {
      "cell_type": "code",
      "metadata": {
        "id": "yvHy3ErP9y87",
        "colab_type": "code",
        "outputId": "f23eedce-e093-4b8b-d31e-6ed50c852fff",
        "colab": {
          "base_uri": "https://localhost:8080/",
          "height": 0
        }
      },
      "source": [
        "from sklearn.metrics import accuracy_score\n",
        "print(accuracy_score(y_preds,y_val))"
      ],
      "execution_count": 46,
      "outputs": [
        {
          "output_type": "stream",
          "text": [
            "0.8444444444444444\n"
          ],
          "name": "stdout"
        }
      ]
    },
    {
      "cell_type": "markdown",
      "metadata": {
        "id": "UjbMGSDO71Vu",
        "colab_type": "text"
      },
      "source": [
        "## 7) Training and Tuning XgBoost Model"
      ]
    },
    {
      "cell_type": "code",
      "metadata": {
        "id": "8bG3Iadv2A2y",
        "colab_type": "code",
        "outputId": "b3963302-285f-48fe-e2d9-f7860afb3e17",
        "colab": {
          "base_uri": "https://localhost:8080/",
          "height": 1000
        }
      },
      "source": [
        "# hyper parameter tuning\n",
        "\n",
        "params = {\n",
        "    # Parameters that we are going to tune.\n",
        "    'max_depth':6,\n",
        "    'min_child_weight': 1,\n",
        "    'eta':.3,\n",
        "    'subsample': 1,\n",
        "    'colsample_bytree': 1,\n",
        "    'eval_metric':'auc',\n",
        "    'early_stopping_rounds':10,\n",
        "    'random_state':0,\n",
        "    # Other parameters\n",
        "    'objective':'binary:logistic',\n",
        "}\n",
        "\n",
        "model = xgb.train(\n",
        "    params,\n",
        "    train_data,\n",
        "    num_boost_round=100,\n",
        "    evals=[(test_data, \"Test\")]\n",
        ")"
      ],
      "execution_count": 47,
      "outputs": [
        {
          "output_type": "stream",
          "text": [
            "[0]\tTest-auc:0.901709\n",
            "[1]\tTest-auc:0.894671\n",
            "[2]\tTest-auc:0.883861\n",
            "[3]\tTest-auc:0.893665\n",
            "[4]\tTest-auc:0.904726\n",
            "[5]\tTest-auc:0.903469\n",
            "[6]\tTest-auc:0.897436\n",
            "[7]\tTest-auc:0.88914\n",
            "[8]\tTest-auc:0.890146\n",
            "[9]\tTest-auc:0.884113\n",
            "[10]\tTest-auc:0.881599\n",
            "[11]\tTest-auc:0.879085\n",
            "[12]\tTest-auc:0.878331\n",
            "[13]\tTest-auc:0.873806\n",
            "[14]\tTest-auc:0.87632\n",
            "[15]\tTest-auc:0.874811\n",
            "[16]\tTest-auc:0.873303\n",
            "[17]\tTest-auc:0.871795\n",
            "[18]\tTest-auc:0.868276\n",
            "[19]\tTest-auc:0.866013\n",
            "[20]\tTest-auc:0.870035\n",
            "[21]\tTest-auc:0.870035\n",
            "[22]\tTest-auc:0.867019\n",
            "[23]\tTest-auc:0.866516\n",
            "[24]\tTest-auc:0.867019\n",
            "[25]\tTest-auc:0.869532\n",
            "[26]\tTest-auc:0.869532\n",
            "[27]\tTest-auc:0.870035\n",
            "[28]\tTest-auc:0.871543\n",
            "[29]\tTest-auc:0.868024\n",
            "[30]\tTest-auc:0.869532\n",
            "[31]\tTest-auc:0.872549\n",
            "[32]\tTest-auc:0.874057\n",
            "[33]\tTest-auc:0.875063\n",
            "[34]\tTest-auc:0.878079\n",
            "[35]\tTest-auc:0.878079\n",
            "[36]\tTest-auc:0.878582\n",
            "[37]\tTest-auc:0.877074\n",
            "[38]\tTest-auc:0.876571\n",
            "[39]\tTest-auc:0.876068\n",
            "[40]\tTest-auc:0.872549\n",
            "[41]\tTest-auc:0.873555\n",
            "[42]\tTest-auc:0.873555\n",
            "[43]\tTest-auc:0.873052\n",
            "[44]\tTest-auc:0.875063\n",
            "[45]\tTest-auc:0.874057\n",
            "[46]\tTest-auc:0.875566\n",
            "[47]\tTest-auc:0.876571\n",
            "[48]\tTest-auc:0.875063\n",
            "[49]\tTest-auc:0.871543\n",
            "[50]\tTest-auc:0.873052\n",
            "[51]\tTest-auc:0.874057\n",
            "[52]\tTest-auc:0.873052\n",
            "[53]\tTest-auc:0.874057\n",
            "[54]\tTest-auc:0.873555\n",
            "[55]\tTest-auc:0.875566\n",
            "[56]\tTest-auc:0.87456\n",
            "[57]\tTest-auc:0.87456\n",
            "[58]\tTest-auc:0.875063\n",
            "[59]\tTest-auc:0.873555\n",
            "[60]\tTest-auc:0.87456\n",
            "[61]\tTest-auc:0.874057\n",
            "[62]\tTest-auc:0.87456\n",
            "[63]\tTest-auc:0.874057\n",
            "[64]\tTest-auc:0.875063\n",
            "[65]\tTest-auc:0.876571\n",
            "[66]\tTest-auc:0.876571\n",
            "[67]\tTest-auc:0.876068\n",
            "[68]\tTest-auc:0.876571\n",
            "[69]\tTest-auc:0.877074\n",
            "[70]\tTest-auc:0.876571\n",
            "[71]\tTest-auc:0.877577\n",
            "[72]\tTest-auc:0.879085\n",
            "[73]\tTest-auc:0.879588\n",
            "[74]\tTest-auc:0.88009\n",
            "[75]\tTest-auc:0.88009\n",
            "[76]\tTest-auc:0.880593\n",
            "[77]\tTest-auc:0.880593\n",
            "[78]\tTest-auc:0.880593\n",
            "[79]\tTest-auc:0.881096\n",
            "[80]\tTest-auc:0.88009\n",
            "[81]\tTest-auc:0.878582\n",
            "[82]\tTest-auc:0.877577\n",
            "[83]\tTest-auc:0.878079\n",
            "[84]\tTest-auc:0.878079\n",
            "[85]\tTest-auc:0.879839\n",
            "[86]\tTest-auc:0.880342\n",
            "[87]\tTest-auc:0.879336\n",
            "[88]\tTest-auc:0.879839\n",
            "[89]\tTest-auc:0.878331\n",
            "[90]\tTest-auc:0.876823\n",
            "[91]\tTest-auc:0.875817\n",
            "[92]\tTest-auc:0.87632\n",
            "[93]\tTest-auc:0.875817\n",
            "[94]\tTest-auc:0.87632\n",
            "[95]\tTest-auc:0.878331\n",
            "[96]\tTest-auc:0.877828\n",
            "[97]\tTest-auc:0.877325\n",
            "[98]\tTest-auc:0.876823\n",
            "[99]\tTest-auc:0.878331\n"
          ],
          "name": "stdout"
        }
      ]
    },
    {
      "cell_type": "code",
      "metadata": {
        "id": "mYVUrMH3DuZV",
        "colab_type": "code",
        "outputId": "a8608441-833e-4d42-8179-0fa5fc02bcf3",
        "colab": {
          "base_uri": "https://localhost:8080/",
          "height": 1000
        }
      },
      "source": [
        "# Using K fold CV\n",
        "\n",
        "cv_results = xgb.cv(\n",
        "    params,\n",
        "    train_data,\n",
        "    num_boost_round=100,\n",
        "    seed=42,\n",
        "    nfold=5,\n",
        "    metrics={'auc'},\n",
        "    early_stopping_rounds=10\n",
        ")\n",
        "cv_results"
      ],
      "execution_count": 48,
      "outputs": [
        {
          "output_type": "execute_result",
          "data": {
            "text/html": [
              "<div>\n",
              "<style scoped>\n",
              "    .dataframe tbody tr th:only-of-type {\n",
              "        vertical-align: middle;\n",
              "    }\n",
              "\n",
              "    .dataframe tbody tr th {\n",
              "        vertical-align: top;\n",
              "    }\n",
              "\n",
              "    .dataframe thead th {\n",
              "        text-align: right;\n",
              "    }\n",
              "</style>\n",
              "<table border=\"1\" class=\"dataframe\">\n",
              "  <thead>\n",
              "    <tr style=\"text-align: right;\">\n",
              "      <th></th>\n",
              "      <th>train-auc-mean</th>\n",
              "      <th>train-auc-std</th>\n",
              "      <th>test-auc-mean</th>\n",
              "      <th>test-auc-std</th>\n",
              "    </tr>\n",
              "  </thead>\n",
              "  <tbody>\n",
              "    <tr>\n",
              "      <th>0</th>\n",
              "      <td>0.888455</td>\n",
              "      <td>0.005039</td>\n",
              "      <td>0.859405</td>\n",
              "      <td>0.034585</td>\n",
              "    </tr>\n",
              "    <tr>\n",
              "      <th>1</th>\n",
              "      <td>0.900308</td>\n",
              "      <td>0.009078</td>\n",
              "      <td>0.857325</td>\n",
              "      <td>0.039201</td>\n",
              "    </tr>\n",
              "    <tr>\n",
              "      <th>2</th>\n",
              "      <td>0.914894</td>\n",
              "      <td>0.007289</td>\n",
              "      <td>0.856471</td>\n",
              "      <td>0.034682</td>\n",
              "    </tr>\n",
              "    <tr>\n",
              "      <th>3</th>\n",
              "      <td>0.926155</td>\n",
              "      <td>0.006231</td>\n",
              "      <td>0.862446</td>\n",
              "      <td>0.033847</td>\n",
              "    </tr>\n",
              "    <tr>\n",
              "      <th>4</th>\n",
              "      <td>0.930087</td>\n",
              "      <td>0.004302</td>\n",
              "      <td>0.859970</td>\n",
              "      <td>0.031662</td>\n",
              "    </tr>\n",
              "    <tr>\n",
              "      <th>5</th>\n",
              "      <td>0.936017</td>\n",
              "      <td>0.004571</td>\n",
              "      <td>0.861253</td>\n",
              "      <td>0.032563</td>\n",
              "    </tr>\n",
              "    <tr>\n",
              "      <th>6</th>\n",
              "      <td>0.942317</td>\n",
              "      <td>0.003689</td>\n",
              "      <td>0.861427</td>\n",
              "      <td>0.035960</td>\n",
              "    </tr>\n",
              "    <tr>\n",
              "      <th>7</th>\n",
              "      <td>0.948449</td>\n",
              "      <td>0.003636</td>\n",
              "      <td>0.862523</td>\n",
              "      <td>0.035849</td>\n",
              "    </tr>\n",
              "    <tr>\n",
              "      <th>8</th>\n",
              "      <td>0.952234</td>\n",
              "      <td>0.003244</td>\n",
              "      <td>0.864483</td>\n",
              "      <td>0.037633</td>\n",
              "    </tr>\n",
              "    <tr>\n",
              "      <th>9</th>\n",
              "      <td>0.955217</td>\n",
              "      <td>0.002623</td>\n",
              "      <td>0.862034</td>\n",
              "      <td>0.038175</td>\n",
              "    </tr>\n",
              "    <tr>\n",
              "      <th>10</th>\n",
              "      <td>0.958315</td>\n",
              "      <td>0.002524</td>\n",
              "      <td>0.865560</td>\n",
              "      <td>0.040057</td>\n",
              "    </tr>\n",
              "    <tr>\n",
              "      <th>11</th>\n",
              "      <td>0.961882</td>\n",
              "      <td>0.003244</td>\n",
              "      <td>0.864803</td>\n",
              "      <td>0.039859</td>\n",
              "    </tr>\n",
              "    <tr>\n",
              "      <th>12</th>\n",
              "      <td>0.964266</td>\n",
              "      <td>0.002669</td>\n",
              "      <td>0.866833</td>\n",
              "      <td>0.040240</td>\n",
              "    </tr>\n",
              "    <tr>\n",
              "      <th>13</th>\n",
              "      <td>0.966663</td>\n",
              "      <td>0.002379</td>\n",
              "      <td>0.868035</td>\n",
              "      <td>0.038888</td>\n",
              "    </tr>\n",
              "    <tr>\n",
              "      <th>14</th>\n",
              "      <td>0.969025</td>\n",
              "      <td>0.003161</td>\n",
              "      <td>0.868050</td>\n",
              "      <td>0.037480</td>\n",
              "    </tr>\n",
              "    <tr>\n",
              "      <th>15</th>\n",
              "      <td>0.971176</td>\n",
              "      <td>0.002883</td>\n",
              "      <td>0.868439</td>\n",
              "      <td>0.037318</td>\n",
              "    </tr>\n",
              "    <tr>\n",
              "      <th>16</th>\n",
              "      <td>0.972185</td>\n",
              "      <td>0.002820</td>\n",
              "      <td>0.870144</td>\n",
              "      <td>0.036719</td>\n",
              "    </tr>\n",
              "    <tr>\n",
              "      <th>17</th>\n",
              "      <td>0.973515</td>\n",
              "      <td>0.002888</td>\n",
              "      <td>0.870642</td>\n",
              "      <td>0.035398</td>\n",
              "    </tr>\n",
              "    <tr>\n",
              "      <th>18</th>\n",
              "      <td>0.974804</td>\n",
              "      <td>0.002660</td>\n",
              "      <td>0.871967</td>\n",
              "      <td>0.035506</td>\n",
              "    </tr>\n",
              "    <tr>\n",
              "      <th>19</th>\n",
              "      <td>0.975870</td>\n",
              "      <td>0.002793</td>\n",
              "      <td>0.871750</td>\n",
              "      <td>0.037105</td>\n",
              "    </tr>\n",
              "    <tr>\n",
              "      <th>20</th>\n",
              "      <td>0.976783</td>\n",
              "      <td>0.002766</td>\n",
              "      <td>0.872097</td>\n",
              "      <td>0.037348</td>\n",
              "    </tr>\n",
              "    <tr>\n",
              "      <th>21</th>\n",
              "      <td>0.977501</td>\n",
              "      <td>0.002590</td>\n",
              "      <td>0.870994</td>\n",
              "      <td>0.034880</td>\n",
              "    </tr>\n",
              "    <tr>\n",
              "      <th>22</th>\n",
              "      <td>0.978264</td>\n",
              "      <td>0.002467</td>\n",
              "      <td>0.871136</td>\n",
              "      <td>0.034394</td>\n",
              "    </tr>\n",
              "    <tr>\n",
              "      <th>23</th>\n",
              "      <td>0.979562</td>\n",
              "      <td>0.002445</td>\n",
              "      <td>0.872726</td>\n",
              "      <td>0.033610</td>\n",
              "    </tr>\n",
              "    <tr>\n",
              "      <th>24</th>\n",
              "      <td>0.980304</td>\n",
              "      <td>0.002392</td>\n",
              "      <td>0.873109</td>\n",
              "      <td>0.033066</td>\n",
              "    </tr>\n",
              "    <tr>\n",
              "      <th>25</th>\n",
              "      <td>0.980718</td>\n",
              "      <td>0.002550</td>\n",
              "      <td>0.873629</td>\n",
              "      <td>0.033888</td>\n",
              "    </tr>\n",
              "    <tr>\n",
              "      <th>26</th>\n",
              "      <td>0.981375</td>\n",
              "      <td>0.002668</td>\n",
              "      <td>0.873244</td>\n",
              "      <td>0.034302</td>\n",
              "    </tr>\n",
              "    <tr>\n",
              "      <th>27</th>\n",
              "      <td>0.982131</td>\n",
              "      <td>0.002410</td>\n",
              "      <td>0.873703</td>\n",
              "      <td>0.035302</td>\n",
              "    </tr>\n",
              "    <tr>\n",
              "      <th>28</th>\n",
              "      <td>0.982344</td>\n",
              "      <td>0.002389</td>\n",
              "      <td>0.874046</td>\n",
              "      <td>0.035751</td>\n",
              "    </tr>\n",
              "    <tr>\n",
              "      <th>29</th>\n",
              "      <td>0.982729</td>\n",
              "      <td>0.002492</td>\n",
              "      <td>0.873533</td>\n",
              "      <td>0.034249</td>\n",
              "    </tr>\n",
              "    <tr>\n",
              "      <th>30</th>\n",
              "      <td>0.983306</td>\n",
              "      <td>0.002569</td>\n",
              "      <td>0.873897</td>\n",
              "      <td>0.036724</td>\n",
              "    </tr>\n",
              "    <tr>\n",
              "      <th>31</th>\n",
              "      <td>0.983718</td>\n",
              "      <td>0.002598</td>\n",
              "      <td>0.873998</td>\n",
              "      <td>0.037441</td>\n",
              "    </tr>\n",
              "    <tr>\n",
              "      <th>32</th>\n",
              "      <td>0.984181</td>\n",
              "      <td>0.002556</td>\n",
              "      <td>0.873538</td>\n",
              "      <td>0.037611</td>\n",
              "    </tr>\n",
              "    <tr>\n",
              "      <th>33</th>\n",
              "      <td>0.984716</td>\n",
              "      <td>0.002344</td>\n",
              "      <td>0.872293</td>\n",
              "      <td>0.036750</td>\n",
              "    </tr>\n",
              "    <tr>\n",
              "      <th>34</th>\n",
              "      <td>0.985259</td>\n",
              "      <td>0.002372</td>\n",
              "      <td>0.873095</td>\n",
              "      <td>0.039068</td>\n",
              "    </tr>\n",
              "    <tr>\n",
              "      <th>35</th>\n",
              "      <td>0.985954</td>\n",
              "      <td>0.002445</td>\n",
              "      <td>0.874261</td>\n",
              "      <td>0.038281</td>\n",
              "    </tr>\n",
              "  </tbody>\n",
              "</table>\n",
              "</div>"
            ],
            "text/plain": [
              "    train-auc-mean  train-auc-std  test-auc-mean  test-auc-std\n",
              "0         0.888455       0.005039       0.859405      0.034585\n",
              "1         0.900308       0.009078       0.857325      0.039201\n",
              "2         0.914894       0.007289       0.856471      0.034682\n",
              "3         0.926155       0.006231       0.862446      0.033847\n",
              "4         0.930087       0.004302       0.859970      0.031662\n",
              "5         0.936017       0.004571       0.861253      0.032563\n",
              "6         0.942317       0.003689       0.861427      0.035960\n",
              "7         0.948449       0.003636       0.862523      0.035849\n",
              "8         0.952234       0.003244       0.864483      0.037633\n",
              "9         0.955217       0.002623       0.862034      0.038175\n",
              "10        0.958315       0.002524       0.865560      0.040057\n",
              "11        0.961882       0.003244       0.864803      0.039859\n",
              "12        0.964266       0.002669       0.866833      0.040240\n",
              "13        0.966663       0.002379       0.868035      0.038888\n",
              "14        0.969025       0.003161       0.868050      0.037480\n",
              "15        0.971176       0.002883       0.868439      0.037318\n",
              "16        0.972185       0.002820       0.870144      0.036719\n",
              "17        0.973515       0.002888       0.870642      0.035398\n",
              "18        0.974804       0.002660       0.871967      0.035506\n",
              "19        0.975870       0.002793       0.871750      0.037105\n",
              "20        0.976783       0.002766       0.872097      0.037348\n",
              "21        0.977501       0.002590       0.870994      0.034880\n",
              "22        0.978264       0.002467       0.871136      0.034394\n",
              "23        0.979562       0.002445       0.872726      0.033610\n",
              "24        0.980304       0.002392       0.873109      0.033066\n",
              "25        0.980718       0.002550       0.873629      0.033888\n",
              "26        0.981375       0.002668       0.873244      0.034302\n",
              "27        0.982131       0.002410       0.873703      0.035302\n",
              "28        0.982344       0.002389       0.874046      0.035751\n",
              "29        0.982729       0.002492       0.873533      0.034249\n",
              "30        0.983306       0.002569       0.873897      0.036724\n",
              "31        0.983718       0.002598       0.873998      0.037441\n",
              "32        0.984181       0.002556       0.873538      0.037611\n",
              "33        0.984716       0.002344       0.872293      0.036750\n",
              "34        0.985259       0.002372       0.873095      0.039068\n",
              "35        0.985954       0.002445       0.874261      0.038281"
            ]
          },
          "metadata": {
            "tags": []
          },
          "execution_count": 48
        }
      ]
    },
    {
      "cell_type": "code",
      "metadata": {
        "id": "cWq0Zt3eEW5x",
        "colab_type": "code",
        "outputId": "2ebbca3d-936a-48cb-8cc2-d944e44f803d",
        "colab": {
          "base_uri": "https://localhost:8080/",
          "height": 34
        }
      },
      "source": [
        "cv_results['test-auc-mean'].max()"
      ],
      "execution_count": 49,
      "outputs": [
        {
          "output_type": "execute_result",
          "data": {
            "text/plain": [
              "0.8742614"
            ]
          },
          "metadata": {
            "tags": []
          },
          "execution_count": 49
        }
      ]
    },
    {
      "cell_type": "code",
      "metadata": {
        "id": "-0zFyMFtE828",
        "colab_type": "code",
        "outputId": "b11d3ea8-11ae-4dad-fd62-1fe1bb62a1a6",
        "colab": {
          "base_uri": "https://localhost:8080/",
          "height": 374
        }
      },
      "source": [
        "# Tuning Parameters max_depth and min_child_weight\n",
        "\n",
        "num_boost_round = 16\n",
        "\n",
        "gridsearch_params = [\n",
        "    (max_depth, min_child_weight)\n",
        "    for max_depth in range(9,12)\n",
        "    for min_child_weight in range(5,8)\n",
        "]\n",
        "\n",
        "max_auc = float('-inf')\n",
        "best_params = None\n",
        "\n",
        "for max_depth, min_child_weight in gridsearch_params:\n",
        "\n",
        "  print(f'CV with max_depth = {max_depth} , min_child_weight = {min_child_weight}')\n",
        "\n",
        "  # Update our parameters\n",
        "\n",
        "  params['max_depth'] = max_depth\n",
        "  params['min_child_weight'] = min_child_weight\n",
        "\n",
        "  # Run CV\n",
        "\n",
        "  cv_results = xgb.cv(\n",
        "      params,\n",
        "      train_data,\n",
        "      num_boost_round=num_boost_round,\n",
        "      seed=42,\n",
        "      nfold=5,\n",
        "      metrics={'auc'},\n",
        "      early_stopping_rounds=10\n",
        "  )\n",
        "\n",
        "  # Update best Accuracy\n",
        "\n",
        "  mean_auc = cv_results['test-auc-mean'].max()\n",
        "  boost_rounds = cv_results['test-auc-mean'].argmax()\n",
        "  print(f\"\\tAUC {mean_auc} for {boost_rounds} rounds\")\n",
        "  if mean_auc > max_auc:\n",
        "    max_auc = mean_auc\n",
        "    best_params = (max_depth,min_child_weight)\n",
        "\n",
        "print(f\"\\nBest params:\\n Max_Depth: {best_params[0]}, Min_Child_Width: {best_params[1]}, AUC: {max_auc}\")\n",
        "\n",
        "# Updating the params as well\n",
        "\n",
        "params['max_depth'] = best_params[0]\n",
        "params['min_child_weight'] = best_params[1]"
      ],
      "execution_count": 50,
      "outputs": [
        {
          "output_type": "stream",
          "text": [
            "CV with max_depth = 9 , min_child_weight = 5\n",
            "\tAUC 0.86462 for 10 rounds\n",
            "CV with max_depth = 9 , min_child_weight = 6\n",
            "\tAUC 0.8678471999999999 for 14 rounds\n",
            "CV with max_depth = 9 , min_child_weight = 7\n",
            "\tAUC 0.8620336 for 12 rounds\n",
            "CV with max_depth = 10 , min_child_weight = 5\n",
            "\tAUC 0.8682905999999999 for 15 rounds\n",
            "CV with max_depth = 10 , min_child_weight = 6\n",
            "\tAUC 0.8673794000000001 for 15 rounds\n",
            "CV with max_depth = 10 , min_child_weight = 7\n",
            "\tAUC 0.8606066 for 9 rounds\n",
            "CV with max_depth = 11 , min_child_weight = 5\n",
            "\tAUC 0.8682905999999999 for 15 rounds\n",
            "CV with max_depth = 11 , min_child_weight = 6\n",
            "\tAUC 0.8673794000000001 for 15 rounds\n",
            "CV with max_depth = 11 , min_child_weight = 7\n",
            "\tAUC 0.8615168000000001 for 15 rounds\n",
            "\n",
            "Best params:\n",
            " Max_Depth: 10, Min_Child_Width: 5, AUC: 0.8682905999999999\n"
          ],
          "name": "stdout"
        }
      ]
    },
    {
      "cell_type": "code",
      "metadata": {
        "id": "CP0FXca6JNWc",
        "colab_type": "code",
        "outputId": "a4563f03-0a43-42a3-da07-58d3fda6f315",
        "colab": {
          "base_uri": "https://localhost:8080/",
          "height": 612
        }
      },
      "source": [
        "# Tuning Parameters subsample and colsample_bytree\n",
        "\n",
        "gridsearch_params = [\n",
        "    (subsample, colsample)\n",
        "    for subsample in [i/10. for i in range(7,11)]\n",
        "    for colsample in [i/10. for i in range(7,11)]\n",
        "]\n",
        "\n",
        "max_auc = float('-inf')\n",
        "best_params = None\n",
        "\n",
        "# We start by the largest values and go down to the smallest\n",
        "for subsample, colsample in reversed(gridsearch_params):\n",
        "  print(f'CV with subsample = {subsample} , colsample = {colsample}')\n",
        "\n",
        "  # We update our parameters\n",
        "\n",
        "  params['subsample'] = subsample\n",
        "  params['colsample_bytree'] = colsample\n",
        "\n",
        "  # Run CV\n",
        "\n",
        "  cv_results = xgb.cv(\n",
        "      params,\n",
        "      train_data,\n",
        "      num_boost_round=num_boost_round,\n",
        "      seed=42,\n",
        "      nfold=5,\n",
        "      metrics={'auc'},\n",
        "      early_stopping_rounds=10\n",
        "  )\n",
        "  # Update best score\n",
        "\n",
        "  mean_auc = cv_results['test-auc-mean'].max()\n",
        "  boost_rounds = cv_results['test-auc-mean'].argmax()\n",
        "  print(f\"\\tAUC {mean_auc} for {boost_rounds} rounds\")\n",
        "  if mean_auc > max_auc:\n",
        "    max_auc = mean_auc\n",
        "    best_params = (subsample,colsample) \n",
        "\n",
        "print(f\"\\nBest params:\\n Subsample: {best_params[0]}, Colsample: {best_params[1]}, AUC: {max_auc}\")\n",
        "\n",
        "# Updating the params as well\n",
        "\n",
        "params['subsample'] = best_params[0]\n",
        "params['colsample'] = best_params[1]"
      ],
      "execution_count": 51,
      "outputs": [
        {
          "output_type": "stream",
          "text": [
            "CV with subsample = 1.0 , colsample = 1.0\n",
            "\tAUC 0.8682905999999999 for 15 rounds\n",
            "CV with subsample = 1.0 , colsample = 0.9\n",
            "\tAUC 0.8686424 for 8 rounds\n",
            "CV with subsample = 1.0 , colsample = 0.8\n",
            "\tAUC 0.8655998 for 15 rounds\n",
            "CV with subsample = 1.0 , colsample = 0.7\n",
            "\tAUC 0.8648011999999999 for 10 rounds\n",
            "CV with subsample = 0.9 , colsample = 1.0\n",
            "\tAUC 0.8690574 for 15 rounds\n",
            "CV with subsample = 0.9 , colsample = 0.9\n",
            "\tAUC 0.8679680000000001 for 15 rounds\n",
            "CV with subsample = 0.9 , colsample = 0.8\n",
            "\tAUC 0.8663326 for 13 rounds\n",
            "CV with subsample = 0.9 , colsample = 0.7\n",
            "\tAUC 0.8688597999999998 for 15 rounds\n",
            "CV with subsample = 0.8 , colsample = 1.0\n",
            "\tAUC 0.8738731999999999 for 15 rounds\n",
            "CV with subsample = 0.8 , colsample = 0.9\n",
            "\tAUC 0.8742152000000001 for 15 rounds\n",
            "CV with subsample = 0.8 , colsample = 0.8\n",
            "\tAUC 0.8737220000000001 for 15 rounds\n",
            "CV with subsample = 0.8 , colsample = 0.7\n",
            "\tAUC 0.8701978 for 15 rounds\n",
            "CV with subsample = 0.7 , colsample = 1.0\n",
            "\tAUC 0.8747121999999999 for 15 rounds\n",
            "CV with subsample = 0.7 , colsample = 0.9\n",
            "\tAUC 0.8673848 for 15 rounds\n",
            "CV with subsample = 0.7 , colsample = 0.8\n",
            "\tAUC 0.8723162 for 13 rounds\n",
            "CV with subsample = 0.7 , colsample = 0.7\n",
            "\tAUC 0.8644532 for 15 rounds\n",
            "\n",
            "Best params:\n",
            " Subsample: 0.7, Colsample: 1.0, AUC: 0.8747121999999999\n"
          ],
          "name": "stdout"
        }
      ]
    },
    {
      "cell_type": "code",
      "metadata": {
        "id": "rluG70kRMAnO",
        "colab_type": "code",
        "outputId": "5ef4f08f-a18c-4ccb-928e-ef4f2bd83566",
        "colab": {
          "base_uri": "https://localhost:8080/",
          "height": 272
        }
      },
      "source": [
        "# Tuning Parameters Learning Rate(ETA)\n",
        "\n",
        "max_auc = float('-inf')\n",
        "best_params = None\n",
        "\n",
        "for eta in [.3, .2, .1, .05, .01, .005]:\n",
        "\n",
        "  print(\"CV with eta={}\".format(eta))\n",
        "\n",
        "  # We update our parameters\n",
        "\n",
        "  params['eta'] = eta\n",
        "\n",
        "  # Run and time CV\n",
        "\n",
        "  cv_results = xgb.cv(\n",
        "      params,\n",
        "      train_data,\n",
        "      num_boost_round=num_boost_round,\n",
        "      seed=42,\n",
        "      nfold=5,\n",
        "      metrics=['auc'],\n",
        "      early_stopping_rounds=10\n",
        "  )\n",
        "  \n",
        "  # Update best score\n",
        "\n",
        "  mean_auc = cv_results['test-auc-mean'].max()\n",
        "  boost_rounds = cv_results['test-auc-mean'].argmax()\n",
        "  print(f\"\\tAUC {mean_auc} for {boost_rounds} rounds\")\n",
        "  if mean_auc > max_auc:\n",
        "    max_auc = mean_auc\n",
        "    best_params = eta\n",
        "\n",
        "print(f\"\\nBest params:\\n Eta(Learning Rate): {best_params} , AUC: {max_auc}\")\n",
        "params['eta'] = best_params"
      ],
      "execution_count": 52,
      "outputs": [
        {
          "output_type": "stream",
          "text": [
            "CV with eta=0.3\n",
            "\tAUC 0.8644532 for 15 rounds\n",
            "CV with eta=0.2\n",
            "\tAUC 0.8636019999999999 for 13 rounds\n",
            "CV with eta=0.1\n",
            "\tAUC 0.8577727999999999 for 14 rounds\n",
            "CV with eta=0.05\n",
            "\tAUC 0.8542376 for 15 rounds\n",
            "CV with eta=0.01\n",
            "\tAUC 0.8532818000000001 for 14 rounds\n",
            "CV with eta=0.005\n",
            "\tAUC 0.8532386000000001 for 15 rounds\n",
            "\n",
            "Best params:\n",
            " Eta(Learning Rate): 0.3 , AUC: 0.8644532\n"
          ],
          "name": "stdout"
        }
      ]
    },
    {
      "cell_type": "code",
      "metadata": {
        "id": "ykMsC_rohr5g",
        "colab_type": "code",
        "outputId": "e834ec54-d033-41b2-cded-4fb9f2dc19a3",
        "colab": {
          "base_uri": "https://localhost:8080/",
          "height": 442
        }
      },
      "source": [
        "# Tuning Parameters Random State\n",
        "\n",
        "max_auc = float('-inf')\n",
        "best_params = None\n",
        "\n",
        "for state in [0,3,5,8,10,12,15,18,20,25,30]:\n",
        "\n",
        "  print(\"CV with random_state={}\".format(state))\n",
        "\n",
        "  # We update our parameters\n",
        "\n",
        "  params['random_state'] = state\n",
        "\n",
        "  # Run and time CV\n",
        "\n",
        "  cv_results = xgb.cv(\n",
        "      params,\n",
        "      train_data,\n",
        "      num_boost_round=num_boost_round,\n",
        "      seed=42,\n",
        "      nfold=5,\n",
        "      metrics=['auc'],\n",
        "      early_stopping_rounds=10\n",
        "  )\n",
        "  \n",
        "  # Update best score\n",
        "\n",
        "  mean_auc = cv_results['test-auc-mean'].max()\n",
        "  boost_rounds = cv_results['test-auc-mean'].argmax()\n",
        "  print(f\"\\tAUC {mean_auc} for {boost_rounds} rounds\")\n",
        "  if mean_auc > max_auc:\n",
        "    max_auc = mean_auc\n",
        "    best_params = state\n",
        "\n",
        "print(f\"\\nBest params:\\n Random State: {best_params} , AUC: {max_auc}\")\n",
        "params['random_state'] = best_params"
      ],
      "execution_count": 53,
      "outputs": [
        {
          "output_type": "stream",
          "text": [
            "CV with random_state=0\n",
            "\tAUC 0.8644532 for 15 rounds\n",
            "CV with random_state=3\n",
            "\tAUC 0.8644532 for 15 rounds\n",
            "CV with random_state=5\n",
            "\tAUC 0.8644532 for 15 rounds\n",
            "CV with random_state=8\n",
            "\tAUC 0.8644532 for 15 rounds\n",
            "CV with random_state=10\n",
            "\tAUC 0.8644532 for 15 rounds\n",
            "CV with random_state=12\n",
            "\tAUC 0.8644532 for 15 rounds\n",
            "CV with random_state=15\n",
            "\tAUC 0.8644532 for 15 rounds\n",
            "CV with random_state=18\n",
            "\tAUC 0.8644532 for 15 rounds\n",
            "CV with random_state=20\n",
            "\tAUC 0.8644532 for 15 rounds\n",
            "CV with random_state=25\n",
            "\tAUC 0.8644532 for 15 rounds\n",
            "CV with random_state=30\n",
            "\tAUC 0.8644532 for 15 rounds\n",
            "\n",
            "Best params:\n",
            " Random State: 0 , AUC: 0.8644532\n"
          ],
          "name": "stdout"
        }
      ]
    },
    {
      "cell_type": "markdown",
      "metadata": {
        "id": "FeSPlpBLOOeZ",
        "colab_type": "text"
      },
      "source": [
        "## 8) Training with the hypertuned parameters"
      ]
    },
    {
      "cell_type": "code",
      "metadata": {
        "id": "3PVY5I1hTvy0",
        "colab_type": "code",
        "outputId": "db05293a-5b25-45a9-c07f-e584ed12fbec",
        "colab": {
          "base_uri": "https://localhost:8080/",
          "height": 54
        }
      },
      "source": [
        "print(params)"
      ],
      "execution_count": 54,
      "outputs": [
        {
          "output_type": "stream",
          "text": [
            "{'max_depth': 10, 'min_child_weight': 5, 'eta': 0.3, 'subsample': 0.7, 'colsample_bytree': 0.7, 'eval_metric': 'auc', 'early_stopping_rounds': 10, 'random_state': 0, 'objective': 'binary:logistic', 'colsample': 1.0}\n"
          ],
          "name": "stdout"
        }
      ]
    },
    {
      "cell_type": "code",
      "metadata": {
        "id": "xnFjQSTMOMlV",
        "colab_type": "code",
        "colab": {}
      },
      "source": [
        "xg_clf = xgb.XGBClassifier(objective= 'binary:logistic', \n",
        "                           max_depth= 10, \n",
        "                           min_child_weight= 5,\n",
        "                           eta= 0.3, \n",
        "                           subsample= 0.7,\n",
        "                           colsample_bytree= 0.7,  \n",
        "                           early_stopping_rounds= 10, \n",
        "                           colsample= 1.0,\n",
        "                           n_estimators=16,\n",
        "                           random_state=0)\n"
      ],
      "execution_count": 0,
      "outputs": []
    },
    {
      "cell_type": "code",
      "metadata": {
        "id": "IEoDAlZCUuBF",
        "colab_type": "code",
        "outputId": "0af5432a-e792-4e4d-d405-a487d43285d3",
        "colab": {
          "base_uri": "https://localhost:8080/",
          "height": 153
        }
      },
      "source": [
        "xg_clf.fit(X_train,y_train)"
      ],
      "execution_count": 56,
      "outputs": [
        {
          "output_type": "execute_result",
          "data": {
            "text/plain": [
              "XGBClassifier(base_score=0.5, booster='gbtree', colsample=1.0,\n",
              "              colsample_bylevel=1, colsample_bynode=1, colsample_bytree=0.7,\n",
              "              early_stopping_rounds=10, eta=0.3, gamma=0, learning_rate=0.1,\n",
              "              max_delta_step=0, max_depth=10, min_child_weight=5, missing=None,\n",
              "              n_estimators=16, n_jobs=1, nthread=None,\n",
              "              objective='binary:logistic', random_state=0, reg_alpha=0,\n",
              "              reg_lambda=1, scale_pos_weight=1, seed=None, silent=None,\n",
              "              subsample=0.7, verbosity=1)"
            ]
          },
          "metadata": {
            "tags": []
          },
          "execution_count": 56
        }
      ]
    },
    {
      "cell_type": "code",
      "metadata": {
        "id": "1FM8cSu1U-VS",
        "colab_type": "code",
        "colab": {}
      },
      "source": [
        "y_preds = xg_clf.predict(X_val)"
      ],
      "execution_count": 0,
      "outputs": []
    },
    {
      "cell_type": "code",
      "metadata": {
        "id": "knkfPuyBVF64",
        "colab_type": "code",
        "outputId": "0fe8a189-d6e1-4521-b900-f0d9828a0872",
        "colab": {
          "base_uri": "https://localhost:8080/",
          "height": 51
        }
      },
      "source": [
        "from sklearn.metrics import confusion_matrix\n",
        "cm = confusion_matrix(y_preds,y_val)\n",
        "print(cm)"
      ],
      "execution_count": 58,
      "outputs": [
        {
          "output_type": "stream",
          "text": [
            "[[49 10]\n",
            " [ 2 29]]\n"
          ],
          "name": "stdout"
        }
      ]
    },
    {
      "cell_type": "code",
      "metadata": {
        "id": "gviNssft8Cq4",
        "colab_type": "code",
        "outputId": "db9f4a46-3fa8-4569-f255-51601e44c92f",
        "colab": {
          "base_uri": "https://localhost:8080/",
          "height": 34
        }
      },
      "source": [
        "from sklearn.metrics import accuracy_score\n",
        "print(accuracy_score(y_preds,y_val))"
      ],
      "execution_count": 59,
      "outputs": [
        {
          "output_type": "stream",
          "text": [
            "0.8666666666666667\n"
          ],
          "name": "stdout"
        }
      ]
    },
    {
      "cell_type": "markdown",
      "metadata": {
        "id": "sM82V0ZMCF-N",
        "colab_type": "text"
      },
      "source": [
        "## 9) Predicting the actual results"
      ]
    },
    {
      "cell_type": "code",
      "metadata": {
        "id": "xgEdgdauB_yw",
        "colab_type": "code",
        "colab": {}
      },
      "source": [
        "y_pred = xg_clf.predict(X_test)\n",
        "xgb1 = xg_clf.predict_proba(X_test)[:,1]"
      ],
      "execution_count": 0,
      "outputs": []
    },
    {
      "cell_type": "code",
      "metadata": {
        "id": "mBRpCowUCLce",
        "colab_type": "code",
        "outputId": "d67b0a9b-7a35-4a74-c515-c32f6a3498d0",
        "colab": {
          "base_uri": "https://localhost:8080/",
          "height": 340
        }
      },
      "source": [
        "y_pred"
      ],
      "execution_count": 61,
      "outputs": [
        {
          "output_type": "execute_result",
          "data": {
            "text/plain": [
              "array([0, 1, 0, 0, 1, 0, 1, 0, 1, 0, 0, 0, 1, 0, 1, 1, 0, 0, 0, 1, 0, 0,\n",
              "       1, 0, 1, 0, 1, 0, 0, 0, 0, 0, 0, 0, 0, 0, 0, 0, 0, 0, 0, 0, 0, 1,\n",
              "       1, 0, 0, 0, 1, 0, 0, 0, 1, 1, 0, 0, 0, 0, 0, 1, 0, 0, 0, 1, 0, 1,\n",
              "       1, 0, 0, 1, 1, 0, 0, 0, 1, 0, 0, 1, 0, 1, 1, 0, 0, 0, 0, 0, 1, 0,\n",
              "       1, 1, 1, 0, 1, 0, 0, 0, 1, 0, 1, 0, 1, 0, 0, 0, 1, 0, 0, 0, 0, 0,\n",
              "       0, 1, 1, 1, 1, 0, 0, 1, 0, 1, 1, 0, 1, 0, 0, 1, 0, 1, 0, 0, 0, 0,\n",
              "       0, 0, 0, 0, 0, 0, 0, 0, 0, 1, 0, 0, 0, 0, 0, 0, 0, 0, 1, 0, 0, 0,\n",
              "       0, 0, 1, 1, 0, 1, 1, 1, 1, 0, 0, 1, 0, 0, 1, 0, 0, 0, 0, 0, 0, 1,\n",
              "       1, 0, 1, 1, 0, 0, 1, 0, 1, 0, 1, 0, 0, 0, 0, 0, 1, 0, 1, 0, 1, 1,\n",
              "       0, 0, 1, 1, 0, 1, 0, 0, 1, 0, 1, 0, 0, 0, 0, 1, 0, 0, 1, 0, 1, 0,\n",
              "       1, 0, 1, 0, 1, 1, 0, 1, 0, 0, 0, 1, 0, 0, 0, 0, 0, 0, 1, 1, 1, 1,\n",
              "       0, 0, 0, 0, 1, 0, 1, 1, 1, 0, 0, 0, 0, 0, 0, 0, 1, 0, 0, 0, 1, 0,\n",
              "       0, 0, 0, 0, 0, 0, 0, 0, 1, 1, 0, 1, 0, 0, 0, 0, 0, 1, 1, 1, 1, 0,\n",
              "       0, 0, 0, 0, 0, 1, 0, 0, 0, 0, 1, 0, 0, 0, 0, 0, 0, 0, 1, 1, 0, 1,\n",
              "       0, 0, 0, 0, 0, 1, 1, 1, 0, 0, 0, 0, 0, 0, 0, 0, 1, 0, 1, 0, 0, 0,\n",
              "       1, 0, 0, 1, 0, 0, 0, 0, 0, 0, 0, 0, 0, 1, 0, 1, 0, 1, 0, 1, 1, 0,\n",
              "       0, 0, 0, 0, 1, 0, 0, 1, 0, 1, 1, 0, 1, 0, 0, 1, 1, 0, 0, 1, 0, 0,\n",
              "       1, 1, 0, 0, 0, 0, 0, 0, 1, 1, 0, 1, 0, 0, 0, 0, 0, 1, 0, 0, 0, 1,\n",
              "       0, 1, 0, 0, 1, 0, 1, 0, 0, 0, 0, 0, 1, 0, 1, 1, 1, 0, 1, 0, 0, 0])"
            ]
          },
          "metadata": {
            "tags": []
          },
          "execution_count": 61
        }
      ]
    },
    {
      "cell_type": "markdown",
      "metadata": {
        "id": "G7VEjiegCvuM",
        "colab_type": "text"
      },
      "source": [
        "## 10) Saving the results into a csv file"
      ]
    },
    {
      "cell_type": "code",
      "metadata": {
        "id": "Srr8Q5FQCMwA",
        "colab_type": "code",
        "outputId": "0ef4a764-66cd-48b9-b7af-d05422923fdb",
        "colab": {
          "base_uri": "https://localhost:8080/",
          "height": 419
        }
      },
      "source": [
        "submission = pd.DataFrame({'PassengerId':df_test['PassengerId'],'Survived':y_pred})\n",
        "submission"
      ],
      "execution_count": 62,
      "outputs": [
        {
          "output_type": "execute_result",
          "data": {
            "text/html": [
              "<div>\n",
              "<style scoped>\n",
              "    .dataframe tbody tr th:only-of-type {\n",
              "        vertical-align: middle;\n",
              "    }\n",
              "\n",
              "    .dataframe tbody tr th {\n",
              "        vertical-align: top;\n",
              "    }\n",
              "\n",
              "    .dataframe thead th {\n",
              "        text-align: right;\n",
              "    }\n",
              "</style>\n",
              "<table border=\"1\" class=\"dataframe\">\n",
              "  <thead>\n",
              "    <tr style=\"text-align: right;\">\n",
              "      <th></th>\n",
              "      <th>PassengerId</th>\n",
              "      <th>Survived</th>\n",
              "    </tr>\n",
              "  </thead>\n",
              "  <tbody>\n",
              "    <tr>\n",
              "      <th>0</th>\n",
              "      <td>892</td>\n",
              "      <td>0</td>\n",
              "    </tr>\n",
              "    <tr>\n",
              "      <th>1</th>\n",
              "      <td>893</td>\n",
              "      <td>1</td>\n",
              "    </tr>\n",
              "    <tr>\n",
              "      <th>2</th>\n",
              "      <td>894</td>\n",
              "      <td>0</td>\n",
              "    </tr>\n",
              "    <tr>\n",
              "      <th>3</th>\n",
              "      <td>895</td>\n",
              "      <td>0</td>\n",
              "    </tr>\n",
              "    <tr>\n",
              "      <th>4</th>\n",
              "      <td>896</td>\n",
              "      <td>1</td>\n",
              "    </tr>\n",
              "    <tr>\n",
              "      <th>...</th>\n",
              "      <td>...</td>\n",
              "      <td>...</td>\n",
              "    </tr>\n",
              "    <tr>\n",
              "      <th>413</th>\n",
              "      <td>1305</td>\n",
              "      <td>0</td>\n",
              "    </tr>\n",
              "    <tr>\n",
              "      <th>414</th>\n",
              "      <td>1306</td>\n",
              "      <td>1</td>\n",
              "    </tr>\n",
              "    <tr>\n",
              "      <th>415</th>\n",
              "      <td>1307</td>\n",
              "      <td>0</td>\n",
              "    </tr>\n",
              "    <tr>\n",
              "      <th>416</th>\n",
              "      <td>1308</td>\n",
              "      <td>0</td>\n",
              "    </tr>\n",
              "    <tr>\n",
              "      <th>417</th>\n",
              "      <td>1309</td>\n",
              "      <td>0</td>\n",
              "    </tr>\n",
              "  </tbody>\n",
              "</table>\n",
              "<p>418 rows × 2 columns</p>\n",
              "</div>"
            ],
            "text/plain": [
              "     PassengerId  Survived\n",
              "0            892         0\n",
              "1            893         1\n",
              "2            894         0\n",
              "3            895         0\n",
              "4            896         1\n",
              "..           ...       ...\n",
              "413         1305         0\n",
              "414         1306         1\n",
              "415         1307         0\n",
              "416         1308         0\n",
              "417         1309         0\n",
              "\n",
              "[418 rows x 2 columns]"
            ]
          },
          "metadata": {
            "tags": []
          },
          "execution_count": 62
        }
      ]
    },
    {
      "cell_type": "code",
      "metadata": {
        "id": "k3oYBNqbCrFp",
        "colab_type": "code",
        "colab": {}
      },
      "source": [
        "submission.to_csv('tuned_hyperparameter_result.csv',index=False)"
      ],
      "execution_count": 0,
      "outputs": []
    },
    {
      "cell_type": "markdown",
      "metadata": {
        "id": "gqZFLpL3R5cd",
        "colab_type": "text"
      },
      "source": [
        "## 11) Building the Light GBM"
      ]
    },
    {
      "cell_type": "code",
      "metadata": {
        "id": "gHILgCbLR4zh",
        "colab_type": "code",
        "colab": {}
      },
      "source": [
        "import lightgbm as lbg"
      ],
      "execution_count": 0,
      "outputs": []
    },
    {
      "cell_type": "code",
      "metadata": {
        "id": "ObJClaxkV1Qf",
        "colab_type": "code",
        "colab": {}
      },
      "source": [
        "train_data=lbg.Dataset(X_train,label=y_train)"
      ],
      "execution_count": 0,
      "outputs": []
    },
    {
      "cell_type": "code",
      "metadata": {
        "id": "01vJ0AmdJZb7",
        "colab_type": "code",
        "outputId": "263dfaab-8ba7-43cc-bf69-a982bbec3b53",
        "colab": {
          "base_uri": "https://localhost:8080/",
          "height": 136
        }
      },
      "source": [
        "param = {'num_leaves':150, 'objective':'binary','max_depth':7,'learning_rate':0.1,'max_bin':200}\n",
        "lbg_clf = lbg.LGBMClassifier(num_leaves=150,max_depth=10,learning_rate=0.3,max_bin=200)\n",
        "\n",
        "lbg_clf.fit(X_train,y_train)"
      ],
      "execution_count": 66,
      "outputs": [
        {
          "output_type": "execute_result",
          "data": {
            "text/plain": [
              "LGBMClassifier(boosting_type='gbdt', class_weight=None, colsample_bytree=1.0,\n",
              "               importance_type='split', learning_rate=0.3, max_bin=200,\n",
              "               max_depth=10, min_child_samples=20, min_child_weight=0.001,\n",
              "               min_split_gain=0.0, n_estimators=100, n_jobs=-1, num_leaves=150,\n",
              "               objective=None, random_state=None, reg_alpha=0.0, reg_lambda=0.0,\n",
              "               silent=True, subsample=1.0, subsample_for_bin=200000,\n",
              "               subsample_freq=0)"
            ]
          },
          "metadata": {
            "tags": []
          },
          "execution_count": 66
        }
      ]
    },
    {
      "cell_type": "code",
      "metadata": {
        "id": "jRgSTfXPTow4",
        "colab_type": "code",
        "colab": {}
      },
      "source": [
        "#lbg_clf.fit(X_train,y_train)"
      ],
      "execution_count": 0,
      "outputs": []
    },
    {
      "cell_type": "code",
      "metadata": {
        "id": "m1q0p7rvTtYS",
        "colab_type": "code",
        "colab": {}
      },
      "source": [
        "y_lbg_pred = lbg_clf.predict(X_val)"
      ],
      "execution_count": 0,
      "outputs": []
    },
    {
      "cell_type": "code",
      "metadata": {
        "id": "DEXv65h4T1pU",
        "colab_type": "code",
        "outputId": "2ab566ea-ee31-454f-fc00-ee146aaaeeee",
        "colab": {
          "base_uri": "https://localhost:8080/",
          "height": 102
        }
      },
      "source": [
        "y_lbg_pred"
      ],
      "execution_count": 69,
      "outputs": [
        {
          "output_type": "execute_result",
          "data": {
            "text/plain": [
              "array([0, 0, 0, 1, 0, 0, 1, 1, 1, 1, 0, 1, 0, 1, 1, 1, 0, 0, 0, 1, 0, 1,\n",
              "       0, 0, 0, 1, 0, 1, 1, 0, 0, 1, 0, 0, 0, 1, 0, 0, 0, 0, 0, 1, 0, 0,\n",
              "       1, 0, 0, 1, 0, 0, 0, 0, 1, 0, 0, 0, 0, 0, 0, 0, 1, 0, 1, 1, 0, 0,\n",
              "       1, 1, 1, 1, 1, 0, 0, 0, 0, 1, 0, 1, 0, 0, 0, 1, 1, 0, 0, 1, 1, 0,\n",
              "       1, 1])"
            ]
          },
          "metadata": {
            "tags": []
          },
          "execution_count": 69
        }
      ]
    },
    {
      "cell_type": "code",
      "metadata": {
        "id": "iUs_lV-XT4X_",
        "colab_type": "code",
        "outputId": "e4e97ca9-b611-46c3-e15d-9bbb23646e0c",
        "colab": {
          "base_uri": "https://localhost:8080/",
          "height": 51
        }
      },
      "source": [
        "from sklearn.metrics import confusion_matrix\n",
        "cm = confusion_matrix(y_lbg_pred,y_val)\n",
        "print(cm)"
      ],
      "execution_count": 70,
      "outputs": [
        {
          "output_type": "stream",
          "text": [
            "[[43 11]\n",
            " [ 8 28]]\n"
          ],
          "name": "stdout"
        }
      ]
    },
    {
      "cell_type": "code",
      "metadata": {
        "id": "u9aXYyjqUFYj",
        "colab_type": "code",
        "outputId": "a4dbeb6c-ef2d-4faa-ed08-8e98363a61f4",
        "colab": {
          "base_uri": "https://localhost:8080/",
          "height": 34
        }
      },
      "source": [
        "from sklearn.metrics import accuracy_score\n",
        "print(accuracy_score(y_preds,y_val))"
      ],
      "execution_count": 71,
      "outputs": [
        {
          "output_type": "stream",
          "text": [
            "0.8666666666666667\n"
          ],
          "name": "stdout"
        }
      ]
    },
    {
      "cell_type": "code",
      "metadata": {
        "id": "Qxr2NvaVUKSq",
        "colab_type": "code",
        "colab": {}
      },
      "source": [
        "y_pred_lbg = lbg_clf.predict(X_test)\n",
        "lbg1 = lbg_clf.predict_proba(X_test)[:,1]"
      ],
      "execution_count": 0,
      "outputs": []
    },
    {
      "cell_type": "code",
      "metadata": {
        "id": "JpiryM2KURrS",
        "colab_type": "code",
        "outputId": "df8f8e73-3d27-4e94-f945-bb4f64978949",
        "colab": {
          "base_uri": "https://localhost:8080/",
          "height": 419
        }
      },
      "source": [
        "submission2 = pd.DataFrame({'PassengerId':df_test['PassengerId'],'Survived':y_pred_lbg})\n",
        "submission2"
      ],
      "execution_count": 73,
      "outputs": [
        {
          "output_type": "execute_result",
          "data": {
            "text/html": [
              "<div>\n",
              "<style scoped>\n",
              "    .dataframe tbody tr th:only-of-type {\n",
              "        vertical-align: middle;\n",
              "    }\n",
              "\n",
              "    .dataframe tbody tr th {\n",
              "        vertical-align: top;\n",
              "    }\n",
              "\n",
              "    .dataframe thead th {\n",
              "        text-align: right;\n",
              "    }\n",
              "</style>\n",
              "<table border=\"1\" class=\"dataframe\">\n",
              "  <thead>\n",
              "    <tr style=\"text-align: right;\">\n",
              "      <th></th>\n",
              "      <th>PassengerId</th>\n",
              "      <th>Survived</th>\n",
              "    </tr>\n",
              "  </thead>\n",
              "  <tbody>\n",
              "    <tr>\n",
              "      <th>0</th>\n",
              "      <td>892</td>\n",
              "      <td>0</td>\n",
              "    </tr>\n",
              "    <tr>\n",
              "      <th>1</th>\n",
              "      <td>893</td>\n",
              "      <td>0</td>\n",
              "    </tr>\n",
              "    <tr>\n",
              "      <th>2</th>\n",
              "      <td>894</td>\n",
              "      <td>0</td>\n",
              "    </tr>\n",
              "    <tr>\n",
              "      <th>3</th>\n",
              "      <td>895</td>\n",
              "      <td>1</td>\n",
              "    </tr>\n",
              "    <tr>\n",
              "      <th>4</th>\n",
              "      <td>896</td>\n",
              "      <td>1</td>\n",
              "    </tr>\n",
              "    <tr>\n",
              "      <th>...</th>\n",
              "      <td>...</td>\n",
              "      <td>...</td>\n",
              "    </tr>\n",
              "    <tr>\n",
              "      <th>413</th>\n",
              "      <td>1305</td>\n",
              "      <td>0</td>\n",
              "    </tr>\n",
              "    <tr>\n",
              "      <th>414</th>\n",
              "      <td>1306</td>\n",
              "      <td>1</td>\n",
              "    </tr>\n",
              "    <tr>\n",
              "      <th>415</th>\n",
              "      <td>1307</td>\n",
              "      <td>0</td>\n",
              "    </tr>\n",
              "    <tr>\n",
              "      <th>416</th>\n",
              "      <td>1308</td>\n",
              "      <td>0</td>\n",
              "    </tr>\n",
              "    <tr>\n",
              "      <th>417</th>\n",
              "      <td>1309</td>\n",
              "      <td>1</td>\n",
              "    </tr>\n",
              "  </tbody>\n",
              "</table>\n",
              "<p>418 rows × 2 columns</p>\n",
              "</div>"
            ],
            "text/plain": [
              "     PassengerId  Survived\n",
              "0            892         0\n",
              "1            893         0\n",
              "2            894         0\n",
              "3            895         1\n",
              "4            896         1\n",
              "..           ...       ...\n",
              "413         1305         0\n",
              "414         1306         1\n",
              "415         1307         0\n",
              "416         1308         0\n",
              "417         1309         1\n",
              "\n",
              "[418 rows x 2 columns]"
            ]
          },
          "metadata": {
            "tags": []
          },
          "execution_count": 73
        }
      ]
    },
    {
      "cell_type": "code",
      "metadata": {
        "id": "Rx2LyEUUUlM2",
        "colab_type": "code",
        "colab": {}
      },
      "source": [
        "submission2.to_csv('lightbgm_submission.csv',index=False)"
      ],
      "execution_count": 0,
      "outputs": []
    },
    {
      "cell_type": "markdown",
      "metadata": {
        "id": "U4QxkW6r3_4w",
        "colab_type": "text"
      },
      "source": [
        "## 12) Using Logistic Regression"
      ]
    },
    {
      "cell_type": "code",
      "metadata": {
        "id": "JI6IKt6TU0Ti",
        "colab_type": "code",
        "colab": {
          "base_uri": "https://localhost:8080/",
          "height": 34
        },
        "outputId": "6265bd66-f03a-45ce-b8c7-731c96b3b922"
      },
      "source": [
        "from sklearn.linear_model import LogisticRegression\n",
        "lr = LogisticRegression()\n",
        "\n",
        "lr.fit(X_train,y_train)\n",
        "y_val_pred = lr.predict(X_val)\n",
        "\n",
        "from sklearn.metrics import accuracy_score\n",
        "print(accuracy_score(y_val_pred,y_val))\n",
        "\n",
        "y_pred = lr.predict(X_test)\n",
        "lr1 = lr.predict_proba(X_test)[:,1]"
      ],
      "execution_count": 76,
      "outputs": [
        {
          "output_type": "stream",
          "text": [
            "0.8444444444444444\n"
          ],
          "name": "stdout"
        }
      ]
    },
    {
      "cell_type": "code",
      "metadata": {
        "id": "2-8RXE2y5YOO",
        "colab_type": "code",
        "colab": {}
      },
      "source": [
        "submission3 = pd.DataFrame({'PassengerId':df_test['PassengerId'],'Survived':y_pred})\n",
        "submission3.to_csv('logistic.csv',index=False)"
      ],
      "execution_count": 0,
      "outputs": []
    }
  ]
}