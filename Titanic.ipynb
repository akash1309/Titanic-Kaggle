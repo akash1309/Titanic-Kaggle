{
  "nbformat": 4,
  "nbformat_minor": 0,
  "metadata": {
    "colab": {
      "name": "Titanic.ipynb",
      "provenance": [],
      "toc_visible": true,
      "mount_file_id": "1x22gNO1ZtozKdPK5Mn1gvEQNW9-nUQCt",
      "authorship_tag": "ABX9TyNuUkWw5/G7zYtm5q3cliII"
    },
    "kernelspec": {
      "name": "python3",
      "display_name": "Python 3"
    }
  },
  "cells": [
    {
      "cell_type": "markdown",
      "metadata": {
        "id": "l6U_onxMzNG-",
        "colab_type": "text"
      },
      "source": [
        "# Titanic - Machine Learning from Disaster\n",
        "\n",
        "The competition is simple: use machine learning to create a model that predicts which passengers survived the Titanic shipwreck.\n",
        "\n",
        "Link to contest : https://www.kaggle.com/c/titanic/overview/description"
      ]
    },
    {
      "cell_type": "markdown",
      "metadata": {
        "id": "sVaWwMxpzsT6",
        "colab_type": "text"
      },
      "source": [
        "## 1) Importing the libraries"
      ]
    },
    {
      "cell_type": "code",
      "metadata": {
        "id": "807yuBAtzKt-",
        "colab_type": "code",
        "colab": {}
      },
      "source": [
        "import numpy as np\n",
        "import pandas as pd\n",
        "import matplotlib.pyplot as plt\n",
        "import torch\n",
        "import torch.nn as nn\n",
        "import xgboost as xgb\n",
        "import seaborn as sns\n",
        "sns.set(style=\"darkgrid\")\n",
        "\n",
        "import warnings\n",
        "warnings.filterwarnings('ignore')"
      ],
      "execution_count": 0,
      "outputs": []
    },
    {
      "cell_type": "markdown",
      "metadata": {
        "id": "4D-UEPjn0Ahw",
        "colab_type": "text"
      },
      "source": [
        "## 2) Data Preprocessing"
      ]
    },
    {
      "cell_type": "markdown",
      "metadata": {
        "id": "xLhVb2JH1W3C",
        "colab_type": "text"
      },
      "source": [
        "* **Data Dictionary**\n",
        "\n",
        "- survival ---\tSurvival\t0 = No, 1 = Yes\n",
        "- pclass\t ---   Ticket class\t1 = 1st, 2 = 2nd, 3 = 3rd\n",
        "- sex\t     ---   Sex\t\n",
        "- Age\t     ---   Age in years\t\n",
        "- sibsp    ---  \t# of siblings / spouses aboard the Titanic\t\n",
        "- parch    --- \t# of parents / children aboard the Titanic\t\n",
        "- ticket\t ---   Ticket number\t\n",
        "- fare\t   ---   Passenger fare\t\n",
        "- cabin    --- \tCabin number\t\n",
        "- embarked --- \tPort of Embarkation\tC = Cherbourg, Q =  Queenstown, S = Southampton"
      ]
    },
    {
      "cell_type": "markdown",
      "metadata": {
        "id": "H_-kfjfc0kuw",
        "colab_type": "text"
      },
      "source": [
        "- Variable Notes\n",
        "* pclass: A proxy for socio-economic status (SES)<br>\n",
        "1st = Upper<br>\n",
        "2nd = Middle<br>\n",
        "3rd = Lower<br>\n",
        "\n",
        "* age: Age is fractional if less than 1. If the age is estimated, is it in the form of xx.5\n",
        "\n",
        "* sibsp: The dataset defines family relations in this way...<br>\n",
        "Sibling = brother, sister, stepbrother, stepsister<br>\n",
        "Spouse = husband, wife (mistresses and fiancés were ignored)\n",
        "\n",
        "* parch: The dataset defines family relations in this way...<br>\n",
        "Parent = mother, father<br>\n",
        "Child = daughter, son, stepdaughter, stepson<br>\n",
        "Some children travelled only with a nanny, therefore parch=0 for them."
      ]
    },
    {
      "cell_type": "code",
      "metadata": {
        "id": "nvbmZUJnz_To",
        "colab_type": "code",
        "outputId": "6e4a749e-afb5-41f1-bda8-6f72d4f79523",
        "colab": {
          "base_uri": "https://localhost:8080/",
          "height": 255
        }
      },
      "source": [
        "# For train\n",
        "\n",
        "df_train = pd.read_csv('drive/My Drive/Pytorch_DataSet/Titanic Data/train.csv')\n",
        "df_train.head()"
      ],
      "execution_count": 51,
      "outputs": [
        {
          "output_type": "execute_result",
          "data": {
            "text/html": [
              "<div>\n",
              "<style scoped>\n",
              "    .dataframe tbody tr th:only-of-type {\n",
              "        vertical-align: middle;\n",
              "    }\n",
              "\n",
              "    .dataframe tbody tr th {\n",
              "        vertical-align: top;\n",
              "    }\n",
              "\n",
              "    .dataframe thead th {\n",
              "        text-align: right;\n",
              "    }\n",
              "</style>\n",
              "<table border=\"1\" class=\"dataframe\">\n",
              "  <thead>\n",
              "    <tr style=\"text-align: right;\">\n",
              "      <th></th>\n",
              "      <th>PassengerId</th>\n",
              "      <th>Survived</th>\n",
              "      <th>Pclass</th>\n",
              "      <th>Name</th>\n",
              "      <th>Sex</th>\n",
              "      <th>Age</th>\n",
              "      <th>SibSp</th>\n",
              "      <th>Parch</th>\n",
              "      <th>Ticket</th>\n",
              "      <th>Fare</th>\n",
              "      <th>Cabin</th>\n",
              "      <th>Embarked</th>\n",
              "    </tr>\n",
              "  </thead>\n",
              "  <tbody>\n",
              "    <tr>\n",
              "      <th>0</th>\n",
              "      <td>1</td>\n",
              "      <td>0</td>\n",
              "      <td>3</td>\n",
              "      <td>Braund, Mr. Owen Harris</td>\n",
              "      <td>male</td>\n",
              "      <td>22.0</td>\n",
              "      <td>1</td>\n",
              "      <td>0</td>\n",
              "      <td>A/5 21171</td>\n",
              "      <td>7.2500</td>\n",
              "      <td>NaN</td>\n",
              "      <td>S</td>\n",
              "    </tr>\n",
              "    <tr>\n",
              "      <th>1</th>\n",
              "      <td>2</td>\n",
              "      <td>1</td>\n",
              "      <td>1</td>\n",
              "      <td>Cumings, Mrs. John Bradley (Florence Briggs Th...</td>\n",
              "      <td>female</td>\n",
              "      <td>38.0</td>\n",
              "      <td>1</td>\n",
              "      <td>0</td>\n",
              "      <td>PC 17599</td>\n",
              "      <td>71.2833</td>\n",
              "      <td>C85</td>\n",
              "      <td>C</td>\n",
              "    </tr>\n",
              "    <tr>\n",
              "      <th>2</th>\n",
              "      <td>3</td>\n",
              "      <td>1</td>\n",
              "      <td>3</td>\n",
              "      <td>Heikkinen, Miss. Laina</td>\n",
              "      <td>female</td>\n",
              "      <td>26.0</td>\n",
              "      <td>0</td>\n",
              "      <td>0</td>\n",
              "      <td>STON/O2. 3101282</td>\n",
              "      <td>7.9250</td>\n",
              "      <td>NaN</td>\n",
              "      <td>S</td>\n",
              "    </tr>\n",
              "    <tr>\n",
              "      <th>3</th>\n",
              "      <td>4</td>\n",
              "      <td>1</td>\n",
              "      <td>1</td>\n",
              "      <td>Futrelle, Mrs. Jacques Heath (Lily May Peel)</td>\n",
              "      <td>female</td>\n",
              "      <td>35.0</td>\n",
              "      <td>1</td>\n",
              "      <td>0</td>\n",
              "      <td>113803</td>\n",
              "      <td>53.1000</td>\n",
              "      <td>C123</td>\n",
              "      <td>S</td>\n",
              "    </tr>\n",
              "    <tr>\n",
              "      <th>4</th>\n",
              "      <td>5</td>\n",
              "      <td>0</td>\n",
              "      <td>3</td>\n",
              "      <td>Allen, Mr. William Henry</td>\n",
              "      <td>male</td>\n",
              "      <td>35.0</td>\n",
              "      <td>0</td>\n",
              "      <td>0</td>\n",
              "      <td>373450</td>\n",
              "      <td>8.0500</td>\n",
              "      <td>NaN</td>\n",
              "      <td>S</td>\n",
              "    </tr>\n",
              "  </tbody>\n",
              "</table>\n",
              "</div>"
            ],
            "text/plain": [
              "   PassengerId  Survived  Pclass  ...     Fare Cabin  Embarked\n",
              "0            1         0       3  ...   7.2500   NaN         S\n",
              "1            2         1       1  ...  71.2833   C85         C\n",
              "2            3         1       3  ...   7.9250   NaN         S\n",
              "3            4         1       1  ...  53.1000  C123         S\n",
              "4            5         0       3  ...   8.0500   NaN         S\n",
              "\n",
              "[5 rows x 12 columns]"
            ]
          },
          "metadata": {
            "tags": []
          },
          "execution_count": 51
        }
      ]
    },
    {
      "cell_type": "code",
      "metadata": {
        "id": "fbSxYTmKhb48",
        "colab_type": "code",
        "colab": {
          "base_uri": "https://localhost:8080/",
          "height": 204
        },
        "outputId": "5dd6e12b-c1d4-44a9-8f77-6f5ff069f96d"
      },
      "source": [
        "# For test \n",
        "\n",
        "df_test = pd.read_csv('drive/My Drive/Pytorch_DataSet/Titanic Data/test.csv')\n",
        "df_test.head()"
      ],
      "execution_count": 52,
      "outputs": [
        {
          "output_type": "execute_result",
          "data": {
            "text/html": [
              "<div>\n",
              "<style scoped>\n",
              "    .dataframe tbody tr th:only-of-type {\n",
              "        vertical-align: middle;\n",
              "    }\n",
              "\n",
              "    .dataframe tbody tr th {\n",
              "        vertical-align: top;\n",
              "    }\n",
              "\n",
              "    .dataframe thead th {\n",
              "        text-align: right;\n",
              "    }\n",
              "</style>\n",
              "<table border=\"1\" class=\"dataframe\">\n",
              "  <thead>\n",
              "    <tr style=\"text-align: right;\">\n",
              "      <th></th>\n",
              "      <th>PassengerId</th>\n",
              "      <th>Pclass</th>\n",
              "      <th>Name</th>\n",
              "      <th>Sex</th>\n",
              "      <th>Age</th>\n",
              "      <th>SibSp</th>\n",
              "      <th>Parch</th>\n",
              "      <th>Ticket</th>\n",
              "      <th>Fare</th>\n",
              "      <th>Cabin</th>\n",
              "      <th>Embarked</th>\n",
              "    </tr>\n",
              "  </thead>\n",
              "  <tbody>\n",
              "    <tr>\n",
              "      <th>0</th>\n",
              "      <td>892</td>\n",
              "      <td>3</td>\n",
              "      <td>Kelly, Mr. James</td>\n",
              "      <td>male</td>\n",
              "      <td>34.5</td>\n",
              "      <td>0</td>\n",
              "      <td>0</td>\n",
              "      <td>330911</td>\n",
              "      <td>7.8292</td>\n",
              "      <td>NaN</td>\n",
              "      <td>Q</td>\n",
              "    </tr>\n",
              "    <tr>\n",
              "      <th>1</th>\n",
              "      <td>893</td>\n",
              "      <td>3</td>\n",
              "      <td>Wilkes, Mrs. James (Ellen Needs)</td>\n",
              "      <td>female</td>\n",
              "      <td>47.0</td>\n",
              "      <td>1</td>\n",
              "      <td>0</td>\n",
              "      <td>363272</td>\n",
              "      <td>7.0000</td>\n",
              "      <td>NaN</td>\n",
              "      <td>S</td>\n",
              "    </tr>\n",
              "    <tr>\n",
              "      <th>2</th>\n",
              "      <td>894</td>\n",
              "      <td>2</td>\n",
              "      <td>Myles, Mr. Thomas Francis</td>\n",
              "      <td>male</td>\n",
              "      <td>62.0</td>\n",
              "      <td>0</td>\n",
              "      <td>0</td>\n",
              "      <td>240276</td>\n",
              "      <td>9.6875</td>\n",
              "      <td>NaN</td>\n",
              "      <td>Q</td>\n",
              "    </tr>\n",
              "    <tr>\n",
              "      <th>3</th>\n",
              "      <td>895</td>\n",
              "      <td>3</td>\n",
              "      <td>Wirz, Mr. Albert</td>\n",
              "      <td>male</td>\n",
              "      <td>27.0</td>\n",
              "      <td>0</td>\n",
              "      <td>0</td>\n",
              "      <td>315154</td>\n",
              "      <td>8.6625</td>\n",
              "      <td>NaN</td>\n",
              "      <td>S</td>\n",
              "    </tr>\n",
              "    <tr>\n",
              "      <th>4</th>\n",
              "      <td>896</td>\n",
              "      <td>3</td>\n",
              "      <td>Hirvonen, Mrs. Alexander (Helga E Lindqvist)</td>\n",
              "      <td>female</td>\n",
              "      <td>22.0</td>\n",
              "      <td>1</td>\n",
              "      <td>1</td>\n",
              "      <td>3101298</td>\n",
              "      <td>12.2875</td>\n",
              "      <td>NaN</td>\n",
              "      <td>S</td>\n",
              "    </tr>\n",
              "  </tbody>\n",
              "</table>\n",
              "</div>"
            ],
            "text/plain": [
              "   PassengerId  Pclass  ... Cabin Embarked\n",
              "0          892       3  ...   NaN        Q\n",
              "1          893       3  ...   NaN        S\n",
              "2          894       2  ...   NaN        Q\n",
              "3          895       3  ...   NaN        S\n",
              "4          896       3  ...   NaN        S\n",
              "\n",
              "[5 rows x 11 columns]"
            ]
          },
          "metadata": {
            "tags": []
          },
          "execution_count": 52
        }
      ]
    },
    {
      "cell_type": "code",
      "metadata": {
        "id": "jC4NBrOoao7Y",
        "colab_type": "code",
        "colab": {}
      },
      "source": [
        ""
      ],
      "execution_count": 0,
      "outputs": []
    },
    {
      "cell_type": "code",
      "metadata": {
        "id": "RocR2G24K3Rw",
        "colab_type": "code",
        "colab": {}
      },
      "source": [
        "def title_corr(t):\n",
        "    newt = t\n",
        "    if t == 'Mrs' or t == 'Mr' or t == 'Miss':\n",
        "        return newt\n",
        "    elif t == 'Capt' or t == 'Col' or t == 'Major' or t == 'Dr' or t == 'Rev':\n",
        "        newt = 'Crew'\n",
        "    elif t == 'Jonkheer' or t == 'Sir' or t == 'the Countess' or t == 'Lady' or t == 'Master':\n",
        "        newt = 'Noble'\n",
        "    elif t == 'Don':\n",
        "        newt = 'Mr'\n",
        "    elif t == 'Dona' or t == 'Ms' or t == 'Mme':\n",
        "        newt = 'Mrs'\n",
        "    elif t == 'Mlle':\n",
        "        newt = 'Miss'\n",
        "    else: print(\"Title not included:\", t)\n",
        "    return newt\n",
        "\n",
        "# Extract the titles from the name and put them in a list, then correct them\n",
        "\n",
        "# Train data\n",
        "\n",
        "train_titles = list()\n",
        "for name in df_train[\"Name\"]:\n",
        "    train_titles.append(name.split(',')[1].split('.')[0].strip())\n",
        "for i in range(len(train_titles)):\n",
        "    train_titles[i] = title_corr(train_titles[i])\n",
        "df_train[\"Titles\"] = train_titles\n",
        "\n",
        "# Test set \n",
        "\n",
        "test_titles = list()\n",
        "for name in df_test[\"Name\"]:\n",
        "    test_titles.append(name.split(',')[1].split('.')[0].strip())\n",
        "for i in range(len(test_titles)):\n",
        "    test_titles[i] = title_corr(test_titles[i])\n",
        "df_test[\"Titles\"] = test_titles"
      ],
      "execution_count": 0,
      "outputs": []
    },
    {
      "cell_type": "code",
      "metadata": {
        "id": "iTf7utqCMXMK",
        "colab_type": "code",
        "colab": {}
      },
      "source": [
        "# Train Data\n",
        "\n",
        "df_train['Total Family'] = df_train['SibSp'] + df_train['Parch']\n",
        "\n",
        "# Test Data\n",
        "\n",
        "df_test['Total Family'] = df_test['SibSp'] + df_test['Parch']\n"
      ],
      "execution_count": 0,
      "outputs": []
    },
    {
      "cell_type": "code",
      "metadata": {
        "id": "UUHDQxtoNt8m",
        "colab_type": "code",
        "outputId": "3cf9f4e2-3e32-48e1-f6ab-c2356551b0c0",
        "colab": {
          "base_uri": "https://localhost:8080/",
          "height": 334
        }
      },
      "source": [
        "# For train \n",
        "df_train.describe()"
      ],
      "execution_count": 205,
      "outputs": [
        {
          "output_type": "execute_result",
          "data": {
            "text/html": [
              "<div>\n",
              "<style scoped>\n",
              "    .dataframe tbody tr th:only-of-type {\n",
              "        vertical-align: middle;\n",
              "    }\n",
              "\n",
              "    .dataframe tbody tr th {\n",
              "        vertical-align: top;\n",
              "    }\n",
              "\n",
              "    .dataframe thead th {\n",
              "        text-align: right;\n",
              "    }\n",
              "</style>\n",
              "<table border=\"1\" class=\"dataframe\">\n",
              "  <thead>\n",
              "    <tr style=\"text-align: right;\">\n",
              "      <th></th>\n",
              "      <th>PassengerId</th>\n",
              "      <th>Survived</th>\n",
              "      <th>Pclass</th>\n",
              "      <th>Sex</th>\n",
              "      <th>Age</th>\n",
              "      <th>SibSp</th>\n",
              "      <th>Parch</th>\n",
              "      <th>Fare</th>\n",
              "      <th>Embarked</th>\n",
              "      <th>Titles</th>\n",
              "      <th>Total Family</th>\n",
              "    </tr>\n",
              "  </thead>\n",
              "  <tbody>\n",
              "    <tr>\n",
              "      <th>count</th>\n",
              "      <td>891.000000</td>\n",
              "      <td>891.000000</td>\n",
              "      <td>891.000000</td>\n",
              "      <td>891.000000</td>\n",
              "      <td>891.000000</td>\n",
              "      <td>891.000000</td>\n",
              "      <td>891.000000</td>\n",
              "      <td>891.000000</td>\n",
              "      <td>891.000000</td>\n",
              "      <td>891.000000</td>\n",
              "      <td>891.000000</td>\n",
              "    </tr>\n",
              "    <tr>\n",
              "      <th>mean</th>\n",
              "      <td>446.000000</td>\n",
              "      <td>0.383838</td>\n",
              "      <td>2.308642</td>\n",
              "      <td>0.647587</td>\n",
              "      <td>29.361582</td>\n",
              "      <td>0.523008</td>\n",
              "      <td>0.381594</td>\n",
              "      <td>32.204208</td>\n",
              "      <td>1.536476</td>\n",
              "      <td>1.994388</td>\n",
              "      <td>0.904602</td>\n",
              "    </tr>\n",
              "    <tr>\n",
              "      <th>std</th>\n",
              "      <td>257.353842</td>\n",
              "      <td>0.486592</td>\n",
              "      <td>0.836071</td>\n",
              "      <td>0.477990</td>\n",
              "      <td>13.019697</td>\n",
              "      <td>1.102743</td>\n",
              "      <td>0.806057</td>\n",
              "      <td>49.693429</td>\n",
              "      <td>0.791503</td>\n",
              "      <td>0.792501</td>\n",
              "      <td>1.613459</td>\n",
              "    </tr>\n",
              "    <tr>\n",
              "      <th>min</th>\n",
              "      <td>1.000000</td>\n",
              "      <td>0.000000</td>\n",
              "      <td>1.000000</td>\n",
              "      <td>0.000000</td>\n",
              "      <td>0.420000</td>\n",
              "      <td>0.000000</td>\n",
              "      <td>0.000000</td>\n",
              "      <td>0.000000</td>\n",
              "      <td>0.000000</td>\n",
              "      <td>0.000000</td>\n",
              "      <td>0.000000</td>\n",
              "    </tr>\n",
              "    <tr>\n",
              "      <th>25%</th>\n",
              "      <td>223.500000</td>\n",
              "      <td>0.000000</td>\n",
              "      <td>2.000000</td>\n",
              "      <td>0.000000</td>\n",
              "      <td>22.000000</td>\n",
              "      <td>0.000000</td>\n",
              "      <td>0.000000</td>\n",
              "      <td>7.910400</td>\n",
              "      <td>1.000000</td>\n",
              "      <td>2.000000</td>\n",
              "      <td>0.000000</td>\n",
              "    </tr>\n",
              "    <tr>\n",
              "      <th>50%</th>\n",
              "      <td>446.000000</td>\n",
              "      <td>0.000000</td>\n",
              "      <td>3.000000</td>\n",
              "      <td>1.000000</td>\n",
              "      <td>28.000000</td>\n",
              "      <td>0.000000</td>\n",
              "      <td>0.000000</td>\n",
              "      <td>14.454200</td>\n",
              "      <td>2.000000</td>\n",
              "      <td>2.000000</td>\n",
              "      <td>0.000000</td>\n",
              "    </tr>\n",
              "    <tr>\n",
              "      <th>75%</th>\n",
              "      <td>668.500000</td>\n",
              "      <td>1.000000</td>\n",
              "      <td>3.000000</td>\n",
              "      <td>1.000000</td>\n",
              "      <td>35.000000</td>\n",
              "      <td>1.000000</td>\n",
              "      <td>0.000000</td>\n",
              "      <td>31.000000</td>\n",
              "      <td>2.000000</td>\n",
              "      <td>2.000000</td>\n",
              "      <td>1.000000</td>\n",
              "    </tr>\n",
              "    <tr>\n",
              "      <th>max</th>\n",
              "      <td>891.000000</td>\n",
              "      <td>1.000000</td>\n",
              "      <td>3.000000</td>\n",
              "      <td>1.000000</td>\n",
              "      <td>80.000000</td>\n",
              "      <td>8.000000</td>\n",
              "      <td>6.000000</td>\n",
              "      <td>512.329200</td>\n",
              "      <td>2.000000</td>\n",
              "      <td>4.000000</td>\n",
              "      <td>10.000000</td>\n",
              "    </tr>\n",
              "  </tbody>\n",
              "</table>\n",
              "</div>"
            ],
            "text/plain": [
              "       PassengerId    Survived  ...      Titles  Total Family\n",
              "count   891.000000  891.000000  ...  891.000000    891.000000\n",
              "mean    446.000000    0.383838  ...    1.994388      0.904602\n",
              "std     257.353842    0.486592  ...    0.792501      1.613459\n",
              "min       1.000000    0.000000  ...    0.000000      0.000000\n",
              "25%     223.500000    0.000000  ...    2.000000      0.000000\n",
              "50%     446.000000    0.000000  ...    2.000000      0.000000\n",
              "75%     668.500000    1.000000  ...    2.000000      1.000000\n",
              "max     891.000000    1.000000  ...    4.000000     10.000000\n",
              "\n",
              "[8 rows x 11 columns]"
            ]
          },
          "metadata": {
            "tags": []
          },
          "execution_count": 205
        }
      ]
    },
    {
      "cell_type": "code",
      "metadata": {
        "id": "11aDvULxZW5Y",
        "colab_type": "code",
        "colab": {
          "base_uri": "https://localhost:8080/",
          "height": 297
        },
        "outputId": "6026227a-9245-4a0f-c025-afde1ecebb75"
      },
      "source": [
        "# For test \n",
        "df_test.describe()"
      ],
      "execution_count": 206,
      "outputs": [
        {
          "output_type": "execute_result",
          "data": {
            "text/html": [
              "<div>\n",
              "<style scoped>\n",
              "    .dataframe tbody tr th:only-of-type {\n",
              "        vertical-align: middle;\n",
              "    }\n",
              "\n",
              "    .dataframe tbody tr th {\n",
              "        vertical-align: top;\n",
              "    }\n",
              "\n",
              "    .dataframe thead th {\n",
              "        text-align: right;\n",
              "    }\n",
              "</style>\n",
              "<table border=\"1\" class=\"dataframe\">\n",
              "  <thead>\n",
              "    <tr style=\"text-align: right;\">\n",
              "      <th></th>\n",
              "      <th>PassengerId</th>\n",
              "      <th>Pclass</th>\n",
              "      <th>Sex</th>\n",
              "      <th>Age</th>\n",
              "      <th>SibSp</th>\n",
              "      <th>Parch</th>\n",
              "      <th>Fare</th>\n",
              "      <th>Embarked</th>\n",
              "      <th>Titles</th>\n",
              "      <th>Total Family</th>\n",
              "    </tr>\n",
              "  </thead>\n",
              "  <tbody>\n",
              "    <tr>\n",
              "      <th>count</th>\n",
              "      <td>418.000000</td>\n",
              "      <td>418.000000</td>\n",
              "      <td>418.000000</td>\n",
              "      <td>418.000000</td>\n",
              "      <td>418.000000</td>\n",
              "      <td>418.000000</td>\n",
              "      <td>418.000000</td>\n",
              "      <td>418.000000</td>\n",
              "      <td>418.000000</td>\n",
              "      <td>418.000000</td>\n",
              "    </tr>\n",
              "    <tr>\n",
              "      <th>mean</th>\n",
              "      <td>1100.500000</td>\n",
              "      <td>2.265550</td>\n",
              "      <td>0.636364</td>\n",
              "      <td>29.599282</td>\n",
              "      <td>0.447368</td>\n",
              "      <td>0.392344</td>\n",
              "      <td>35.576535</td>\n",
              "      <td>1.401914</td>\n",
              "      <td>2.066986</td>\n",
              "      <td>0.839713</td>\n",
              "    </tr>\n",
              "    <tr>\n",
              "      <th>std</th>\n",
              "      <td>120.810458</td>\n",
              "      <td>0.841838</td>\n",
              "      <td>0.481622</td>\n",
              "      <td>12.703770</td>\n",
              "      <td>0.896760</td>\n",
              "      <td>0.981429</td>\n",
              "      <td>55.850103</td>\n",
              "      <td>0.854496</td>\n",
              "      <td>0.780648</td>\n",
              "      <td>1.519072</td>\n",
              "    </tr>\n",
              "    <tr>\n",
              "      <th>min</th>\n",
              "      <td>892.000000</td>\n",
              "      <td>1.000000</td>\n",
              "      <td>0.000000</td>\n",
              "      <td>0.170000</td>\n",
              "      <td>0.000000</td>\n",
              "      <td>0.000000</td>\n",
              "      <td>0.000000</td>\n",
              "      <td>0.000000</td>\n",
              "      <td>0.000000</td>\n",
              "      <td>0.000000</td>\n",
              "    </tr>\n",
              "    <tr>\n",
              "      <th>25%</th>\n",
              "      <td>996.250000</td>\n",
              "      <td>1.000000</td>\n",
              "      <td>0.000000</td>\n",
              "      <td>23.000000</td>\n",
              "      <td>0.000000</td>\n",
              "      <td>0.000000</td>\n",
              "      <td>7.895800</td>\n",
              "      <td>1.000000</td>\n",
              "      <td>2.000000</td>\n",
              "      <td>0.000000</td>\n",
              "    </tr>\n",
              "    <tr>\n",
              "      <th>50%</th>\n",
              "      <td>1100.500000</td>\n",
              "      <td>3.000000</td>\n",
              "      <td>1.000000</td>\n",
              "      <td>27.000000</td>\n",
              "      <td>0.000000</td>\n",
              "      <td>0.000000</td>\n",
              "      <td>14.454200</td>\n",
              "      <td>2.000000</td>\n",
              "      <td>2.000000</td>\n",
              "      <td>0.000000</td>\n",
              "    </tr>\n",
              "    <tr>\n",
              "      <th>75%</th>\n",
              "      <td>1204.750000</td>\n",
              "      <td>3.000000</td>\n",
              "      <td>1.000000</td>\n",
              "      <td>35.750000</td>\n",
              "      <td>1.000000</td>\n",
              "      <td>0.000000</td>\n",
              "      <td>31.471875</td>\n",
              "      <td>2.000000</td>\n",
              "      <td>2.000000</td>\n",
              "      <td>1.000000</td>\n",
              "    </tr>\n",
              "    <tr>\n",
              "      <th>max</th>\n",
              "      <td>1309.000000</td>\n",
              "      <td>3.000000</td>\n",
              "      <td>1.000000</td>\n",
              "      <td>76.000000</td>\n",
              "      <td>8.000000</td>\n",
              "      <td>9.000000</td>\n",
              "      <td>512.329200</td>\n",
              "      <td>2.000000</td>\n",
              "      <td>4.000000</td>\n",
              "      <td>10.000000</td>\n",
              "    </tr>\n",
              "  </tbody>\n",
              "</table>\n",
              "</div>"
            ],
            "text/plain": [
              "       PassengerId      Pclass  ...      Titles  Total Family\n",
              "count   418.000000  418.000000  ...  418.000000    418.000000\n",
              "mean   1100.500000    2.265550  ...    2.066986      0.839713\n",
              "std     120.810458    0.841838  ...    0.780648      1.519072\n",
              "min     892.000000    1.000000  ...    0.000000      0.000000\n",
              "25%     996.250000    1.000000  ...    2.000000      0.000000\n",
              "50%    1100.500000    3.000000  ...    2.000000      0.000000\n",
              "75%    1204.750000    3.000000  ...    2.000000      1.000000\n",
              "max    1309.000000    3.000000  ...    4.000000     10.000000\n",
              "\n",
              "[8 rows x 10 columns]"
            ]
          },
          "metadata": {
            "tags": []
          },
          "execution_count": 206
        }
      ]
    },
    {
      "cell_type": "code",
      "metadata": {
        "id": "0DdEPEew0Iei",
        "colab_type": "code",
        "outputId": "e5ef0b4f-68bc-467b-941d-d7fd5b1921b5",
        "colab": {
          "base_uri": "https://localhost:8080/",
          "height": 34
        }
      },
      "source": [
        "len(df_train) , len(df_test)"
      ],
      "execution_count": 56,
      "outputs": [
        {
          "output_type": "execute_result",
          "data": {
            "text/plain": [
              "(891, 418)"
            ]
          },
          "metadata": {
            "tags": []
          },
          "execution_count": 56
        }
      ]
    },
    {
      "cell_type": "code",
      "metadata": {
        "id": "vaTGVYSM2Nb6",
        "colab_type": "code",
        "outputId": "ebbc2399-64cd-4d69-8020-e5d5587c87a8",
        "colab": {
          "base_uri": "https://localhost:8080/",
          "height": 272
        }
      },
      "source": [
        "# For train\n",
        "\n",
        "df_train.isnull().sum()"
      ],
      "execution_count": 57,
      "outputs": [
        {
          "output_type": "execute_result",
          "data": {
            "text/plain": [
              "PassengerId       0\n",
              "Survived          0\n",
              "Pclass            0\n",
              "Name              0\n",
              "Sex               0\n",
              "Age             177\n",
              "SibSp             0\n",
              "Parch             0\n",
              "Ticket            0\n",
              "Fare              0\n",
              "Cabin           687\n",
              "Embarked          2\n",
              "Titles            0\n",
              "Total Family      0\n",
              "dtype: int64"
            ]
          },
          "metadata": {
            "tags": []
          },
          "execution_count": 57
        }
      ]
    },
    {
      "cell_type": "code",
      "metadata": {
        "id": "LB6pnuFGiWyg",
        "colab_type": "code",
        "colab": {
          "base_uri": "https://localhost:8080/",
          "height": 255
        },
        "outputId": "7d62443d-96d7-48aa-ba32-a3d2a37ea1ff"
      },
      "source": [
        "# For test\n",
        "\n",
        "df_test.isnull().sum()"
      ],
      "execution_count": 58,
      "outputs": [
        {
          "output_type": "execute_result",
          "data": {
            "text/plain": [
              "PassengerId       0\n",
              "Pclass            0\n",
              "Name              0\n",
              "Sex               0\n",
              "Age              86\n",
              "SibSp             0\n",
              "Parch             0\n",
              "Ticket            0\n",
              "Fare              1\n",
              "Cabin           327\n",
              "Embarked          0\n",
              "Titles            0\n",
              "Total Family      0\n",
              "dtype: int64"
            ]
          },
          "metadata": {
            "tags": []
          },
          "execution_count": 58
        }
      ]
    },
    {
      "cell_type": "code",
      "metadata": {
        "id": "RCiaV7y4LRbV",
        "colab_type": "code",
        "outputId": "81aeb417-9c07-4f23-9e0d-4f8fe0e13953",
        "colab": {
          "base_uri": "https://localhost:8080/",
          "height": 336
        }
      },
      "source": [
        "plt.hist(df_train['Age'])"
      ],
      "execution_count": 59,
      "outputs": [
        {
          "output_type": "execute_result",
          "data": {
            "text/plain": [
              "(array([ 54.,  46., 177., 169., 118.,  70.,  45.,  24.,   9.,   2.]),\n",
              " array([ 0.42 ,  8.378, 16.336, 24.294, 32.252, 40.21 , 48.168, 56.126,\n",
              "        64.084, 72.042, 80.   ]),\n",
              " <a list of 10 Patch objects>)"
            ]
          },
          "metadata": {
            "tags": []
          },
          "execution_count": 59
        },
        {
          "output_type": "display_data",
          "data": {
            "image/png": "[encoded data removed]",
            "text/plain": [
              "<Figure size 432x288 with 1 Axes>"
            ]
          },
          "metadata": {
            "tags": []
          }
        }
      ]
    },
    {
      "cell_type": "code",
      "metadata": {
        "id": "9qDvi_ZRLuk3",
        "colab_type": "code",
        "outputId": "d40cdf05-cb0f-479a-9fc3-5b58daaa59f0",
        "colab": {
          "base_uri": "https://localhost:8080/",
          "height": 319
        }
      },
      "source": [
        "plt.hist(df_train['SibSp'])"
      ],
      "execution_count": 60,
      "outputs": [
        {
          "output_type": "execute_result",
          "data": {
            "text/plain": [
              "(array([608., 209.,  28.,  16.,   0.,  18.,   5.,   0.,   0.,   7.]),\n",
              " array([0. , 0.8, 1.6, 2.4, 3.2, 4. , 4.8, 5.6, 6.4, 7.2, 8. ]),\n",
              " <a list of 10 Patch objects>)"
            ]
          },
          "metadata": {
            "tags": []
          },
          "execution_count": 60
        },
        {
          "output_type": "display_data",
          "data": {
            "image/png": "[encoded data removed]",
            "text/plain": [
              "<Figure size 432x288 with 1 Axes>"
            ]
          },
          "metadata": {
            "tags": []
          }
        }
      ]
    },
    {
      "cell_type": "code",
      "metadata": {
        "id": "_b2JdBYvMASy",
        "colab_type": "code",
        "outputId": "0da89d3f-4e8b-4367-bc93-277fe80a0b3c",
        "colab": {
          "base_uri": "https://localhost:8080/",
          "height": 319
        }
      },
      "source": [
        "plt.hist(df_train['Parch'])"
      ],
      "execution_count": 61,
      "outputs": [
        {
          "output_type": "execute_result",
          "data": {
            "text/plain": [
              "(array([678., 118.,   0.,  80.,   0.,   5.,   4.,   0.,   5.,   1.]),\n",
              " array([0. , 0.6, 1.2, 1.8, 2.4, 3. , 3.6, 4.2, 4.8, 5.4, 6. ]),\n",
              " <a list of 10 Patch objects>)"
            ]
          },
          "metadata": {
            "tags": []
          },
          "execution_count": 61
        },
        {
          "output_type": "display_data",
          "data": {
            "image/png": "[encoded data removed]",
            "text/plain": [
              "<Figure size 432x288 with 1 Axes>"
            ]
          },
          "metadata": {
            "tags": []
          }
        }
      ]
    },
    {
      "cell_type": "code",
      "metadata": {
        "id": "uft0Y9GJ2PwG",
        "colab_type": "code",
        "outputId": "78957fb5-2ffa-471d-9ff1-b73e1bcd3d03",
        "colab": {
          "base_uri": "https://localhost:8080/",
          "height": 374
        }
      },
      "source": [
        "df_train.info()"
      ],
      "execution_count": 62,
      "outputs": [
        {
          "output_type": "stream",
          "text": [
            "<class 'pandas.core.frame.DataFrame'>\n",
            "RangeIndex: 891 entries, 0 to 890\n",
            "Data columns (total 14 columns):\n",
            " #   Column        Non-Null Count  Dtype  \n",
            "---  ------        --------------  -----  \n",
            " 0   PassengerId   891 non-null    int64  \n",
            " 1   Survived      891 non-null    int64  \n",
            " 2   Pclass        891 non-null    int64  \n",
            " 3   Name          891 non-null    object \n",
            " 4   Sex           891 non-null    object \n",
            " 5   Age           714 non-null    float64\n",
            " 6   SibSp         891 non-null    int64  \n",
            " 7   Parch         891 non-null    int64  \n",
            " 8   Ticket        891 non-null    object \n",
            " 9   Fare          891 non-null    float64\n",
            " 10  Cabin         204 non-null    object \n",
            " 11  Embarked      889 non-null    object \n",
            " 12  Titles        891 non-null    object \n",
            " 13  Total Family  891 non-null    int64  \n",
            "dtypes: float64(2), int64(6), object(6)\n",
            "memory usage: 97.6+ KB\n"
          ],
          "name": "stdout"
        }
      ]
    },
    {
      "cell_type": "markdown",
      "metadata": {
        "id": "dJFqmPWi4z_C",
        "colab_type": "text"
      },
      "source": [
        "- Here, we can see that Cabin has got about 80-85% null values.So, it can be removed.\n",
        "- Moreover, Name and Ticket are not good parameters for training.\n",
        "- Therefore, these columns can be removed."
      ]
    },
    {
      "cell_type": "code",
      "metadata": {
        "id": "1OCGurv4Y2sf",
        "colab_type": "code",
        "outputId": "0d42de20-1063-4fb6-d0ba-46d2a3e23623",
        "colab": {
          "base_uri": "https://localhost:8080/",
          "height": 54
        }
      },
      "source": [
        "\"\"\"\n",
        "# For train\n",
        "\n",
        "df_train['Cabin'] = df_train['Cabin'].fillna('Unknow')\n",
        "df_train['Cabin2'] = df_train['Cabin'].apply(lambda x : len(x))\n",
        "\n",
        "# For test\n",
        "\n",
        "df_test['Cabin'] = df_test['Cabin'].fillna('Unknow')\n",
        "df_test['Cabin2'] = df_test['Cabin'].apply(lambda x : len(x))\n",
        "\"\"\""
      ],
      "execution_count": 63,
      "outputs": [
        {
          "output_type": "execute_result",
          "data": {
            "text/plain": [
              "\"\\n# For train\\n\\ndf_train['Cabin'] = df_train['Cabin'].fillna('Unknow')\\ndf_train['Cabin2'] = df_train['Cabin'].apply(lambda x : len(x))\\n\\n# For test\\n\\ndf_test['Cabin'] = df_test['Cabin'].fillna('Unknow')\\ndf_test['Cabin2'] = df_test['Cabin'].apply(lambda x : len(x))\\n\""
            ]
          },
          "metadata": {
            "tags": []
          },
          "execution_count": 63
        }
      ]
    },
    {
      "cell_type": "code",
      "metadata": {
        "id": "tQsPfRiSb1Hc",
        "colab_type": "code",
        "colab": {}
      },
      "source": [
        "#sns.barplot('Cabin2','Survived',data=df_train)"
      ],
      "execution_count": 0,
      "outputs": []
    },
    {
      "cell_type": "code",
      "metadata": {
        "id": "6lMFBIan5hL-",
        "colab_type": "code",
        "outputId": "d3c12ff0-e8e0-46b8-8b34-59fcd48e567f",
        "colab": {
          "base_uri": "https://localhost:8080/",
          "height": 374
        }
      },
      "source": [
        "df_train.info()"
      ],
      "execution_count": 65,
      "outputs": [
        {
          "output_type": "stream",
          "text": [
            "<class 'pandas.core.frame.DataFrame'>\n",
            "RangeIndex: 891 entries, 0 to 890\n",
            "Data columns (total 14 columns):\n",
            " #   Column        Non-Null Count  Dtype  \n",
            "---  ------        --------------  -----  \n",
            " 0   PassengerId   891 non-null    int64  \n",
            " 1   Survived      891 non-null    int64  \n",
            " 2   Pclass        891 non-null    int64  \n",
            " 3   Name          891 non-null    object \n",
            " 4   Sex           891 non-null    object \n",
            " 5   Age           714 non-null    float64\n",
            " 6   SibSp         891 non-null    int64  \n",
            " 7   Parch         891 non-null    int64  \n",
            " 8   Ticket        891 non-null    object \n",
            " 9   Fare          891 non-null    float64\n",
            " 10  Cabin         204 non-null    object \n",
            " 11  Embarked      889 non-null    object \n",
            " 12  Titles        891 non-null    object \n",
            " 13  Total Family  891 non-null    int64  \n",
            "dtypes: float64(2), int64(6), object(6)\n",
            "memory usage: 97.6+ KB\n"
          ],
          "name": "stdout"
        }
      ]
    },
    {
      "cell_type": "code",
      "metadata": {
        "id": "3XesBCtT5ifB",
        "colab_type": "code",
        "outputId": "6418bf36-0179-4d60-950a-ad44bab2d413",
        "colab": {
          "base_uri": "https://localhost:8080/",
          "height": 272
        }
      },
      "source": [
        "df_train.isnull().sum()"
      ],
      "execution_count": 66,
      "outputs": [
        {
          "output_type": "execute_result",
          "data": {
            "text/plain": [
              "PassengerId       0\n",
              "Survived          0\n",
              "Pclass            0\n",
              "Name              0\n",
              "Sex               0\n",
              "Age             177\n",
              "SibSp             0\n",
              "Parch             0\n",
              "Ticket            0\n",
              "Fare              0\n",
              "Cabin           687\n",
              "Embarked          2\n",
              "Titles            0\n",
              "Total Family      0\n",
              "dtype: int64"
            ]
          },
          "metadata": {
            "tags": []
          },
          "execution_count": 66
        }
      ]
    },
    {
      "cell_type": "code",
      "metadata": {
        "id": "pT1KmHJMj4wg",
        "colab_type": "code",
        "colab": {
          "base_uri": "https://localhost:8080/",
          "height": 255
        },
        "outputId": "6150b3a8-4548-4a02-cc8f-bf1d24bd55b9"
      },
      "source": [
        "df_test.isnull().sum()"
      ],
      "execution_count": 67,
      "outputs": [
        {
          "output_type": "execute_result",
          "data": {
            "text/plain": [
              "PassengerId       0\n",
              "Pclass            0\n",
              "Name              0\n",
              "Sex               0\n",
              "Age              86\n",
              "SibSp             0\n",
              "Parch             0\n",
              "Ticket            0\n",
              "Fare              1\n",
              "Cabin           327\n",
              "Embarked          0\n",
              "Titles            0\n",
              "Total Family      0\n",
              "dtype: int64"
            ]
          },
          "metadata": {
            "tags": []
          },
          "execution_count": 67
        }
      ]
    },
    {
      "cell_type": "code",
      "metadata": {
        "id": "y6rQVM8EjgLs",
        "colab_type": "code",
        "colab": {}
      },
      "source": [
        "# For train \n",
        "\n",
        "df_train = df_train.drop('Name',axis=1)\n",
        "df_train = df_train.drop('Ticket',axis=1)\n",
        "df_train = df_train.drop('Cabin',axis=1)\n",
        "df_train['Age'].fillna(df_train['Age'].median(),inplace=True)\n",
        "df_train['Embarked'].fillna('S',inplace=True)\n",
        "\n",
        "# For test\n",
        "\n",
        "df_test['Fare'].fillna(df_test['Fare'].median(),inplace=True)\n",
        "df_test = df_test.drop('Name',axis=1)\n",
        "df_test = df_test.drop('Ticket',axis=1)\n",
        "df_test = df_test.drop('Cabin',axis=1)\n",
        "df_test['Age'].fillna(df_test['Age'].median(),inplace=True)"
      ],
      "execution_count": 0,
      "outputs": []
    },
    {
      "cell_type": "code",
      "metadata": {
        "id": "wjlrOscN5knd",
        "colab_type": "code",
        "outputId": "8301c9bb-371f-49ad-ccdc-1be6ea143089",
        "colab": {
          "base_uri": "https://localhost:8080/",
          "height": 34
        }
      },
      "source": [
        "# Converting the Object datatype into Category type\n",
        "\n",
        "cat_cols = []\n",
        "for col in df_train.columns:\n",
        "  if df_train[col].dtype == 'O':\n",
        "    cat_cols.append(col)\n",
        "\n",
        "print(cat_cols)    "
      ],
      "execution_count": 69,
      "outputs": [
        {
          "output_type": "stream",
          "text": [
            "['Sex', 'Embarked', 'Titles']\n"
          ],
          "name": "stdout"
        }
      ]
    },
    {
      "cell_type": "code",
      "metadata": {
        "id": "V9xZ7jdD58xI",
        "colab_type": "code",
        "colab": {}
      },
      "source": [
        "# For Train\n",
        "\n",
        "for col in cat_cols:\n",
        "  df_train[col] = df_train[col].astype('category')\n",
        "\n",
        "# For Test\n",
        "\n",
        "for col in cat_cols:\n",
        "  df_test[col] = df_test[col].astype('category')\n"
      ],
      "execution_count": 0,
      "outputs": []
    },
    {
      "cell_type": "code",
      "metadata": {
        "id": "tk6-XStk6Q1s",
        "colab_type": "code",
        "colab": {}
      },
      "source": [
        "# Converting the category cols to integers\n",
        "\n",
        "# For Train\n",
        "\n",
        "for col in cat_cols:\n",
        "  df_train[col] = df_train[col].cat.codes.values\n",
        "\n",
        "# For Test\n",
        "\n",
        "for col in cat_cols:\n",
        "  df_test[col] = df_test[col].cat.codes.values  "
      ],
      "execution_count": 0,
      "outputs": []
    },
    {
      "cell_type": "code",
      "metadata": {
        "id": "60SVtsf5ha3s",
        "colab_type": "code",
        "outputId": "aff7a4e9-575e-46e4-b8d8-09f4e021cbef",
        "colab": {
          "base_uri": "https://localhost:8080/",
          "height": 255
        }
      },
      "source": [
        "# For train\n",
        "\n",
        "train_cat_data = df_train[['Pclass','Sex','Embarked','Titles']].values\n",
        "print(train_cat_data)\n",
        "\n",
        "# For test\n",
        "test_cat_data = df_test[['Pclass','Sex','Embarked','Titles']].values\n",
        "print(test_cat_data)"
      ],
      "execution_count": 72,
      "outputs": [
        {
          "output_type": "stream",
          "text": [
            "[[3 1 2 2]\n",
            " [1 0 0 3]\n",
            " [3 0 2 1]\n",
            " ...\n",
            " [3 0 2 1]\n",
            " [1 1 0 2]\n",
            " [3 1 1 2]]\n",
            "[[3 1 1 2]\n",
            " [3 0 2 3]\n",
            " [2 1 1 2]\n",
            " ...\n",
            " [3 1 2 2]\n",
            " [3 1 2 2]\n",
            " [3 1 0 4]]\n"
          ],
          "name": "stdout"
        }
      ]
    },
    {
      "cell_type": "code",
      "metadata": {
        "id": "N6ZMgGMp_ZSj",
        "colab_type": "code",
        "outputId": "141be4ba-40c2-4e27-f6a5-6cc9e7389ab5",
        "colab": {
          "base_uri": "https://localhost:8080/",
          "height": 51
        }
      },
      "source": [
        "# For train\n",
        "\n",
        "print(max(df_train['Pclass']), max(df_train['Sex']), max(df_train['Embarked']),max(df_train['Titles']))\n",
        "print(min(df_train['Pclass']), min(df_train['Sex']), min(df_train['Embarked']),min(df_train['Titles']))"
      ],
      "execution_count": 73,
      "outputs": [
        {
          "output_type": "stream",
          "text": [
            "3 1 2 4\n",
            "1 0 0 0\n"
          ],
          "name": "stdout"
        }
      ]
    },
    {
      "cell_type": "code",
      "metadata": {
        "id": "ENwJPpkzlqc3",
        "colab_type": "code",
        "colab": {
          "base_uri": "https://localhost:8080/",
          "height": 51
        },
        "outputId": "85c1bd69-3ce1-4396-99a1-b18edb305fa9"
      },
      "source": [
        "# For test\n",
        "\n",
        "print(max(df_test['Pclass']), max(df_test['Sex']), max(df_test['Embarked']),max(df_test['Titles']))\n",
        "print(min(df_test['Pclass']), min(df_test['Sex']), min(df_test['Embarked']),min(df_test['Titles']))"
      ],
      "execution_count": 74,
      "outputs": [
        {
          "output_type": "stream",
          "text": [
            "3 1 2 4\n",
            "1 0 0 0\n"
          ],
          "name": "stdout"
        }
      ]
    },
    {
      "cell_type": "code",
      "metadata": {
        "id": "04wqCWZzfgda",
        "colab_type": "code",
        "outputId": "7d49f7a0-8f8f-45c2-b5e5-926efb77cb33",
        "colab": {
          "base_uri": "https://localhost:8080/",
          "height": 289
        }
      },
      "source": [
        "from sklearn.preprocessing import OneHotEncoder \n",
        "  \n",
        "onehotencoder = OneHotEncoder() \n",
        "\n",
        "# For train\n",
        "\n",
        "train_cat_data = onehotencoder.fit_transform(train_cat_data).toarray()\n",
        "print(train_cat_data.shape, type(train_cat_data))\n",
        "print(train_cat_data)\n",
        "\n",
        "# For test\n",
        "\n",
        "test_cat_data = onehotencoder.transform(test_cat_data).toarray()\n",
        "print(test_cat_data.shape, type(test_cat_data))\n",
        "print(test_cat_data)\n"
      ],
      "execution_count": 75,
      "outputs": [
        {
          "output_type": "stream",
          "text": [
            "(891, 13) <class 'numpy.ndarray'>\n",
            "[[0. 0. 1. ... 1. 0. 0.]\n",
            " [1. 0. 0. ... 0. 1. 0.]\n",
            " [0. 0. 1. ... 0. 0. 0.]\n",
            " ...\n",
            " [0. 0. 1. ... 0. 0. 0.]\n",
            " [1. 0. 0. ... 1. 0. 0.]\n",
            " [0. 0. 1. ... 1. 0. 0.]]\n",
            "(418, 13) <class 'numpy.ndarray'>\n",
            "[[0. 0. 1. ... 1. 0. 0.]\n",
            " [0. 0. 1. ... 0. 1. 0.]\n",
            " [0. 1. 0. ... 1. 0. 0.]\n",
            " ...\n",
            " [0. 0. 1. ... 1. 0. 0.]\n",
            " [0. 0. 1. ... 1. 0. 0.]\n",
            " [0. 0. 1. ... 0. 0. 1.]]\n"
          ],
          "name": "stdout"
        }
      ]
    },
    {
      "cell_type": "code",
      "metadata": {
        "id": "1StPlYEsP81x",
        "colab_type": "code",
        "outputId": "0472d52a-401e-468a-de2b-1ab4df86c29d",
        "colab": {
          "base_uri": "https://localhost:8080/",
          "height": 221
        }
      },
      "source": [
        "df_train.isnull().sum()"
      ],
      "execution_count": 76,
      "outputs": [
        {
          "output_type": "execute_result",
          "data": {
            "text/plain": [
              "PassengerId     0\n",
              "Survived        0\n",
              "Pclass          0\n",
              "Sex             0\n",
              "Age             0\n",
              "SibSp           0\n",
              "Parch           0\n",
              "Fare            0\n",
              "Embarked        0\n",
              "Titles          0\n",
              "Total Family    0\n",
              "dtype: int64"
            ]
          },
          "metadata": {
            "tags": []
          },
          "execution_count": 76
        }
      ]
    },
    {
      "cell_type": "code",
      "metadata": {
        "id": "bhDbK5lZl6Pz",
        "colab_type": "code",
        "colab": {
          "base_uri": "https://localhost:8080/",
          "height": 204
        },
        "outputId": "8670b8f1-ec90-45f6-8efd-6d9fca1dfa64"
      },
      "source": [
        "df_test.isnull().sum()"
      ],
      "execution_count": 77,
      "outputs": [
        {
          "output_type": "execute_result",
          "data": {
            "text/plain": [
              "PassengerId     0\n",
              "Pclass          0\n",
              "Sex             0\n",
              "Age             0\n",
              "SibSp           0\n",
              "Parch           0\n",
              "Fare            0\n",
              "Embarked        0\n",
              "Titles          0\n",
              "Total Family    0\n",
              "dtype: int64"
            ]
          },
          "metadata": {
            "tags": []
          },
          "execution_count": 77
        }
      ]
    },
    {
      "cell_type": "code",
      "metadata": {
        "id": "8J9nnskOXGyE",
        "colab_type": "code",
        "colab": {
          "base_uri": "https://localhost:8080/",
          "height": 68
        },
        "outputId": "c103de17-64fd-4ace-8a9d-a5eb289eb053"
      },
      "source": [
        "df_train.columns"
      ],
      "execution_count": 185,
      "outputs": [
        {
          "output_type": "execute_result",
          "data": {
            "text/plain": [
              "Index(['PassengerId', 'Survived', 'Pclass', 'Sex', 'Age', 'SibSp', 'Parch',\n",
              "       'Fare', 'Embarked', 'Titles', 'Total Family'],\n",
              "      dtype='object')"
            ]
          },
          "metadata": {
            "tags": []
          },
          "execution_count": 185
        }
      ]
    },
    {
      "cell_type": "code",
      "metadata": {
        "id": "C91ne-Fu6lI8",
        "colab_type": "code",
        "colab": {}
      },
      "source": [
        "# Splitting the data into features and labels\n",
        "\n",
        "# For train\n",
        "\n",
        "X = df_train[['Pclass', 'Sex', 'Age', 'SibSp', 'Parch','Fare', 'Embarked', 'Titles', 'Total Family']].values\n",
        "y = df_train['Survived'].values\n",
        "\n",
        "# For test\n",
        "\n",
        "X_test = df_test[['Pclass', 'Sex', 'Age', 'SibSp', 'Parch','Fare', 'Embarked', 'Titles', 'Total Family']].values"
      ],
      "execution_count": 0,
      "outputs": []
    },
    {
      "cell_type": "code",
      "metadata": {
        "id": "YHXSJzTi6_CS",
        "colab_type": "code",
        "outputId": "f134a44c-6d02-4ae5-c7a7-0c696a3b7a27",
        "colab": {
          "base_uri": "https://localhost:8080/",
          "height": 391
        }
      },
      "source": [
        "X.shape, X[:10], type(X)"
      ],
      "execution_count": 187,
      "outputs": [
        {
          "output_type": "execute_result",
          "data": {
            "text/plain": [
              "((891, 9),\n",
              " array([[ 3.    ,  1.    , 22.    ,  1.    ,  0.    ,  7.25  ,  2.    ,\n",
              "          2.    ,  1.    ],\n",
              "        [ 1.    ,  0.    , 38.    ,  1.    ,  0.    , 71.2833,  0.    ,\n",
              "          3.    ,  1.    ],\n",
              "        [ 3.    ,  0.    , 26.    ,  0.    ,  0.    ,  7.925 ,  2.    ,\n",
              "          1.    ,  0.    ],\n",
              "        [ 1.    ,  0.    , 35.    ,  1.    ,  0.    , 53.1   ,  2.    ,\n",
              "          3.    ,  1.    ],\n",
              "        [ 3.    ,  1.    , 35.    ,  0.    ,  0.    ,  8.05  ,  2.    ,\n",
              "          2.    ,  0.    ],\n",
              "        [ 3.    ,  1.    , 28.    ,  0.    ,  0.    ,  8.4583,  1.    ,\n",
              "          2.    ,  0.    ],\n",
              "        [ 1.    ,  1.    , 54.    ,  0.    ,  0.    , 51.8625,  2.    ,\n",
              "          2.    ,  0.    ],\n",
              "        [ 3.    ,  1.    ,  2.    ,  3.    ,  1.    , 21.075 ,  2.    ,\n",
              "          4.    ,  4.    ],\n",
              "        [ 3.    ,  0.    , 27.    ,  0.    ,  2.    , 11.1333,  2.    ,\n",
              "          3.    ,  2.    ],\n",
              "        [ 2.    ,  0.    , 14.    ,  1.    ,  0.    , 30.0708,  0.    ,\n",
              "          3.    ,  1.    ]]),\n",
              " numpy.ndarray)"
            ]
          },
          "metadata": {
            "tags": []
          },
          "execution_count": 187
        }
      ]
    },
    {
      "cell_type": "code",
      "metadata": {
        "id": "ybzBm-ru-C2-",
        "colab_type": "code",
        "outputId": "fe9108a4-0700-41cb-dd87-9977779529c2",
        "colab": {
          "base_uri": "https://localhost:8080/",
          "height": 255
        }
      },
      "source": [
        "\"\"\"\n",
        "# For train\n",
        "\n",
        "X = np.concatenate((X,train_cat_data),axis=1)\n",
        "print(X)\n",
        "\n",
        "# For test \n",
        "\n",
        "X_test = np.concatenate((X_test,test_cat_data),axis=1)\n",
        "print(X_test)\n",
        "\"\"\""
      ],
      "execution_count": 80,
      "outputs": [
        {
          "output_type": "stream",
          "text": [
            "[[22.      7.25    1.     ...  1.      0.      0.    ]\n",
            " [38.     71.2833  1.     ...  0.      1.      0.    ]\n",
            " [26.      7.925   0.     ...  0.      0.      0.    ]\n",
            " ...\n",
            " [28.     23.45    3.     ...  0.      0.      0.    ]\n",
            " [26.     30.      0.     ...  1.      0.      0.    ]\n",
            " [32.      7.75    0.     ...  1.      0.      0.    ]]\n",
            "[[34.5     7.8292  0.     ...  1.      0.      0.    ]\n",
            " [47.      7.      1.     ...  0.      1.      0.    ]\n",
            " [62.      9.6875  0.     ...  1.      0.      0.    ]\n",
            " ...\n",
            " [38.5     7.25    0.     ...  1.      0.      0.    ]\n",
            " [27.      8.05    0.     ...  1.      0.      0.    ]\n",
            " [27.     22.3583  2.     ...  0.      0.      1.    ]]\n"
          ],
          "name": "stdout"
        }
      ]
    },
    {
      "cell_type": "code",
      "metadata": {
        "id": "hDZaB5Vc-Lnf",
        "colab_type": "code",
        "outputId": "8d20bc34-f752-4c74-b6f3-0e65599b3388",
        "colab": {
          "base_uri": "https://localhost:8080/",
          "height": 34
        }
      },
      "source": [
        "X.shape, type(X)"
      ],
      "execution_count": 81,
      "outputs": [
        {
          "output_type": "execute_result",
          "data": {
            "text/plain": [
              "((891, 16), numpy.ndarray)"
            ]
          },
          "metadata": {
            "tags": []
          },
          "execution_count": 81
        }
      ]
    },
    {
      "cell_type": "code",
      "metadata": {
        "id": "x8179lDa7Cqc",
        "colab_type": "code",
        "outputId": "adcb6764-e4d3-4ea6-ee92-c65e128adee0",
        "colab": {
          "base_uri": "https://localhost:8080/",
          "height": 34
        }
      },
      "source": [
        "y.shape , y[:10]"
      ],
      "execution_count": 82,
      "outputs": [
        {
          "output_type": "execute_result",
          "data": {
            "text/plain": [
              "((891,), array([0, 1, 1, 1, 0, 0, 0, 0, 1, 1]))"
            ]
          },
          "metadata": {
            "tags": []
          },
          "execution_count": 82
        }
      ]
    },
    {
      "cell_type": "code",
      "metadata": {
        "id": "U8INXolcmwvf",
        "colab_type": "code",
        "colab": {
          "base_uri": "https://localhost:8080/",
          "height": 34
        },
        "outputId": "5192d3f6-b3b0-4293-f2da-ea04737c6e97"
      },
      "source": [
        "X_test.shape, type(X_test)"
      ],
      "execution_count": 83,
      "outputs": [
        {
          "output_type": "execute_result",
          "data": {
            "text/plain": [
              "((418, 16), numpy.ndarray)"
            ]
          },
          "metadata": {
            "tags": []
          },
          "execution_count": 83
        }
      ]
    },
    {
      "cell_type": "code",
      "metadata": {
        "id": "NUymKEcx7IoQ",
        "colab_type": "code",
        "outputId": "7632a6e2-3643-4e01-dab7-1f1070898c76",
        "colab": {
          "base_uri": "https://localhost:8080/",
          "height": 34
        }
      },
      "source": [
        "input_data = xgb.DMatrix(data=X,label=y)\n",
        "input_data"
      ],
      "execution_count": 84,
      "outputs": [
        {
          "output_type": "execute_result",
          "data": {
            "text/plain": [
              "<xgboost.core.DMatrix at 0x7fcb98ff1a90>"
            ]
          },
          "metadata": {
            "tags": []
          },
          "execution_count": 84
        }
      ]
    },
    {
      "cell_type": "markdown",
      "metadata": {
        "id": "YJs571MF7pVt",
        "colab_type": "text"
      },
      "source": [
        "## 3) Splitting the data into train and test set"
      ]
    },
    {
      "cell_type": "code",
      "metadata": {
        "id": "xGbV35ad7l89",
        "colab_type": "code",
        "colab": {}
      },
      "source": [
        "from sklearn.model_selection import train_test_split\n",
        "\n",
        "X_train, X_val, y_train, y_val = train_test_split(X,y,test_size=0.1,random_state=0)"
      ],
      "execution_count": 0,
      "outputs": []
    },
    {
      "cell_type": "code",
      "metadata": {
        "id": "guJ6qOQeeT0e",
        "colab_type": "code",
        "colab": {}
      },
      "source": [
        "from sklearn.preprocessing import StandardScaler\n",
        "sc = StandardScaler()\n",
        "X_train = sc.fit_transform(X_train)\n",
        "X_val = sc.transform(X_val)\n",
        "X_test = sc.transform(X_test)"
      ],
      "execution_count": 0,
      "outputs": []
    },
    {
      "cell_type": "code",
      "metadata": {
        "id": "S2Y6ZVeB3TP7",
        "colab_type": "code",
        "colab": {}
      },
      "source": [
        "train_data = xgb.DMatrix(data=X_train,label=y_train)\n",
        "test_data = xgb.DMatrix(data=X_val,label=y_val)"
      ],
      "execution_count": 0,
      "outputs": []
    },
    {
      "cell_type": "code",
      "metadata": {
        "id": "tnUjrwhPPE14",
        "colab_type": "code",
        "colab": {}
      },
      "source": [
        "actual_testing_data = xgb.DMatrix(data=X_test)"
      ],
      "execution_count": 0,
      "outputs": []
    },
    {
      "cell_type": "markdown",
      "metadata": {
        "id": "01rG6lCe8CzJ",
        "colab_type": "text"
      },
      "source": [
        "## 4) Building the XGBoost Model"
      ]
    },
    {
      "cell_type": "code",
      "metadata": {
        "id": "auqpuOsT7_80",
        "colab_type": "code",
        "colab": {}
      },
      "source": [
        "xg_clf = xgb.XGBClassifier(objective ='binary:logistic', \n",
        "                           colsample_bytree=0.4,\n",
        "                           learning_rate = 0.1,\n",
        "                          max_depth = 6,  \n",
        "                          n_estimators = 26,\n",
        "                          random_state = 10 )"
      ],
      "execution_count": 0,
      "outputs": []
    },
    {
      "cell_type": "code",
      "metadata": {
        "id": "VpK3B3dw9Blp",
        "colab_type": "code",
        "outputId": "931e2294-84bf-48f6-a3de-9db896434f87",
        "colab": {
          "base_uri": "https://localhost:8080/",
          "height": 136
        }
      },
      "source": [
        "xg_clf.fit(X_train,y_train)"
      ],
      "execution_count": 89,
      "outputs": [
        {
          "output_type": "execute_result",
          "data": {
            "text/plain": [
              "XGBClassifier(base_score=0.5, booster='gbtree', colsample_bylevel=1,\n",
              "              colsample_bynode=1, colsample_bytree=0.4, gamma=0,\n",
              "              learning_rate=0.1, max_delta_step=0, max_depth=6,\n",
              "              min_child_weight=1, missing=None, n_estimators=26, n_jobs=1,\n",
              "              nthread=None, objective='binary:logistic', random_state=10,\n",
              "              reg_alpha=0, reg_lambda=1, scale_pos_weight=1, seed=None,\n",
              "              silent=None, subsample=1, verbosity=1)"
            ]
          },
          "metadata": {
            "tags": []
          },
          "execution_count": 89
        }
      ]
    },
    {
      "cell_type": "markdown",
      "metadata": {
        "id": "KCwQWsj09d1n",
        "colab_type": "text"
      },
      "source": [
        "## 6) Predicting the validation set results"
      ]
    },
    {
      "cell_type": "code",
      "metadata": {
        "id": "aKReE_RtFgUL",
        "colab_type": "code",
        "colab": {}
      },
      "source": [
        "y_preds = xg_clf.predict(X_val)"
      ],
      "execution_count": 0,
      "outputs": []
    },
    {
      "cell_type": "code",
      "metadata": {
        "id": "Driq7hRd9pAP",
        "colab_type": "code",
        "outputId": "61f66112-c383-49da-c36a-f7fb19dbcc64",
        "colab": {
          "base_uri": "https://localhost:8080/",
          "height": 51
        }
      },
      "source": [
        "from sklearn.metrics import confusion_matrix\n",
        "cm = confusion_matrix(y_preds,y_val)\n",
        "print(cm)"
      ],
      "execution_count": 91,
      "outputs": [
        {
          "output_type": "stream",
          "text": [
            "[[49  9]\n",
            " [ 2 30]]\n"
          ],
          "name": "stdout"
        }
      ]
    },
    {
      "cell_type": "code",
      "metadata": {
        "id": "yvHy3ErP9y87",
        "colab_type": "code",
        "outputId": "26051102-be8f-4f25-c213-9f069371d7d5",
        "colab": {
          "base_uri": "https://localhost:8080/",
          "height": 34
        }
      },
      "source": [
        "from sklearn.metrics import accuracy_score\n",
        "print(accuracy_score(y_preds,y_val))"
      ],
      "execution_count": 92,
      "outputs": [
        {
          "output_type": "stream",
          "text": [
            "0.8777777777777778\n"
          ],
          "name": "stdout"
        }
      ]
    },
    {
      "cell_type": "markdown",
      "metadata": {
        "id": "UjbMGSDO71Vu",
        "colab_type": "text"
      },
      "source": [
        "## 7) Training and Tuning XgBoost Model"
      ]
    },
    {
      "cell_type": "code",
      "metadata": {
        "id": "8bG3Iadv2A2y",
        "colab_type": "code",
        "colab": {
          "base_uri": "https://localhost:8080/",
          "height": 1000
        },
        "outputId": "c6455cfc-c797-4c75-f2de-5444f8a3eda6"
      },
      "source": [
        "# hyper parameter tuning\n",
        "\n",
        "params = {\n",
        "    # Parameters that we are going to tune.\n",
        "    'max_depth':6,\n",
        "    'min_child_weight': 1,\n",
        "    'eta':.3,\n",
        "    'subsample': 1,\n",
        "    'colsample_bytree': 1,\n",
        "    'eval_metric':'auc',\n",
        "    'early_stopping_rounds':10,\n",
        "    # Other parameters\n",
        "    'objective':'binary:logistic',\n",
        "}\n",
        "\n",
        "model = xgb.train(\n",
        "    params,\n",
        "    train_data,\n",
        "    num_boost_round=100,\n",
        "    evals=[(test_data, \"Test\")]\n",
        ")"
      ],
      "execution_count": 208,
      "outputs": [
        {
          "output_type": "stream",
          "text": [
            "[0]\tTest-auc:0.88537\n",
            "[1]\tTest-auc:0.86903\n",
            "[2]\tTest-auc:0.864505\n",
            "[3]\tTest-auc:0.870287\n",
            "[4]\tTest-auc:0.866013\n",
            "[5]\tTest-auc:0.857969\n",
            "[6]\tTest-auc:0.870789\n",
            "[7]\tTest-auc:0.873806\n",
            "[8]\tTest-auc:0.872046\n",
            "[9]\tTest-auc:0.862996\n",
            "[10]\tTest-auc:0.858472\n",
            "[11]\tTest-auc:0.858974\n",
            "[12]\tTest-auc:0.85822\n",
            "[13]\tTest-auc:0.855455\n",
            "[14]\tTest-auc:0.855706\n",
            "[15]\tTest-auc:0.851182\n",
            "[16]\tTest-auc:0.855204\n",
            "[17]\tTest-auc:0.854198\n",
            "[18]\tTest-auc:0.85269\n",
            "[19]\tTest-auc:0.851684\n",
            "[20]\tTest-auc:0.854701\n",
            "[21]\tTest-auc:0.851684\n",
            "[22]\tTest-auc:0.853193\n",
            "[23]\tTest-auc:0.853695\n",
            "[24]\tTest-auc:0.854198\n",
            "[25]\tTest-auc:0.85269\n",
            "[26]\tTest-auc:0.853695\n",
            "[27]\tTest-auc:0.857215\n",
            "[28]\tTest-auc:0.851684\n",
            "[29]\tTest-auc:0.850679\n",
            "[30]\tTest-auc:0.853695\n",
            "[31]\tTest-auc:0.854701\n",
            "[32]\tTest-auc:0.854198\n",
            "[33]\tTest-auc:0.854701\n",
            "[34]\tTest-auc:0.85822\n",
            "[35]\tTest-auc:0.85822\n",
            "[36]\tTest-auc:0.85822\n",
            "[37]\tTest-auc:0.857717\n",
            "[38]\tTest-auc:0.859226\n",
            "[39]\tTest-auc:0.85822\n",
            "[40]\tTest-auc:0.858723\n",
            "[41]\tTest-auc:0.859226\n",
            "[42]\tTest-auc:0.858723\n",
            "[43]\tTest-auc:0.859226\n",
            "[44]\tTest-auc:0.857215\n",
            "[45]\tTest-auc:0.857717\n",
            "[46]\tTest-auc:0.856712\n",
            "[47]\tTest-auc:0.854701\n",
            "[48]\tTest-auc:0.856712\n",
            "[49]\tTest-auc:0.855706\n",
            "[50]\tTest-auc:0.857215\n",
            "[51]\tTest-auc:0.858723\n",
            "[52]\tTest-auc:0.855204\n",
            "[53]\tTest-auc:0.856209\n",
            "[54]\tTest-auc:0.859226\n",
            "[55]\tTest-auc:0.859226\n",
            "[56]\tTest-auc:0.859226\n",
            "[57]\tTest-auc:0.860231\n",
            "[58]\tTest-auc:0.857717\n",
            "[59]\tTest-auc:0.85822\n",
            "[60]\tTest-auc:0.852187\n",
            "[61]\tTest-auc:0.854198\n",
            "[62]\tTest-auc:0.856712\n",
            "[63]\tTest-auc:0.853695\n",
            "[64]\tTest-auc:0.853695\n",
            "[65]\tTest-auc:0.853193\n",
            "[66]\tTest-auc:0.856712\n",
            "[67]\tTest-auc:0.853695\n",
            "[68]\tTest-auc:0.853695\n",
            "[69]\tTest-auc:0.853193\n",
            "[70]\tTest-auc:0.854701\n",
            "[71]\tTest-auc:0.855706\n",
            "[72]\tTest-auc:0.856209\n",
            "[73]\tTest-auc:0.854198\n",
            "[74]\tTest-auc:0.855204\n",
            "[75]\tTest-auc:0.856712\n",
            "[76]\tTest-auc:0.854701\n",
            "[77]\tTest-auc:0.856209\n",
            "[78]\tTest-auc:0.855706\n",
            "[79]\tTest-auc:0.856712\n",
            "[80]\tTest-auc:0.855706\n",
            "[81]\tTest-auc:0.85822\n",
            "[82]\tTest-auc:0.855706\n",
            "[83]\tTest-auc:0.855706\n",
            "[84]\tTest-auc:0.856209\n",
            "[85]\tTest-auc:0.855706\n",
            "[86]\tTest-auc:0.85822\n",
            "[87]\tTest-auc:0.857717\n",
            "[88]\tTest-auc:0.85822\n",
            "[89]\tTest-auc:0.858723\n",
            "[90]\tTest-auc:0.857215\n",
            "[91]\tTest-auc:0.857717\n",
            "[92]\tTest-auc:0.85822\n",
            "[93]\tTest-auc:0.857215\n",
            "[94]\tTest-auc:0.857717\n",
            "[95]\tTest-auc:0.860231\n",
            "[96]\tTest-auc:0.859226\n",
            "[97]\tTest-auc:0.85822\n",
            "[98]\tTest-auc:0.859226\n",
            "[99]\tTest-auc:0.859729\n"
          ],
          "name": "stdout"
        }
      ]
    },
    {
      "cell_type": "code",
      "metadata": {
        "id": "mYVUrMH3DuZV",
        "colab_type": "code",
        "colab": {
          "base_uri": "https://localhost:8080/",
          "height": 576
        },
        "outputId": "003d0aec-e35a-42f7-ee8d-cb2a900cf410"
      },
      "source": [
        "# Using K fold CV\n",
        "\n",
        "cv_results = xgb.cv(\n",
        "    params,\n",
        "    train_data,\n",
        "    num_boost_round=100,\n",
        "    seed=42,\n",
        "    nfold=5,\n",
        "    metrics={'auc'},\n",
        "    early_stopping_rounds=10\n",
        ")\n",
        "cv_results"
      ],
      "execution_count": 209,
      "outputs": [
        {
          "output_type": "execute_result",
          "data": {
            "text/html": [
              "<div>\n",
              "<style scoped>\n",
              "    .dataframe tbody tr th:only-of-type {\n",
              "        vertical-align: middle;\n",
              "    }\n",
              "\n",
              "    .dataframe tbody tr th {\n",
              "        vertical-align: top;\n",
              "    }\n",
              "\n",
              "    .dataframe thead th {\n",
              "        text-align: right;\n",
              "    }\n",
              "</style>\n",
              "<table border=\"1\" class=\"dataframe\">\n",
              "  <thead>\n",
              "    <tr style=\"text-align: right;\">\n",
              "      <th></th>\n",
              "      <th>train-auc-mean</th>\n",
              "      <th>train-auc-std</th>\n",
              "      <th>test-auc-mean</th>\n",
              "      <th>test-auc-std</th>\n",
              "    </tr>\n",
              "  </thead>\n",
              "  <tbody>\n",
              "    <tr>\n",
              "      <th>0</th>\n",
              "      <td>0.889799</td>\n",
              "      <td>0.007546</td>\n",
              "      <td>0.861001</td>\n",
              "      <td>0.037933</td>\n",
              "    </tr>\n",
              "    <tr>\n",
              "      <th>1</th>\n",
              "      <td>0.906031</td>\n",
              "      <td>0.008746</td>\n",
              "      <td>0.856380</td>\n",
              "      <td>0.036085</td>\n",
              "    </tr>\n",
              "    <tr>\n",
              "      <th>2</th>\n",
              "      <td>0.925260</td>\n",
              "      <td>0.001717</td>\n",
              "      <td>0.865905</td>\n",
              "      <td>0.036397</td>\n",
              "    </tr>\n",
              "    <tr>\n",
              "      <th>3</th>\n",
              "      <td>0.932715</td>\n",
              "      <td>0.006676</td>\n",
              "      <td>0.867389</td>\n",
              "      <td>0.027696</td>\n",
              "    </tr>\n",
              "    <tr>\n",
              "      <th>4</th>\n",
              "      <td>0.938683</td>\n",
              "      <td>0.004792</td>\n",
              "      <td>0.870030</td>\n",
              "      <td>0.036116</td>\n",
              "    </tr>\n",
              "    <tr>\n",
              "      <th>5</th>\n",
              "      <td>0.945399</td>\n",
              "      <td>0.005769</td>\n",
              "      <td>0.870966</td>\n",
              "      <td>0.033926</td>\n",
              "    </tr>\n",
              "    <tr>\n",
              "      <th>6</th>\n",
              "      <td>0.951565</td>\n",
              "      <td>0.004627</td>\n",
              "      <td>0.872733</td>\n",
              "      <td>0.039371</td>\n",
              "    </tr>\n",
              "    <tr>\n",
              "      <th>7</th>\n",
              "      <td>0.953665</td>\n",
              "      <td>0.004926</td>\n",
              "      <td>0.873270</td>\n",
              "      <td>0.037495</td>\n",
              "    </tr>\n",
              "    <tr>\n",
              "      <th>8</th>\n",
              "      <td>0.956101</td>\n",
              "      <td>0.005020</td>\n",
              "      <td>0.874891</td>\n",
              "      <td>0.037437</td>\n",
              "    </tr>\n",
              "    <tr>\n",
              "      <th>9</th>\n",
              "      <td>0.958271</td>\n",
              "      <td>0.004874</td>\n",
              "      <td>0.873773</td>\n",
              "      <td>0.036314</td>\n",
              "    </tr>\n",
              "    <tr>\n",
              "      <th>10</th>\n",
              "      <td>0.960969</td>\n",
              "      <td>0.004763</td>\n",
              "      <td>0.873214</td>\n",
              "      <td>0.036451</td>\n",
              "    </tr>\n",
              "    <tr>\n",
              "      <th>11</th>\n",
              "      <td>0.962555</td>\n",
              "      <td>0.004281</td>\n",
              "      <td>0.873808</td>\n",
              "      <td>0.036722</td>\n",
              "    </tr>\n",
              "    <tr>\n",
              "      <th>12</th>\n",
              "      <td>0.965595</td>\n",
              "      <td>0.003574</td>\n",
              "      <td>0.873484</td>\n",
              "      <td>0.038708</td>\n",
              "    </tr>\n",
              "    <tr>\n",
              "      <th>13</th>\n",
              "      <td>0.967160</td>\n",
              "      <td>0.003474</td>\n",
              "      <td>0.872821</td>\n",
              "      <td>0.039267</td>\n",
              "    </tr>\n",
              "    <tr>\n",
              "      <th>14</th>\n",
              "      <td>0.968370</td>\n",
              "      <td>0.003882</td>\n",
              "      <td>0.873266</td>\n",
              "      <td>0.039010</td>\n",
              "    </tr>\n",
              "    <tr>\n",
              "      <th>15</th>\n",
              "      <td>0.970903</td>\n",
              "      <td>0.003542</td>\n",
              "      <td>0.874654</td>\n",
              "      <td>0.037721</td>\n",
              "    </tr>\n",
              "    <tr>\n",
              "      <th>16</th>\n",
              "      <td>0.972029</td>\n",
              "      <td>0.003153</td>\n",
              "      <td>0.875399</td>\n",
              "      <td>0.038668</td>\n",
              "    </tr>\n",
              "  </tbody>\n",
              "</table>\n",
              "</div>"
            ],
            "text/plain": [
              "    train-auc-mean  train-auc-std  test-auc-mean  test-auc-std\n",
              "0         0.889799       0.007546       0.861001      0.037933\n",
              "1         0.906031       0.008746       0.856380      0.036085\n",
              "2         0.925260       0.001717       0.865905      0.036397\n",
              "3         0.932715       0.006676       0.867389      0.027696\n",
              "4         0.938683       0.004792       0.870030      0.036116\n",
              "5         0.945399       0.005769       0.870966      0.033926\n",
              "6         0.951565       0.004627       0.872733      0.039371\n",
              "7         0.953665       0.004926       0.873270      0.037495\n",
              "8         0.956101       0.005020       0.874891      0.037437\n",
              "9         0.958271       0.004874       0.873773      0.036314\n",
              "10        0.960969       0.004763       0.873214      0.036451\n",
              "11        0.962555       0.004281       0.873808      0.036722\n",
              "12        0.965595       0.003574       0.873484      0.038708\n",
              "13        0.967160       0.003474       0.872821      0.039267\n",
              "14        0.968370       0.003882       0.873266      0.039010\n",
              "15        0.970903       0.003542       0.874654      0.037721\n",
              "16        0.972029       0.003153       0.875399      0.038668"
            ]
          },
          "metadata": {
            "tags": []
          },
          "execution_count": 209
        }
      ]
    },
    {
      "cell_type": "code",
      "metadata": {
        "id": "cWq0Zt3eEW5x",
        "colab_type": "code",
        "colab": {
          "base_uri": "https://localhost:8080/",
          "height": 34
        },
        "outputId": "b6a73d69-3d70-4f53-b55d-c469c7152011"
      },
      "source": [
        "cv_results['test-auc-mean'].max()"
      ],
      "execution_count": 100,
      "outputs": [
        {
          "output_type": "execute_result",
          "data": {
            "text/plain": [
              "0.8753986000000001"
            ]
          },
          "metadata": {
            "tags": []
          },
          "execution_count": 100
        }
      ]
    },
    {
      "cell_type": "code",
      "metadata": {
        "id": "-0zFyMFtE828",
        "colab_type": "code",
        "colab": {
          "base_uri": "https://localhost:8080/",
          "height": 374
        },
        "outputId": "ca4149c0-c73b-4993-fbbb-acddd12ac572"
      },
      "source": [
        "# Tuning Parameters max_depth and min_child_weight\n",
        "\n",
        "num_boost_round = 16\n",
        "\n",
        "gridsearch_params = [\n",
        "    (max_depth, min_child_weight)\n",
        "    for max_depth in range(9,12)\n",
        "    for min_child_weight in range(5,8)\n",
        "]\n",
        "\n",
        "max_auc = float('-inf')\n",
        "best_params = None\n",
        "\n",
        "for max_depth, min_child_weight in gridsearch_params:\n",
        "\n",
        "  print(f'CV with max_depth = {max_depth} , min_child_weight = {min_child_weight}')\n",
        "\n",
        "  # Update our parameters\n",
        "\n",
        "  params['max_depth'] = max_depth\n",
        "  params['min_child_weight'] = min_child_weight\n",
        "\n",
        "  # Run CV\n",
        "\n",
        "  cv_results = xgb.cv(\n",
        "      params,\n",
        "      train_data,\n",
        "      num_boost_round=num_boost_round,\n",
        "      seed=42,\n",
        "      nfold=5,\n",
        "      metrics={'auc'},\n",
        "      early_stopping_rounds=10\n",
        "  )\n",
        "\n",
        "  # Update best Accuracy\n",
        "\n",
        "  mean_auc = cv_results['test-auc-mean'].max()\n",
        "  boost_rounds = cv_results['test-auc-mean'].argmax()\n",
        "  print(f\"\\tAUC {mean_auc} for {boost_rounds} rounds\")\n",
        "  if mean_auc > max_auc:\n",
        "    max_auc = mean_auc\n",
        "    best_params = (max_depth,min_child_weight)\n",
        "\n",
        "print(f\"\\nBest params:\\n Max_Depth: {best_params[0]}, Min_Child_Width: {best_params[1]}, AUC: {max_auc}\")\n",
        "\n",
        "# Updating the params as well\n",
        "\n",
        "params['max_depth'] = best_params[0]\n",
        "params['min_child_weight'] = best_params[1]"
      ],
      "execution_count": 210,
      "outputs": [
        {
          "output_type": "stream",
          "text": [
            "CV with max_depth = 9 , min_child_weight = 5\n",
            "\tAUC 0.8714919999999999 for 15 rounds\n",
            "CV with max_depth = 9 , min_child_weight = 6\n",
            "\tAUC 0.866348 for 12 rounds\n",
            "CV with max_depth = 9 , min_child_weight = 7\n",
            "\tAUC 0.8644958 for 15 rounds\n",
            "CV with max_depth = 10 , min_child_weight = 5\n",
            "\tAUC 0.8708164 for 15 rounds\n",
            "CV with max_depth = 10 , min_child_weight = 6\n",
            "\tAUC 0.8672262 for 15 rounds\n",
            "CV with max_depth = 10 , min_child_weight = 7\n",
            "\tAUC 0.8644958 for 15 rounds\n",
            "CV with max_depth = 11 , min_child_weight = 5\n",
            "\tAUC 0.8704272 for 15 rounds\n",
            "CV with max_depth = 11 , min_child_weight = 6\n",
            "\tAUC 0.8672262 for 15 rounds\n",
            "CV with max_depth = 11 , min_child_weight = 7\n",
            "\tAUC 0.8644958 for 15 rounds\n",
            "\n",
            "Best params:\n",
            " Max_Depth: 9, Min_Child_Width: 5, AUC: 0.8714919999999999\n"
          ],
          "name": "stdout"
        }
      ]
    },
    {
      "cell_type": "code",
      "metadata": {
        "id": "CP0FXca6JNWc",
        "colab_type": "code",
        "colab": {
          "base_uri": "https://localhost:8080/",
          "height": 612
        },
        "outputId": "b13edfe3-fa64-4107-9282-c1fabf04d8b2"
      },
      "source": [
        "# Tuning Parameters subsample and colsample_bytree\n",
        "\n",
        "gridsearch_params = [\n",
        "    (subsample, colsample)\n",
        "    for subsample in [i/10. for i in range(7,11)]\n",
        "    for colsample in [i/10. for i in range(7,11)]\n",
        "]\n",
        "\n",
        "max_auc = float('-inf')\n",
        "best_params = None\n",
        "\n",
        "# We start by the largest values and go down to the smallest\n",
        "for subsample, colsample in reversed(gridsearch_params):\n",
        "  print(f'CV with subsample = {subsample} , colsample = {colsample}')\n",
        "\n",
        "  # We update our parameters\n",
        "\n",
        "  params['subsample'] = subsample\n",
        "  params['colsample_bytree'] = colsample\n",
        "\n",
        "  # Run CV\n",
        "\n",
        "  cv_results = xgb.cv(\n",
        "      params,\n",
        "      train_data,\n",
        "      num_boost_round=num_boost_round,\n",
        "      seed=42,\n",
        "      nfold=5,\n",
        "      metrics={'auc'},\n",
        "      early_stopping_rounds=10\n",
        "  )\n",
        "  # Update best score\n",
        "\n",
        "  mean_auc = cv_results['test-auc-mean'].max()\n",
        "  boost_rounds = cv_results['test-auc-mean'].argmax()\n",
        "  print(f\"\\tAUC {mean_auc} for {boost_rounds} rounds\")\n",
        "  if mean_auc > max_auc:\n",
        "    max_auc = mean_auc\n",
        "    best_params = (subsample,colsample) \n",
        "\n",
        "print(f\"\\nBest params:\\n Subsample: {best_params[0]}, Colsample: {best_params[1]}, AUC: {max_auc}\")\n",
        "\n",
        "# Updating the params as well\n",
        "\n",
        "params['subsample'] = best_params[0]\n",
        "params['colsample'] = best_params[1]"
      ],
      "execution_count": 211,
      "outputs": [
        {
          "output_type": "stream",
          "text": [
            "CV with subsample = 1.0 , colsample = 1.0\n",
            "\tAUC 0.8714919999999999 for 15 rounds\n",
            "CV with subsample = 1.0 , colsample = 0.9\n",
            "\tAUC 0.8713284 for 15 rounds\n",
            "CV with subsample = 1.0 , colsample = 0.8\n",
            "\tAUC 0.8732631999999999 for 15 rounds\n",
            "CV with subsample = 1.0 , colsample = 0.7\n",
            "\tAUC 0.8704954 for 14 rounds\n",
            "CV with subsample = 0.9 , colsample = 1.0\n",
            "\tAUC 0.8709182 for 14 rounds\n",
            "CV with subsample = 0.9 , colsample = 0.9\n",
            "\tAUC 0.8742612000000001 for 15 rounds\n",
            "CV with subsample = 0.9 , colsample = 0.8\n",
            "\tAUC 0.8697642 for 15 rounds\n",
            "CV with subsample = 0.9 , colsample = 0.7\n",
            "\tAUC 0.8703809999999998 for 15 rounds\n",
            "CV with subsample = 0.8 , colsample = 1.0\n",
            "\tAUC 0.8690244 for 15 rounds\n",
            "CV with subsample = 0.8 , colsample = 0.9\n",
            "\tAUC 0.8688892000000001 for 15 rounds\n",
            "CV with subsample = 0.8 , colsample = 0.8\n",
            "\tAUC 0.8658816 for 14 rounds\n",
            "CV with subsample = 0.8 , colsample = 0.7\n",
            "\tAUC 0.8649140000000001 for 15 rounds\n",
            "CV with subsample = 0.7 , colsample = 1.0\n",
            "\tAUC 0.8693595999999999 for 13 rounds\n",
            "CV with subsample = 0.7 , colsample = 0.9\n",
            "\tAUC 0.8658082 for 13 rounds\n",
            "CV with subsample = 0.7 , colsample = 0.8\n",
            "\tAUC 0.8673976 for 9 rounds\n",
            "CV with subsample = 0.7 , colsample = 0.7\n",
            "\tAUC 0.8701586000000001 for 15 rounds\n",
            "\n",
            "Best params:\n",
            " Subsample: 0.9, Colsample: 0.9, AUC: 0.8742612000000001\n"
          ],
          "name": "stdout"
        }
      ]
    },
    {
      "cell_type": "code",
      "metadata": {
        "id": "rluG70kRMAnO",
        "colab_type": "code",
        "colab": {
          "base_uri": "https://localhost:8080/",
          "height": 272
        },
        "outputId": "eb3fc3de-d72b-4235-db9e-20719edaec2c"
      },
      "source": [
        "# Tuning Parameters Learning Rate(ETA)\n",
        "\n",
        "max_auc = float('-inf')\n",
        "best_params = None\n",
        "\n",
        "for eta in [.3, .2, .1, .05, .01, .005]:\n",
        "\n",
        "  print(\"CV with eta={}\".format(eta))\n",
        "\n",
        "  # We update our parameters\n",
        "\n",
        "  params['eta'] = eta\n",
        "\n",
        "  # Run and time CV\n",
        "\n",
        "  cv_results = xgb.cv(\n",
        "      params,\n",
        "      train_data,\n",
        "      num_boost_round=num_boost_round,\n",
        "      seed=42,\n",
        "      nfold=5,\n",
        "      metrics=['auc'],\n",
        "      early_stopping_rounds=10\n",
        "  )\n",
        "  \n",
        "  # Update best score\n",
        "\n",
        "  mean_auc = cv_results['test-auc-mean'].max()\n",
        "  boost_rounds = cv_results['test-auc-mean'].argmax()\n",
        "  print(f\"\\tAUC {mean_auc} for {boost_rounds} rounds\")\n",
        "  if mean_auc > max_auc:\n",
        "    max_auc = mean_auc\n",
        "    best_params = eta\n",
        "\n",
        "print(f\"\\nBest params:\\n Eta(Learning Rate): {best_params} , AUC: {max_auc}\")\n",
        "params['eta'] = best_params"
      ],
      "execution_count": 212,
      "outputs": [
        {
          "output_type": "stream",
          "text": [
            "CV with eta=0.3\n",
            "\tAUC 0.8703809999999998 for 15 rounds\n",
            "CV with eta=0.2\n",
            "\tAUC 0.8683356 for 15 rounds\n",
            "CV with eta=0.1\n",
            "\tAUC 0.8662946 for 15 rounds\n",
            "CV with eta=0.05\n",
            "\tAUC 0.8621328 for 14 rounds\n",
            "CV with eta=0.01\n",
            "\tAUC 0.8625724 for 9 rounds\n",
            "CV with eta=0.005\n",
            "\tAUC 0.8623236000000001 for 9 rounds\n",
            "\n",
            "Best params:\n",
            " Eta(Learning Rate): 0.3 , AUC: 0.8703809999999998\n"
          ],
          "name": "stdout"
        }
      ]
    },
    {
      "cell_type": "markdown",
      "metadata": {
        "id": "FeSPlpBLOOeZ",
        "colab_type": "text"
      },
      "source": [
        "## 8) Training with the hypertuned parameters"
      ]
    },
    {
      "cell_type": "code",
      "metadata": {
        "id": "3PVY5I1hTvy0",
        "colab_type": "code",
        "colab": {
          "base_uri": "https://localhost:8080/",
          "height": 54
        },
        "outputId": "0b933dea-b7d1-4eea-990a-ce5169dee89d"
      },
      "source": [
        "print(params)"
      ],
      "execution_count": 213,
      "outputs": [
        {
          "output_type": "stream",
          "text": [
            "{'max_depth': 9, 'min_child_weight': 5, 'eta': 0.3, 'subsample': 0.9, 'colsample_bytree': 0.7, 'eval_metric': 'auc', 'early_stopping_rounds': 10, 'objective': 'binary:logistic', 'colsample': 0.9}\n"
          ],
          "name": "stdout"
        }
      ]
    },
    {
      "cell_type": "code",
      "metadata": {
        "id": "xnFjQSTMOMlV",
        "colab_type": "code",
        "colab": {
          "base_uri": "https://localhost:8080/",
          "height": 54
        },
        "outputId": "27a98d16-474f-4ef9-f6d0-bc80fa881eb1"
      },
      "source": [
        "\"\"\"\n",
        "xg_clf = xgb.XGBClassifier(objective ='binary:logistic', \n",
        "                          max_depth = 6,  \n",
        "                          n_estimators = 16,\n",
        "                          random_state = 10\n",
        "                          )\n",
        "                          \"\"\"\n",
        "xg_clf = xgb.XGBClassifier(objective= 'binary:logistic', \n",
        "                           max_depth= 9, \n",
        "                           min_child_weight= 5,\n",
        "                           eta= 0.3, \n",
        "                           subsample= 0.9,\n",
        "                           colsample_bytree= 0.7,  \n",
        "                           early_stopping_rounds= 10, \n",
        "                           colsample= 0.9,\n",
        "                           n_estimators=16)\n",
        "\n",
        "\"\"\"\n",
        "'max_depth': 9, \n",
        "'min_child_weight': 5, \n",
        "'eta': 0.3, \n",
        "'subsample': 0.9,\n",
        "'colsample_bytree': 0.7, \n",
        "'eval_metric': 'auc', \n",
        "'early_stopping_rounds': 10, \n",
        "'objective': 'binary:logistic', \n",
        "'colsample': 0.9\n",
        "\"\"\""
      ],
      "execution_count": 224,
      "outputs": [
        {
          "output_type": "execute_result",
          "data": {
            "text/plain": [
              "\"\\n'max_depth': 9, \\n'min_child_weight': 5, \\n'eta': 0.3, \\n'subsample': 0.9,\\n'colsample_bytree': 0.7, \\n'eval_metric': 'auc', \\n'early_stopping_rounds': 10, \\n'objective': 'binary:logistic', \\n'colsample': 0.9\\n\""
            ]
          },
          "metadata": {
            "tags": []
          },
          "execution_count": 224
        }
      ]
    },
    {
      "cell_type": "code",
      "metadata": {
        "id": "IEoDAlZCUuBF",
        "colab_type": "code",
        "colab": {
          "base_uri": "https://localhost:8080/",
          "height": 153
        },
        "outputId": "98945298-277f-4a43-afcd-753482861a23"
      },
      "source": [
        "xg_clf.fit(X_train,y_train)"
      ],
      "execution_count": 225,
      "outputs": [
        {
          "output_type": "execute_result",
          "data": {
            "text/plain": [
              "XGBClassifier(base_score=0.5, booster='gbtree', colsample=0.9,\n",
              "              colsample_bylevel=1, colsample_bynode=1, colsample_bytree=0.7,\n",
              "              early_stopping_rounds=10, eta=0.3, gamma=0, learning_rate=0.1,\n",
              "              max_delta_step=0, max_depth=9, min_child_weight=5, missing=None,\n",
              "              n_estimators=16, n_jobs=1, nthread=None,\n",
              "              objective='binary:logistic', random_state=0, reg_alpha=0,\n",
              "              reg_lambda=1, scale_pos_weight=1, seed=None, silent=None,\n",
              "              subsample=0.9, verbosity=1)"
            ]
          },
          "metadata": {
            "tags": []
          },
          "execution_count": 225
        }
      ]
    },
    {
      "cell_type": "code",
      "metadata": {
        "id": "1FM8cSu1U-VS",
        "colab_type": "code",
        "colab": {}
      },
      "source": [
        "y_preds = xg_clf.predict(X_val)"
      ],
      "execution_count": 0,
      "outputs": []
    },
    {
      "cell_type": "code",
      "metadata": {
        "id": "knkfPuyBVF64",
        "colab_type": "code",
        "colab": {
          "base_uri": "https://localhost:8080/",
          "height": 51
        },
        "outputId": "d4b8e1ab-2161-42e2-9f8d-b94a253b10e2"
      },
      "source": [
        "from sklearn.metrics import confusion_matrix\n",
        "cm = confusion_matrix(y_preds,y_val)\n",
        "print(cm)"
      ],
      "execution_count": 227,
      "outputs": [
        {
          "output_type": "stream",
          "text": [
            "[[49 13]\n",
            " [ 2 26]]\n"
          ],
          "name": "stdout"
        }
      ]
    },
    {
      "cell_type": "code",
      "metadata": {
        "id": "gviNssft8Cq4",
        "colab_type": "code",
        "colab": {
          "base_uri": "https://localhost:8080/",
          "height": 34
        },
        "outputId": "6dff5959-c954-49de-e36b-16f5e4983ed7"
      },
      "source": [
        "from sklearn.metrics import accuracy_score\n",
        "print(accuracy_score(y_preds,y_val))"
      ],
      "execution_count": 228,
      "outputs": [
        {
          "output_type": "stream",
          "text": [
            "0.8333333333333334\n"
          ],
          "name": "stdout"
        }
      ]
    },
    {
      "cell_type": "markdown",
      "metadata": {
        "id": "sM82V0ZMCF-N",
        "colab_type": "text"
      },
      "source": [
        "## 7) Predicting the actual results"
      ]
    },
    {
      "cell_type": "code",
      "metadata": {
        "id": "xgEdgdauB_yw",
        "colab_type": "code",
        "colab": {}
      },
      "source": [
        "y_pred = xg_clf.predict(X_test)"
      ],
      "execution_count": 0,
      "outputs": []
    },
    {
      "cell_type": "code",
      "metadata": {
        "id": "mBRpCowUCLce",
        "colab_type": "code",
        "outputId": "48cd5f57-3ab6-4515-aba5-e4f8f8b35907",
        "colab": {
          "base_uri": "https://localhost:8080/",
          "height": 340
        }
      },
      "source": [
        "y_pred"
      ],
      "execution_count": 230,
      "outputs": [
        {
          "output_type": "execute_result",
          "data": {
            "text/plain": [
              "array([0, 0, 0, 0, 1, 0, 1, 0, 1, 0, 0, 0, 1, 0, 1, 1, 0, 0, 0, 1, 0, 1,\n",
              "       1, 0, 1, 0, 1, 0, 0, 0, 0, 0, 1, 0, 0, 0, 0, 0, 0, 0, 0, 0, 0, 1,\n",
              "       1, 0, 0, 0, 1, 1, 0, 0, 1, 1, 0, 0, 0, 0, 0, 1, 0, 0, 0, 1, 0, 1,\n",
              "       1, 0, 0, 1, 1, 0, 0, 0, 1, 0, 0, 1, 0, 1, 1, 0, 0, 0, 0, 0, 1, 0,\n",
              "       1, 1, 1, 0, 1, 0, 0, 0, 1, 0, 1, 0, 1, 0, 0, 0, 1, 0, 0, 0, 0, 0,\n",
              "       0, 1, 1, 1, 1, 0, 0, 1, 0, 1, 1, 0, 1, 0, 0, 1, 0, 1, 0, 0, 0, 0,\n",
              "       0, 0, 0, 0, 0, 0, 0, 0, 0, 1, 0, 0, 1, 0, 0, 0, 0, 0, 1, 0, 0, 0,\n",
              "       0, 0, 1, 1, 1, 0, 1, 1, 1, 0, 0, 1, 0, 0, 1, 0, 0, 0, 0, 0, 0, 1,\n",
              "       1, 0, 1, 1, 0, 0, 1, 0, 1, 0, 1, 0, 0, 0, 0, 0, 1, 0, 1, 0, 1, 1,\n",
              "       0, 0, 1, 1, 0, 1, 0, 0, 1, 0, 1, 0, 0, 0, 0, 1, 0, 0, 1, 0, 1, 0,\n",
              "       1, 0, 1, 0, 1, 0, 0, 1, 0, 0, 0, 1, 0, 0, 0, 0, 0, 0, 1, 1, 1, 1,\n",
              "       0, 0, 0, 0, 1, 0, 1, 0, 1, 0, 0, 0, 0, 0, 0, 0, 1, 0, 0, 0, 1, 1,\n",
              "       0, 0, 0, 0, 0, 0, 0, 0, 1, 1, 0, 1, 0, 0, 0, 0, 0, 1, 1, 1, 1, 0,\n",
              "       0, 0, 0, 0, 0, 1, 0, 0, 0, 0, 1, 0, 0, 0, 0, 0, 0, 0, 1, 1, 0, 1,\n",
              "       0, 0, 0, 0, 0, 1, 1, 1, 0, 0, 0, 0, 0, 0, 0, 1, 1, 0, 1, 0, 0, 0,\n",
              "       1, 0, 0, 1, 0, 0, 0, 0, 0, 0, 0, 0, 0, 1, 0, 1, 0, 1, 0, 1, 1, 0,\n",
              "       0, 0, 1, 0, 1, 0, 0, 1, 0, 1, 1, 0, 1, 0, 0, 1, 1, 0, 0, 1, 0, 0,\n",
              "       1, 1, 0, 0, 0, 0, 0, 0, 0, 1, 0, 1, 0, 0, 0, 0, 0, 1, 1, 0, 0, 1,\n",
              "       0, 1, 0, 0, 1, 0, 1, 0, 0, 0, 0, 0, 1, 1, 1, 1, 1, 0, 1, 0, 0, 1])"
            ]
          },
          "metadata": {
            "tags": []
          },
          "execution_count": 230
        }
      ]
    },
    {
      "cell_type": "markdown",
      "metadata": {
        "id": "G7VEjiegCvuM",
        "colab_type": "text"
      },
      "source": [
        "## 8) Saving the results into a csv file"
      ]
    },
    {
      "cell_type": "code",
      "metadata": {
        "id": "Srr8Q5FQCMwA",
        "colab_type": "code",
        "outputId": "55cd268d-c891-45ff-cfe2-4e255c4a79c9",
        "colab": {
          "base_uri": "https://localhost:8080/",
          "height": 419
        }
      },
      "source": [
        "submission = pd.DataFrame({'PassengerId':df_test['PassengerId'],'Survived':y_pred})\n",
        "submission"
      ],
      "execution_count": 231,
      "outputs": [
        {
          "output_type": "execute_result",
          "data": {
            "text/html": [
              "<div>\n",
              "<style scoped>\n",
              "    .dataframe tbody tr th:only-of-type {\n",
              "        vertical-align: middle;\n",
              "    }\n",
              "\n",
              "    .dataframe tbody tr th {\n",
              "        vertical-align: top;\n",
              "    }\n",
              "\n",
              "    .dataframe thead th {\n",
              "        text-align: right;\n",
              "    }\n",
              "</style>\n",
              "<table border=\"1\" class=\"dataframe\">\n",
              "  <thead>\n",
              "    <tr style=\"text-align: right;\">\n",
              "      <th></th>\n",
              "      <th>PassengerId</th>\n",
              "      <th>Survived</th>\n",
              "    </tr>\n",
              "  </thead>\n",
              "  <tbody>\n",
              "    <tr>\n",
              "      <th>0</th>\n",
              "      <td>892</td>\n",
              "      <td>0</td>\n",
              "    </tr>\n",
              "    <tr>\n",
              "      <th>1</th>\n",
              "      <td>893</td>\n",
              "      <td>0</td>\n",
              "    </tr>\n",
              "    <tr>\n",
              "      <th>2</th>\n",
              "      <td>894</td>\n",
              "      <td>0</td>\n",
              "    </tr>\n",
              "    <tr>\n",
              "      <th>3</th>\n",
              "      <td>895</td>\n",
              "      <td>0</td>\n",
              "    </tr>\n",
              "    <tr>\n",
              "      <th>4</th>\n",
              "      <td>896</td>\n",
              "      <td>1</td>\n",
              "    </tr>\n",
              "    <tr>\n",
              "      <th>...</th>\n",
              "      <td>...</td>\n",
              "      <td>...</td>\n",
              "    </tr>\n",
              "    <tr>\n",
              "      <th>413</th>\n",
              "      <td>1305</td>\n",
              "      <td>0</td>\n",
              "    </tr>\n",
              "    <tr>\n",
              "      <th>414</th>\n",
              "      <td>1306</td>\n",
              "      <td>1</td>\n",
              "    </tr>\n",
              "    <tr>\n",
              "      <th>415</th>\n",
              "      <td>1307</td>\n",
              "      <td>0</td>\n",
              "    </tr>\n",
              "    <tr>\n",
              "      <th>416</th>\n",
              "      <td>1308</td>\n",
              "      <td>0</td>\n",
              "    </tr>\n",
              "    <tr>\n",
              "      <th>417</th>\n",
              "      <td>1309</td>\n",
              "      <td>1</td>\n",
              "    </tr>\n",
              "  </tbody>\n",
              "</table>\n",
              "<p>418 rows × 2 columns</p>\n",
              "</div>"
            ],
            "text/plain": [
              "     PassengerId  Survived\n",
              "0            892         0\n",
              "1            893         0\n",
              "2            894         0\n",
              "3            895         0\n",
              "4            896         1\n",
              "..           ...       ...\n",
              "413         1305         0\n",
              "414         1306         1\n",
              "415         1307         0\n",
              "416         1308         0\n",
              "417         1309         1\n",
              "\n",
              "[418 rows x 2 columns]"
            ]
          },
          "metadata": {
            "tags": []
          },
          "execution_count": 231
        }
      ]
    },
    {
      "cell_type": "code",
      "metadata": {
        "id": "k3oYBNqbCrFp",
        "colab_type": "code",
        "colab": {}
      },
      "source": [
        "submission.to_csv('tuned_hyperparameter_result.csv',index=False)"
      ],
      "execution_count": 0,
      "outputs": []
    },
    {
      "cell_type": "code",
      "metadata": {
        "id": "01vJ0AmdJZb7",
        "colab_type": "code",
        "colab": {}
      },
      "source": [
        ""
      ],
      "execution_count": 0,
      "outputs": []
    }
  ]
}